{
 "cells": [
  {
   "cell_type": "markdown",
   "id": "a0584ebd",
   "metadata": {},
   "source": [
    "# Handling Missing Data"
   ]
  },
  {
   "cell_type": "markdown",
   "id": "28b13b00",
   "metadata": {},
   "source": [
    "Why can a dataset have missing values? Sometimes an observation could not be recorded for whatever reason, like a sensor or instrument being broken or a survey respondent chose to not answer a question. Unfortunately, machine learning and statistical models often do not cope well with missing values. For this reason you will likely consider removing them. \n",
    "\n",
    "In this section, we will cover how to identify and remove data related to missing values.\n",
    "\n",
    "> Please be advised you should fully understand why values are missing and trace back to the source of what produced the data. You should also be mindful of any selection biases that might emerge because of the missing data. For example, if you remove survey respondent records that did not answer a certain question... that can bias your models towards the population that chose to answer! Sometimes it is more interesting to ask why values are missing than just ignoring them. "
   ]
  },
  {
   "cell_type": "markdown",
   "id": "17d7ea7b",
   "metadata": {},
   "source": [
    "To get setup, let's bring in a SQLite database and extract the data from the `WEATHER_MONITOR` table. However, we will only analyze on region of stations by getting only records with `LOCATION_ID` of `2`,`28`, or `48`, and for the month of April. We will have SQL do that filtering. "
   ]
  },
  {
   "cell_type": "code",
   "execution_count": 1,
   "id": "6a553272",
   "metadata": {},
   "outputs": [
    {
     "data": {
      "text/html": [
       "<div>\n",
       "<style scoped>\n",
       "    .dataframe tbody tr th:only-of-type {\n",
       "        vertical-align: middle;\n",
       "    }\n",
       "\n",
       "    .dataframe tbody tr th {\n",
       "        vertical-align: top;\n",
       "    }\n",
       "\n",
       "    .dataframe thead th {\n",
       "        text-align: right;\n",
       "    }\n",
       "</style>\n",
       "<table border=\"1\" class=\"dataframe\">\n",
       "  <thead>\n",
       "    <tr style=\"text-align: right;\">\n",
       "      <th></th>\n",
       "      <th>ID</th>\n",
       "      <th>REPORT_CODE</th>\n",
       "      <th>REPORT_DATE</th>\n",
       "      <th>LOCATION_ID</th>\n",
       "      <th>TEMPERATURE</th>\n",
       "      <th>OVERCAST</th>\n",
       "      <th>RAIN</th>\n",
       "      <th>SNOW</th>\n",
       "      <th>LIGHTNING</th>\n",
       "      <th>HAIL</th>\n",
       "      <th>TORNADO</th>\n",
       "    </tr>\n",
       "  </thead>\n",
       "  <tbody>\n",
       "    <tr>\n",
       "      <th>0</th>\n",
       "      <td>5</td>\n",
       "      <td>EHVUPGY</td>\n",
       "      <td>2021-04-09</td>\n",
       "      <td>48</td>\n",
       "      <td>58.5</td>\n",
       "      <td>0</td>\n",
       "      <td>0.00</td>\n",
       "      <td>0.0</td>\n",
       "      <td>0</td>\n",
       "      <td>0</td>\n",
       "      <td>0</td>\n",
       "    </tr>\n",
       "    <tr>\n",
       "      <th>1</th>\n",
       "      <td>13</td>\n",
       "      <td>NJOJ7KK</td>\n",
       "      <td>2021-04-14</td>\n",
       "      <td>2</td>\n",
       "      <td>51.3</td>\n",
       "      <td>0</td>\n",
       "      <td>0.00</td>\n",
       "      <td>0.0</td>\n",
       "      <td>0</td>\n",
       "      <td>0</td>\n",
       "      <td>0</td>\n",
       "    </tr>\n",
       "    <tr>\n",
       "      <th>2</th>\n",
       "      <td>49</td>\n",
       "      <td>N9LZ2TF</td>\n",
       "      <td>2021-04-29</td>\n",
       "      <td>48</td>\n",
       "      <td>62.1</td>\n",
       "      <td>0</td>\n",
       "      <td>0.00</td>\n",
       "      <td>0.0</td>\n",
       "      <td>0</td>\n",
       "      <td>0</td>\n",
       "      <td>0</td>\n",
       "    </tr>\n",
       "    <tr>\n",
       "      <th>3</th>\n",
       "      <td>56</td>\n",
       "      <td>JWSTJ8A</td>\n",
       "      <td>2021-04-06</td>\n",
       "      <td>2</td>\n",
       "      <td>60.9</td>\n",
       "      <td>1</td>\n",
       "      <td>1.33</td>\n",
       "      <td>0.0</td>\n",
       "      <td>1</td>\n",
       "      <td>0</td>\n",
       "      <td>0</td>\n",
       "    </tr>\n",
       "    <tr>\n",
       "      <th>4</th>\n",
       "      <td>99</td>\n",
       "      <td>93E6EOR</td>\n",
       "      <td>2021-04-17</td>\n",
       "      <td>28</td>\n",
       "      <td>58.1</td>\n",
       "      <td>1</td>\n",
       "      <td>1.61</td>\n",
       "      <td>0.0</td>\n",
       "      <td>1</td>\n",
       "      <td>0</td>\n",
       "      <td>0</td>\n",
       "    </tr>\n",
       "    <tr>\n",
       "      <th>5</th>\n",
       "      <td>115</td>\n",
       "      <td>CYJP2T1</td>\n",
       "      <td>2021-04-01</td>\n",
       "      <td>48</td>\n",
       "      <td>56.4</td>\n",
       "      <td>1</td>\n",
       "      <td>NaN</td>\n",
       "      <td>0.0</td>\n",
       "      <td>0</td>\n",
       "      <td>0</td>\n",
       "      <td>0</td>\n",
       "    </tr>\n",
       "    <tr>\n",
       "      <th>6</th>\n",
       "      <td>132</td>\n",
       "      <td>RUJFBCR</td>\n",
       "      <td>2021-04-18</td>\n",
       "      <td>2</td>\n",
       "      <td>59.2</td>\n",
       "      <td>0</td>\n",
       "      <td>0.00</td>\n",
       "      <td>0.0</td>\n",
       "      <td>0</td>\n",
       "      <td>0</td>\n",
       "      <td>0</td>\n",
       "    </tr>\n",
       "    <tr>\n",
       "      <th>7</th>\n",
       "      <td>187</td>\n",
       "      <td>TV9XROC</td>\n",
       "      <td>2021-04-18</td>\n",
       "      <td>48</td>\n",
       "      <td>66.0</td>\n",
       "      <td>1</td>\n",
       "      <td>0.00</td>\n",
       "      <td>0.0</td>\n",
       "      <td>0</td>\n",
       "      <td>1</td>\n",
       "      <td>1</td>\n",
       "    </tr>\n",
       "    <tr>\n",
       "      <th>8</th>\n",
       "      <td>205</td>\n",
       "      <td>A66GZWC</td>\n",
       "      <td>2021-04-27</td>\n",
       "      <td>48</td>\n",
       "      <td>65.7</td>\n",
       "      <td>1</td>\n",
       "      <td>0.00</td>\n",
       "      <td>0.0</td>\n",
       "      <td>1</td>\n",
       "      <td>0</td>\n",
       "      <td>0</td>\n",
       "    </tr>\n",
       "    <tr>\n",
       "      <th>9</th>\n",
       "      <td>242</td>\n",
       "      <td>4BP1L1R</td>\n",
       "      <td>2021-04-27</td>\n",
       "      <td>28</td>\n",
       "      <td>58.8</td>\n",
       "      <td>0</td>\n",
       "      <td>0.00</td>\n",
       "      <td>0.0</td>\n",
       "      <td>0</td>\n",
       "      <td>0</td>\n",
       "      <td>0</td>\n",
       "    </tr>\n",
       "    <tr>\n",
       "      <th>10</th>\n",
       "      <td>318</td>\n",
       "      <td>EL7KNY6</td>\n",
       "      <td>2021-04-25</td>\n",
       "      <td>2</td>\n",
       "      <td>58.3</td>\n",
       "      <td>1</td>\n",
       "      <td>1.68</td>\n",
       "      <td>0.0</td>\n",
       "      <td>0</td>\n",
       "      <td>0</td>\n",
       "      <td>0</td>\n",
       "    </tr>\n",
       "    <tr>\n",
       "      <th>11</th>\n",
       "      <td>450</td>\n",
       "      <td>ALJV5MJ</td>\n",
       "      <td>2021-04-14</td>\n",
       "      <td>48</td>\n",
       "      <td>50.9</td>\n",
       "      <td>1</td>\n",
       "      <td>2.50</td>\n",
       "      <td>0.0</td>\n",
       "      <td>0</td>\n",
       "      <td>0</td>\n",
       "      <td>0</td>\n",
       "    </tr>\n",
       "    <tr>\n",
       "      <th>12</th>\n",
       "      <td>466</td>\n",
       "      <td>U91W7VE</td>\n",
       "      <td>2021-04-15</td>\n",
       "      <td>28</td>\n",
       "      <td>NaN</td>\n",
       "      <td>0</td>\n",
       "      <td>0.00</td>\n",
       "      <td>0.0</td>\n",
       "      <td>0</td>\n",
       "      <td>0</td>\n",
       "      <td>0</td>\n",
       "    </tr>\n",
       "    <tr>\n",
       "      <th>13</th>\n",
       "      <td>479</td>\n",
       "      <td>6XKADT0</td>\n",
       "      <td>2021-04-16</td>\n",
       "      <td>2</td>\n",
       "      <td>60.3</td>\n",
       "      <td>1</td>\n",
       "      <td>1.81</td>\n",
       "      <td>0.0</td>\n",
       "      <td>0</td>\n",
       "      <td>0</td>\n",
       "      <td>0</td>\n",
       "    </tr>\n",
       "    <tr>\n",
       "      <th>14</th>\n",
       "      <td>482</td>\n",
       "      <td>H92H75R</td>\n",
       "      <td>2021-04-08</td>\n",
       "      <td>28</td>\n",
       "      <td>66.4</td>\n",
       "      <td>0</td>\n",
       "      <td>0.00</td>\n",
       "      <td>0.0</td>\n",
       "      <td>0</td>\n",
       "      <td>0</td>\n",
       "      <td>0</td>\n",
       "    </tr>\n",
       "    <tr>\n",
       "      <th>15</th>\n",
       "      <td>488</td>\n",
       "      <td>NKIAOON</td>\n",
       "      <td>2021-04-21</td>\n",
       "      <td>28</td>\n",
       "      <td>55.8</td>\n",
       "      <td>1</td>\n",
       "      <td>3.30</td>\n",
       "      <td>0.0</td>\n",
       "      <td>1</td>\n",
       "      <td>0</td>\n",
       "      <td>0</td>\n",
       "    </tr>\n",
       "    <tr>\n",
       "      <th>16</th>\n",
       "      <td>579</td>\n",
       "      <td>5Z730EV</td>\n",
       "      <td>2021-04-02</td>\n",
       "      <td>2</td>\n",
       "      <td>57.5</td>\n",
       "      <td>0</td>\n",
       "      <td>0.00</td>\n",
       "      <td>0.0</td>\n",
       "      <td>0</td>\n",
       "      <td>0</td>\n",
       "      <td>0</td>\n",
       "    </tr>\n",
       "    <tr>\n",
       "      <th>17</th>\n",
       "      <td>618</td>\n",
       "      <td>NQC2HS6</td>\n",
       "      <td>2021-04-01</td>\n",
       "      <td>48</td>\n",
       "      <td>60.9</td>\n",
       "      <td>0</td>\n",
       "      <td>0.00</td>\n",
       "      <td>0.0</td>\n",
       "      <td>0</td>\n",
       "      <td>0</td>\n",
       "      <td>0</td>\n",
       "    </tr>\n",
       "    <tr>\n",
       "      <th>18</th>\n",
       "      <td>713</td>\n",
       "      <td>ST9N6RZ</td>\n",
       "      <td>2021-04-29</td>\n",
       "      <td>28</td>\n",
       "      <td>56.0</td>\n",
       "      <td>1</td>\n",
       "      <td>NaN</td>\n",
       "      <td>0.0</td>\n",
       "      <td>0</td>\n",
       "      <td>1</td>\n",
       "      <td>1</td>\n",
       "    </tr>\n",
       "    <tr>\n",
       "      <th>19</th>\n",
       "      <td>716</td>\n",
       "      <td>87WYPTR</td>\n",
       "      <td>2021-04-30</td>\n",
       "      <td>48</td>\n",
       "      <td>61.0</td>\n",
       "      <td>1</td>\n",
       "      <td>NaN</td>\n",
       "      <td>0.0</td>\n",
       "      <td>0</td>\n",
       "      <td>1</td>\n",
       "      <td>1</td>\n",
       "    </tr>\n",
       "    <tr>\n",
       "      <th>20</th>\n",
       "      <td>805</td>\n",
       "      <td>YOJYCSM</td>\n",
       "      <td>2021-04-24</td>\n",
       "      <td>48</td>\n",
       "      <td>65.4</td>\n",
       "      <td>1</td>\n",
       "      <td>3.25</td>\n",
       "      <td>0.0</td>\n",
       "      <td>0</td>\n",
       "      <td>0</td>\n",
       "      <td>0</td>\n",
       "    </tr>\n",
       "    <tr>\n",
       "      <th>21</th>\n",
       "      <td>823</td>\n",
       "      <td>PX68JS9</td>\n",
       "      <td>2021-04-15</td>\n",
       "      <td>48</td>\n",
       "      <td>58.2</td>\n",
       "      <td>1</td>\n",
       "      <td>0.00</td>\n",
       "      <td>0.0</td>\n",
       "      <td>0</td>\n",
       "      <td>0</td>\n",
       "      <td>0</td>\n",
       "    </tr>\n",
       "    <tr>\n",
       "      <th>22</th>\n",
       "      <td>945</td>\n",
       "      <td>8DRA5FH</td>\n",
       "      <td>2021-04-01</td>\n",
       "      <td>28</td>\n",
       "      <td>66.6</td>\n",
       "      <td>1</td>\n",
       "      <td>1.69</td>\n",
       "      <td>0.0</td>\n",
       "      <td>1</td>\n",
       "      <td>0</td>\n",
       "      <td>0</td>\n",
       "    </tr>\n",
       "  </tbody>\n",
       "</table>\n",
       "</div>"
      ],
      "text/plain": [
       "     ID REPORT_CODE REPORT_DATE  LOCATION_ID  TEMPERATURE  OVERCAST  RAIN  \\\n",
       "0     5     EHVUPGY  2021-04-09           48         58.5         0  0.00   \n",
       "1    13     NJOJ7KK  2021-04-14            2         51.3         0  0.00   \n",
       "2    49     N9LZ2TF  2021-04-29           48         62.1         0  0.00   \n",
       "3    56     JWSTJ8A  2021-04-06            2         60.9         1  1.33   \n",
       "4    99     93E6EOR  2021-04-17           28         58.1         1  1.61   \n",
       "5   115     CYJP2T1  2021-04-01           48         56.4         1   NaN   \n",
       "6   132     RUJFBCR  2021-04-18            2         59.2         0  0.00   \n",
       "7   187     TV9XROC  2021-04-18           48         66.0         1  0.00   \n",
       "8   205     A66GZWC  2021-04-27           48         65.7         1  0.00   \n",
       "9   242     4BP1L1R  2021-04-27           28         58.8         0  0.00   \n",
       "10  318     EL7KNY6  2021-04-25            2         58.3         1  1.68   \n",
       "11  450     ALJV5MJ  2021-04-14           48         50.9         1  2.50   \n",
       "12  466     U91W7VE  2021-04-15           28          NaN         0  0.00   \n",
       "13  479     6XKADT0  2021-04-16            2         60.3         1  1.81   \n",
       "14  482     H92H75R  2021-04-08           28         66.4         0  0.00   \n",
       "15  488     NKIAOON  2021-04-21           28         55.8         1  3.30   \n",
       "16  579     5Z730EV  2021-04-02            2         57.5         0  0.00   \n",
       "17  618     NQC2HS6  2021-04-01           48         60.9         0  0.00   \n",
       "18  713     ST9N6RZ  2021-04-29           28         56.0         1   NaN   \n",
       "19  716     87WYPTR  2021-04-30           48         61.0         1   NaN   \n",
       "20  805     YOJYCSM  2021-04-24           48         65.4         1  3.25   \n",
       "21  823     PX68JS9  2021-04-15           48         58.2         1  0.00   \n",
       "22  945     8DRA5FH  2021-04-01           28         66.6         1  1.69   \n",
       "\n",
       "    SNOW  LIGHTNING  HAIL  TORNADO  \n",
       "0    0.0          0     0        0  \n",
       "1    0.0          0     0        0  \n",
       "2    0.0          0     0        0  \n",
       "3    0.0          1     0        0  \n",
       "4    0.0          1     0        0  \n",
       "5    0.0          0     0        0  \n",
       "6    0.0          0     0        0  \n",
       "7    0.0          0     1        1  \n",
       "8    0.0          1     0        0  \n",
       "9    0.0          0     0        0  \n",
       "10   0.0          0     0        0  \n",
       "11   0.0          0     0        0  \n",
       "12   0.0          0     0        0  \n",
       "13   0.0          0     0        0  \n",
       "14   0.0          0     0        0  \n",
       "15   0.0          1     0        0  \n",
       "16   0.0          0     0        0  \n",
       "17   0.0          0     0        0  \n",
       "18   0.0          0     1        1  \n",
       "19   0.0          0     1        1  \n",
       "20   0.0          0     0        0  \n",
       "21   0.0          0     0        0  \n",
       "22   0.0          1     0        0  "
      ]
     },
     "execution_count": 1,
     "metadata": {},
     "output_type": "execute_result"
    }
   ],
   "source": [
    "import urllib.request\n",
    "import sqlite3\n",
    "import pandas as pd \n",
    "\n",
    "# Download SQLite database and connect to it \n",
    "urllib.request.urlretrieve(\"https://github.com/thomasnield/machine-learning-demo-data/blob/master/relational/company_operations.db?raw=true\", \"company_operations.db\") \n",
    "\n",
    "conn = sqlite3.connect('company_operations.db')\n",
    "\n",
    "df = pd.read_sql(\"\"\"\n",
    "SELECT * FROM WEATHER_MONITOR \n",
    "WHERE LOCATION_ID IN (2,28,48) \n",
    "AND strftime('%m', REPORT_DATE) = '04'\n",
    "\n",
    "\"\"\", conn, parse_dates=['REPORT_DATE'])\n",
    "df"
   ]
  },
  {
   "cell_type": "markdown",
   "id": "a9b509c4",
   "metadata": {},
   "source": [
    "> If you want to learn more about SQL, check out the [Anaconda course here](https://learning.anaconda.cloud/introduction-to-sql).\n",
    "\n",
    "Notice above that the `RAIN` column has `NaN` values, meaing those values are `None` and missing. There is also one record where a `TEMPERATURE` value is mssing. We are going to learn a few techniques on how to identify and handle these. "
   ]
  },
  {
   "cell_type": "markdown",
   "id": "ab303180",
   "metadata": {},
   "source": [
    "## Tracking Missing Values"
   ]
  },
  {
   "cell_type": "markdown",
   "id": "0e44af0d",
   "metadata": {},
   "source": [
    "To find missing values, we can use the `isna()` function on a dataframe. "
   ]
  },
  {
   "cell_type": "code",
   "execution_count": null,
   "id": "614acc88",
   "metadata": {
    "scrolled": true
   },
   "outputs": [],
   "source": [
    "df.isna()"
   ]
  },
  {
   "cell_type": "markdown",
   "id": "df0ef9ac",
   "metadata": {},
   "source": [
    "We can also use the `any()` function to see which columns contain any missing values."
   ]
  },
  {
   "cell_type": "code",
   "execution_count": null,
   "id": "7b1da5a3",
   "metadata": {},
   "outputs": [],
   "source": [
    "df.isna().any()"
   ]
  },
  {
   "cell_type": "markdown",
   "id": "bb9f60e7",
   "metadata": {},
   "source": [
    "You can also flip the axis for `any()` and get a boolean series of whether each row contains a missing value. "
   ]
  },
  {
   "cell_type": "code",
   "execution_count": null,
   "id": "04206eda",
   "metadata": {},
   "outputs": [],
   "source": [
    "df.isna().any(axis=1)"
   ]
  },
  {
   "cell_type": "markdown",
   "id": "b1f3cc04",
   "metadata": {},
   "source": [
    "Note there is also a `notna()` counterpart which will flip the condition and set provided values to `True` and missing values to `False`. There are also aliases `isnull()` and `notnull()` which are just different names for the same operations.\n",
    "\n",
    "Of course, we can take that boolean series and pass it to the `loc` getter to retrieve those columns with `NaN` values. "
   ]
  },
  {
   "cell_type": "code",
   "execution_count": null,
   "id": "700ad0a2",
   "metadata": {
    "scrolled": true
   },
   "outputs": [],
   "source": [
    "df.loc[:, df.isna().any()]"
   ]
  },
  {
   "cell_type": "markdown",
   "id": "08a8feeb",
   "metadata": {},
   "source": [
    "To find missing values for specific columns, we can use a filtering operation using logical operators. Here we find all records where there was a missing `TEMPERATURE` or `RAIN` value.  "
   ]
  },
  {
   "cell_type": "code",
   "execution_count": null,
   "id": "a3281919",
   "metadata": {},
   "outputs": [],
   "source": [
    "df[df['TEMPERATURE'].isna() | df['RAIN'].isna()]"
   ]
  },
  {
   "cell_type": "markdown",
   "id": "8a0c6bb7",
   "metadata": {},
   "source": [
    "We can also filter for all records containing any missing values across all fields."
   ]
  },
  {
   "cell_type": "code",
   "execution_count": null,
   "id": "c3790046",
   "metadata": {},
   "outputs": [],
   "source": [
    "df[df.isna().any(axis=1)]"
   ]
  },
  {
   "cell_type": "markdown",
   "id": "ae891dd5",
   "metadata": {},
   "source": [
    "## Removing Rows with Missing Values"
   ]
  },
  {
   "cell_type": "markdown",
   "id": "50f0da8f",
   "metadata": {},
   "source": [
    "As stated earlier, many machine learning and statistical models do not tolerate `NA`, `NaN`, or other missing null values. If you understand why they are missing, and do not think their absence will bias your model significantly, then you can simply remove those records with missing values. \n",
    "\n",
    "You can use the `drop()` operator with conditional logic as we learned in previous sections, but there is also a handy `dropna()` function just for this purpose. \n",
    "\n",
    "Below we use `dropna()` to remove all records with `NaN` values. Note I am not using the `inplace=True` parameter here so I can demonstrate other examples later. "
   ]
  },
  {
   "cell_type": "code",
   "execution_count": null,
   "id": "1269e3c7",
   "metadata": {},
   "outputs": [],
   "source": [
    "df.dropna(axis=0) # use inplace=True to replace current dataframe "
   ]
  },
  {
   "cell_type": "markdown",
   "id": "2ef58279",
   "metadata": {},
   "source": [
    "Notice those four records with `NaN` values for `RAIN` or `TEMPERATURE` are now gone. We can also provide only a `subset` of indices to consider for dropping null values. Below, we only drop records where `NA` exists in the `RAIN` column.  "
   ]
  },
  {
   "cell_type": "code",
   "execution_count": null,
   "id": "b5859880",
   "metadata": {},
   "outputs": [],
   "source": [
    "df.dropna(axis=0, subset=[\"RAIN\"])"
   ]
  },
  {
   "cell_type": "markdown",
   "id": "d6994d42",
   "metadata": {},
   "source": [
    "If we would rather drop those columns with `NaN` values instead, we can use `axis=1`. "
   ]
  },
  {
   "cell_type": "code",
   "execution_count": null,
   "id": "13aa0b33",
   "metadata": {
    "scrolled": true
   },
   "outputs": [],
   "source": [
    "df.dropna(axis=1)"
   ]
  },
  {
   "cell_type": "markdown",
   "id": "34d68a0c",
   "metadata": {},
   "source": [
    "## Replacing Missing Values"
   ]
  },
  {
   "cell_type": "markdown",
   "id": "69f878ce",
   "metadata": {},
   "source": [
    "While this may not make sense from a machine learning perspective, there may be times you want to replace missing values. You can do this by using teh `fillna()` function. Below we replace all `na` values in our table with `-1`. Unfortunately, there is no `subset` paramter for this function so to target specific columns you will need to extract them out, apply the `fillna()` function, and then assign them back. "
   ]
  },
  {
   "cell_type": "code",
   "execution_count": null,
   "id": "3ded8d13",
   "metadata": {},
   "outputs": [],
   "source": [
    "df.fillna(value=-1, inplace=True)\n",
    "df"
   ]
  },
  {
   "cell_type": "markdown",
   "id": "0512c1bd",
   "metadata": {},
   "source": [
    "> There are other methods that `fillna()` can do to fill in missing values. [Be sure to read the Pandas documentation](https://pandas.pydata.org/docs/reference/api/pandas.DataFrame.fillna.html#pandas.DataFrame.fillna) to learn more. "
   ]
  },
  {
   "cell_type": "markdown",
   "id": "68830148",
   "metadata": {},
   "source": [
    "Conversely there may be times you want to replace certain values with `na`, such as empty strings or placeholder strings like 'NULL'. We just turned the `NaN` values into `-1`. Let's convert them back to `NaN` using the `replace()` function."
   ]
  },
  {
   "cell_type": "code",
   "execution_count": null,
   "id": "67c63cf2",
   "metadata": {},
   "outputs": [],
   "source": [
    "from numpy import nan\n",
    "\n",
    "df.replace(-1, nan, inplace=True)\n",
    "df"
   ]
  },
  {
   "cell_type": "markdown",
   "id": "9122a73f",
   "metadata": {},
   "source": [
    "## Fill in Missing Values with Mean"
   ]
  },
  {
   "cell_type": "markdown",
   "id": "79ae0e1d",
   "metadata": {},
   "source": [
    "Another way to cope with missing values that might be more agreeable for machine learning and statistical models is to use a statistical value replacement such as a `mean` or `median`. \n",
    "\n",
    "Let's bring in the `SimpleImputer` from scikit-learn and set it to use the `mean`. "
   ]
  },
  {
   "cell_type": "code",
   "execution_count": null,
   "id": "29985c28",
   "metadata": {},
   "outputs": [],
   "source": [
    "from sklearn.impute import SimpleImputer\n",
    "\n",
    "imputer = SimpleImputer(strategy='mean')"
   ]
  },
  {
   "cell_type": "markdown",
   "id": "cb62a7c4",
   "metadata": {},
   "source": [
    "Let's then apply the `TEMPERATURE` and `RAIN` fields to the imputer. "
   ]
  },
  {
   "cell_type": "code",
   "execution_count": null,
   "id": "d34e910d",
   "metadata": {},
   "outputs": [],
   "source": [
    "transform_input = df[['TEMPERATURE','RAIN']]\n",
    "\n",
    "imputer.fit(transform_input)"
   ]
  },
  {
   "cell_type": "markdown",
   "id": "f67298c8",
   "metadata": {},
   "source": [
    "The `SimpleImputer` will calculate the mean for `RAIN` to be `0.8585` and for `TEMPERATURE` to be `59.740909`. We can then apply these columns with the means replacing the `NaN`'s to our dataframe."
   ]
  },
  {
   "cell_type": "code",
   "execution_count": null,
   "id": "cb9b1d8a",
   "metadata": {},
   "outputs": [],
   "source": [
    "# copy the weather dataframe \n",
    "mean_df = df.copy() \n",
    "\n",
    "# apply mean to the TEMPERATURE and RAIN column\n",
    "transform_output = imputer.transform(transform_input)\n",
    "mean_df[['TEMPERATURE','RAIN']] = transform_output\n",
    "mean_df"
   ]
  },
  {
   "cell_type": "markdown",
   "id": "88718322",
   "metadata": {},
   "source": [
    "Note there are other options for the `strategy` parameter including 'mean', 'median', 'most_frequent', and 'constant'."
   ]
  },
  {
   "cell_type": "markdown",
   "id": "fd38ab9e",
   "metadata": {},
   "source": [
    "## Fill in Missing Values with Nearest Neighbor"
   ]
  },
  {
   "cell_type": "markdown",
   "id": "835660a7",
   "metadata": {},
   "source": [
    "Another option for imputing a value to replace missing values is to leverage k-nearest neighbor (KNN), which works quite well in many cases. Essentially, the idea is to find datapoints that are close to the one with the missing value, all fields considered. Those neighboring records are then used to infer an estimate for the missing value. \n",
    "\n",
    "Let's bring in the `KNNInputer` and use the 5 nearest neighbors. We will make the weights uniform and we will tell it to not ignore `NaN` values by setting `metric` to `nan_euclidean`. "
   ]
  },
  {
   "cell_type": "code",
   "execution_count": null,
   "id": "e917dc03",
   "metadata": {},
   "outputs": [],
   "source": [
    "from sklearn.impute import KNNImputer\n",
    "\n",
    "imputer = KNNImputer(n_neighbors=5, weights='uniform', metric='nan_euclidean')"
   ]
  },
  {
   "cell_type": "markdown",
   "id": "aadd4baf",
   "metadata": {},
   "source": [
    "Since we are inferring based on some other fields, we need to kick out `ID`,`LOCATION_ID`, and `REPORT_CODE` as those are not useful for the KNN model. They are arbitrary values or randomly generated and have no predictive value. We also need to convert the `REPORT_DATE` to a numeric value. Thankfully we are only working with one month, so let's just grab the day of month and that will be our numeric conversion."
   ]
  },
  {
   "cell_type": "code",
   "execution_count": null,
   "id": "1de2049d",
   "metadata": {},
   "outputs": [],
   "source": [
    "# copy the datafarme and drop two columns that are not useful for modeling\n",
    "knn_input = df.drop(['ID','REPORT_CODE','LOCATION_ID'],axis=1)\n",
    "\n",
    "# extract day of month and make that the `REPORT_DATE`\n",
    "knn_input['REPORT_DATE'] = knn_input['REPORT_DATE'].dt.strftime('%d').astype(int)\n",
    "\n",
    "# fit the knn model \n",
    "imputer.fit(knn_input)\n",
    "knn_input"
   ]
  },
  {
   "cell_type": "markdown",
   "id": "1dc44c51",
   "metadata": {},
   "source": [
    "Finally, let's copy the dataframe and apply the transformation to the two columns. The `RAIN` values with row indices of 5, 18, and 19 were missing but now are `0.604`, `0.996`, and `0.986` respectively. The missing `TEMPERATURE` value of row index 12 is inferred to be `55.76`. "
   ]
  },
  {
   "cell_type": "code",
   "execution_count": null,
   "id": "3973794a",
   "metadata": {},
   "outputs": [],
   "source": [
    "# copy the dataframe\n",
    "knn_output = df.copy()\n",
    "\n",
    "# apply knn transform to the input\n",
    "knn_transform = imputer.transform(knn_input)\n",
    "\n",
    "# apply only the TEMPERATURE and RAIN columns back to the dataframe\n",
    "knn_output.loc[:,[\"TEMPERATURE\",\"RAIN\"]] = knn_transform[:,[1,3]]\n",
    "knn_output"
   ]
  },
  {
   "cell_type": "markdown",
   "id": "64e3ebae",
   "metadata": {},
   "source": [
    "## Exercise"
   ]
  },
  {
   "cell_type": "markdown",
   "id": "2d5a9465",
   "metadata": {},
   "source": [
    "In the code below is a sample of thermostat data. Complete the code below so the median is imputed for the `temperature` and `humidity` fields' missing values. "
   ]
  },
  {
   "cell_type": "code",
   "execution_count": null,
   "id": "692528b5",
   "metadata": {},
   "outputs": [],
   "source": [
    "import pandas as pd\n",
    "from sklearn.impute import SimpleImputer\n",
    "\n",
    "df = pd.DataFrame({\n",
    "    \"record_id\" : ['OVUTJE','OVUTJE','WI4QEX','WI4QEX','FS40NF','O64LIT','U888EA'],\n",
    "    \"temperature\" : [65.2, 65.2, None, 57.2, 57.4, None, 27.5], \n",
    "    \"humidity\" : [.8, None, .7, .6, .7, .7, .8]\n",
    "})\n",
    "\n",
    "# create and fit imputer \n",
    "imputer = ?\n",
    "transform_input = df[['temperature','humidity']]\n",
    "imputer.fit(?)\n",
    "\n",
    "# apply mean to the temperature and humidity column\n",
    "transform_output = imputer.transform(?)\n",
    "df[['temperature','humidity']] = transform_output\n",
    "df"
   ]
  },
  {
   "cell_type": "markdown",
   "id": "5a480b06",
   "metadata": {},
   "source": [
    "### SCROLL DOWN FOR ANSWER\n",
    "|<br>\n",
    "|<br>\n",
    "|<br>\n",
    "|<br>\n",
    "|<br>\n",
    "|<br>\n",
    "|<br>\n",
    "|<br>\n",
    "|<br>\n",
    "|<br>\n",
    "|<br>\n",
    "|<br>\n",
    "|<br>\n",
    "|<br>\n",
    "|<br>\n",
    "|<br>\n",
    "|<br>\n",
    "|<br>\n",
    "|<br>\n",
    "|<br>\n",
    "|<br>\n",
    "|<br>\n",
    "|<br>\n",
    "v "
   ]
  },
  {
   "cell_type": "code",
   "execution_count": null,
   "id": "183215e1",
   "metadata": {},
   "outputs": [],
   "source": [
    "import pandas as pd\n",
    "from sklearn.impute import SimpleImputer\n",
    "\n",
    "df = pd.DataFrame({\n",
    "    \"record_id\" : ['OVUTJE','OVUTJE','WI4QEX','WI4QEX','FS40NF','O64LIT','U888EA'],\n",
    "    \"temperature\" : [65.2, 65.2, None, 57.2, 57.4, None, 27.5], \n",
    "    \"humidity\" : [.8, None, .7, .6, .7, .7, .8]\n",
    "})\n",
    "\n",
    "# create and fit imputer \n",
    "imputer = SimpleImputer(strategy='median')\n",
    "transform_input = df[['temperature','humidity']]\n",
    "imputer.fit(transform_input)\n",
    "\n",
    "# apply mean to the TEMPERATURE and RAIN column\n",
    "transform_output = imputer.transform(transform_input)\n",
    "df[['temperature','humidity']] = transform_output\n",
    "df"
   ]
  }
 ],
 "metadata": {
  "kernelspec": {
   "display_name": "Python 3 (ipykernel)",
   "language": "python",
   "name": "python3"
  },
  "language_info": {
   "codemirror_mode": {
    "name": "ipython",
    "version": 3
   },
   "file_extension": ".py",
   "mimetype": "text/x-python",
   "name": "python",
   "nbconvert_exporter": "python",
   "pygments_lexer": "ipython3",
   "version": "3.12.0"
  }
 },
 "nbformat": 4,
 "nbformat_minor": 5
}
