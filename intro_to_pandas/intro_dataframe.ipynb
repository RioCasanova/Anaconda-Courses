{
 "cells": [
  {
   "cell_type": "code",
   "execution_count": 1,
   "id": "ba3a05ee-3f54-45c1-86ae-f05263fde338",
   "metadata": {},
   "outputs": [],
   "source": [
    "# Introduction to DataFrames in Pandas\n",
    "import pandas as pd"
   ]
  },
  {
   "cell_type": "code",
   "execution_count": 7,
   "id": "4a6b868b-996e-4fa5-8260-e3cfcf7e7266",
   "metadata": {},
   "outputs": [
    {
     "data": {
      "text/plain": [
       "[{'item': 'mango', 'quantity': 4, 'price': 2.99},\n",
       " {'item': 'bread', 'quantity': 2, 'price': 3.25},\n",
       " {'item': 'juice', 'quantity': 1, 'price': 5.9},\n",
       " {'item': 'orange', 'quantity': 3, 'price': 2.99},\n",
       " {'item': 'lime', 'quantity': 3, 'price': 0.3}]"
      ]
     },
     "execution_count": 7,
     "metadata": {},
     "output_type": "execute_result"
    }
   ],
   "source": [
    "# creating a dataframe from a list of dictionaries\n",
    "basket = [\n",
    "        {\"item\": \"mango\", \"quantity\":4, \"price\": 2.99},\n",
    "        {\"item\": \"bread\", \"quantity\":2, \"price\": 3.25},\n",
    "        {\"item\": \"juice\", \"quantity\":1, \"price\": 5.90},\n",
    "        {\"item\": \"orange\", \"quantity\":3, \"price\": 2.99},\n",
    "        {\"item\": \"lime\", \"quantity\":3, \"price\": 0.3}\n",
    "]\n",
    "basket"
   ]
  },
  {
   "cell_type": "code",
   "execution_count": 8,
   "id": "679a7cc3-c4d0-4d08-92a7-ead3d173d77f",
   "metadata": {},
   "outputs": [
    {
     "data": {
      "text/html": [
       "<div>\n",
       "<style scoped>\n",
       "    .dataframe tbody tr th:only-of-type {\n",
       "        vertical-align: middle;\n",
       "    }\n",
       "\n",
       "    .dataframe tbody tr th {\n",
       "        vertical-align: top;\n",
       "    }\n",
       "\n",
       "    .dataframe thead th {\n",
       "        text-align: right;\n",
       "    }\n",
       "</style>\n",
       "<table border=\"1\" class=\"dataframe\">\n",
       "  <thead>\n",
       "    <tr style=\"text-align: right;\">\n",
       "      <th></th>\n",
       "      <th>item</th>\n",
       "      <th>quantity</th>\n",
       "      <th>price</th>\n",
       "    </tr>\n",
       "  </thead>\n",
       "  <tbody>\n",
       "    <tr>\n",
       "      <th>0</th>\n",
       "      <td>mango</td>\n",
       "      <td>4</td>\n",
       "      <td>2.99</td>\n",
       "    </tr>\n",
       "    <tr>\n",
       "      <th>1</th>\n",
       "      <td>bread</td>\n",
       "      <td>2</td>\n",
       "      <td>3.25</td>\n",
       "    </tr>\n",
       "    <tr>\n",
       "      <th>2</th>\n",
       "      <td>juice</td>\n",
       "      <td>1</td>\n",
       "      <td>5.90</td>\n",
       "    </tr>\n",
       "    <tr>\n",
       "      <th>3</th>\n",
       "      <td>orange</td>\n",
       "      <td>3</td>\n",
       "      <td>2.99</td>\n",
       "    </tr>\n",
       "    <tr>\n",
       "      <th>4</th>\n",
       "      <td>lime</td>\n",
       "      <td>3</td>\n",
       "      <td>0.30</td>\n",
       "    </tr>\n",
       "  </tbody>\n",
       "</table>\n",
       "</div>"
      ],
      "text/plain": [
       "     item  quantity  price\n",
       "0   mango         4   2.99\n",
       "1   bread         2   3.25\n",
       "2   juice         1   5.90\n",
       "3  orange         3   2.99\n",
       "4    lime         3   0.30"
      ]
     },
     "execution_count": 8,
     "metadata": {},
     "output_type": "execute_result"
    }
   ],
   "source": [
    "# with dataframes our columns are our variables or features\n",
    "# each row represents a unique observation\n",
    "# they call rows 'observations'\n",
    "df =  pd.DataFrame(basket)\n",
    "df"
   ]
  },
  {
   "cell_type": "code",
   "execution_count": 9,
   "id": "3cf4e318-25a7-4a0a-a5c5-654fed3f5c93",
   "metadata": {},
   "outputs": [
    {
     "data": {
      "text/plain": [
       "{'item': ['mango', 'pear', 'bread', 'juice', 'orange', 'lime'],\n",
       " 'quantity': [4, 5, 2, 1, 3, 3],\n",
       " 'price': [2.99, 5.67, 3.25, 5.9, 2.99, 0.3]}"
      ]
     },
     "execution_count": 9,
     "metadata": {},
     "output_type": "execute_result"
    }
   ],
   "source": [
    "# creating a DataFrame from a dictionary of lists\n",
    "basket = {\n",
    "    \"item\": [\"mango\", \"pear\", \"bread\", \"juice\", \"orange\", \"lime\"],\n",
    "    \"quantity\": [4, 5, 2, 1, 3, 3],\n",
    "    \"price\": [2.99, 5.67, 3.25, 5.90, 2.99, 0.30]\n",
    "}\n",
    "basket"
   ]
  },
  {
   "cell_type": "code",
   "execution_count": 10,
   "id": "35c1d304-4223-4e77-983c-79a554c8e07c",
   "metadata": {},
   "outputs": [
    {
     "data": {
      "text/html": [
       "<div>\n",
       "<style scoped>\n",
       "    .dataframe tbody tr th:only-of-type {\n",
       "        vertical-align: middle;\n",
       "    }\n",
       "\n",
       "    .dataframe tbody tr th {\n",
       "        vertical-align: top;\n",
       "    }\n",
       "\n",
       "    .dataframe thead th {\n",
       "        text-align: right;\n",
       "    }\n",
       "</style>\n",
       "<table border=\"1\" class=\"dataframe\">\n",
       "  <thead>\n",
       "    <tr style=\"text-align: right;\">\n",
       "      <th></th>\n",
       "      <th>item</th>\n",
       "      <th>quantity</th>\n",
       "      <th>price</th>\n",
       "    </tr>\n",
       "  </thead>\n",
       "  <tbody>\n",
       "    <tr>\n",
       "      <th>0</th>\n",
       "      <td>mango</td>\n",
       "      <td>4</td>\n",
       "      <td>2.99</td>\n",
       "    </tr>\n",
       "    <tr>\n",
       "      <th>1</th>\n",
       "      <td>pear</td>\n",
       "      <td>5</td>\n",
       "      <td>5.67</td>\n",
       "    </tr>\n",
       "    <tr>\n",
       "      <th>2</th>\n",
       "      <td>bread</td>\n",
       "      <td>2</td>\n",
       "      <td>3.25</td>\n",
       "    </tr>\n",
       "    <tr>\n",
       "      <th>3</th>\n",
       "      <td>juice</td>\n",
       "      <td>1</td>\n",
       "      <td>5.90</td>\n",
       "    </tr>\n",
       "    <tr>\n",
       "      <th>4</th>\n",
       "      <td>orange</td>\n",
       "      <td>3</td>\n",
       "      <td>2.99</td>\n",
       "    </tr>\n",
       "    <tr>\n",
       "      <th>5</th>\n",
       "      <td>lime</td>\n",
       "      <td>3</td>\n",
       "      <td>0.30</td>\n",
       "    </tr>\n",
       "  </tbody>\n",
       "</table>\n",
       "</div>"
      ],
      "text/plain": [
       "     item  quantity  price\n",
       "0   mango         4   2.99\n",
       "1    pear         5   5.67\n",
       "2   bread         2   3.25\n",
       "3   juice         1   5.90\n",
       "4  orange         3   2.99\n",
       "5    lime         3   0.30"
      ]
     },
     "execution_count": 10,
     "metadata": {},
     "output_type": "execute_result"
    }
   ],
   "source": [
    "pd.DataFrame(basket)"
   ]
  },
  {
   "cell_type": "code",
   "execution_count": 11,
   "id": "b9bca017-5132-4682-bf98-275e89927cac",
   "metadata": {},
   "outputs": [],
   "source": [
    "# these first two examples are showing the two different ways that data could be stored \n",
    "# and how they both can come to a similar conclusion using the DataFrame method in Pandas\n"
   ]
  },
  {
   "cell_type": "code",
   "execution_count": 15,
   "id": "378b0cd8-6548-4e64-b6ae-125c14c2dce1",
   "metadata": {},
   "outputs": [
    {
     "data": {
      "text/html": [
       "<div>\n",
       "<style scoped>\n",
       "    .dataframe tbody tr th:only-of-type {\n",
       "        vertical-align: middle;\n",
       "    }\n",
       "\n",
       "    .dataframe tbody tr th {\n",
       "        vertical-align: top;\n",
       "    }\n",
       "\n",
       "    .dataframe thead th {\n",
       "        text-align: right;\n",
       "    }\n",
       "</style>\n",
       "<table border=\"1\" class=\"dataframe\">\n",
       "  <thead>\n",
       "    <tr style=\"text-align: right;\">\n",
       "      <th></th>\n",
       "      <th>variable_a</th>\n",
       "      <th>variable_b</th>\n",
       "      <th>variable_c</th>\n",
       "    </tr>\n",
       "  </thead>\n",
       "  <tbody>\n",
       "    <tr>\n",
       "      <th>observation_1</th>\n",
       "      <td>1</td>\n",
       "      <td>2</td>\n",
       "      <td>3</td>\n",
       "    </tr>\n",
       "    <tr>\n",
       "      <th>observation_2</th>\n",
       "      <td>4</td>\n",
       "      <td>5</td>\n",
       "      <td>6</td>\n",
       "    </tr>\n",
       "    <tr>\n",
       "      <th>observation_3</th>\n",
       "      <td>7</td>\n",
       "      <td>8</td>\n",
       "      <td>9</td>\n",
       "    </tr>\n",
       "  </tbody>\n",
       "</table>\n",
       "</div>"
      ],
      "text/plain": [
       "               variable_a  variable_b  variable_c\n",
       "observation_1           1           2           3\n",
       "observation_2           4           5           6\n",
       "observation_3           7           8           9"
      ]
     },
     "execution_count": 15,
     "metadata": {},
     "output_type": "execute_result"
    }
   ],
   "source": [
    "# creating a DataFrame from a list of lists\n",
    "# this demonstraties how we can customize/label our DataFrame so that \n",
    "# it is easier to read and is more palatable (they are optional arguments)\n",
    "example = [\n",
    "    [1, 2, 3],\n",
    "    [4, 5, 6],\n",
    "    [7, 8, 9]\n",
    "]\n",
    "\n",
    "column_names = [\"variable_a\", \"variable_b\", \"variable_c\"]\n",
    "row_names = [\"observation_1\", \"observation_2\", \"observation_3\"]\n",
    "\n",
    "pd.DataFrame(example, columns=column_names, index=row_names)"
   ]
  },
  {
   "cell_type": "code",
   "execution_count": 6,
   "id": "5689b6c7-e708-4221-888f-2433ff20b974",
   "metadata": {},
   "outputs": [
    {
     "data": {
      "text/html": [
       "<div>\n",
       "<style scoped>\n",
       "    .dataframe tbody tr th:only-of-type {\n",
       "        vertical-align: middle;\n",
       "    }\n",
       "\n",
       "    .dataframe tbody tr th {\n",
       "        vertical-align: top;\n",
       "    }\n",
       "\n",
       "    .dataframe thead th {\n",
       "        text-align: right;\n",
       "    }\n",
       "</style>\n",
       "<table border=\"1\" class=\"dataframe\">\n",
       "  <thead>\n",
       "    <tr style=\"text-align: right;\">\n",
       "      <th></th>\n",
       "      <th>item</th>\n",
       "      <th>quantity</th>\n",
       "      <th>price</th>\n",
       "    </tr>\n",
       "  </thead>\n",
       "  <tbody>\n",
       "    <tr>\n",
       "      <th>0</th>\n",
       "      <td>mango</td>\n",
       "      <td>4</td>\n",
       "      <td>2.99</td>\n",
       "    </tr>\n",
       "    <tr>\n",
       "      <th>1</th>\n",
       "      <td>pear</td>\n",
       "      <td>5</td>\n",
       "      <td>5.67</td>\n",
       "    </tr>\n",
       "    <tr>\n",
       "      <th>2</th>\n",
       "      <td>bread</td>\n",
       "      <td>2</td>\n",
       "      <td>3.25</td>\n",
       "    </tr>\n",
       "    <tr>\n",
       "      <th>3</th>\n",
       "      <td>juice</td>\n",
       "      <td>1</td>\n",
       "      <td>5.90</td>\n",
       "    </tr>\n",
       "    <tr>\n",
       "      <th>4</th>\n",
       "      <td>orange</td>\n",
       "      <td>3</td>\n",
       "      <td>2.99</td>\n",
       "    </tr>\n",
       "    <tr>\n",
       "      <th>5</th>\n",
       "      <td>lime</td>\n",
       "      <td>3</td>\n",
       "      <td>0.30</td>\n",
       "    </tr>\n",
       "  </tbody>\n",
       "</table>\n",
       "</div>"
      ],
      "text/plain": [
       "     item  quantity  price\n",
       "0   mango         4   2.99\n",
       "1    pear         5   5.67\n",
       "2   bread         2   3.25\n",
       "3   juice         1   5.90\n",
       "4  orange         3   2.99\n",
       "5    lime         3   0.30"
      ]
     },
     "execution_count": 6,
     "metadata": {},
     "output_type": "execute_result"
    }
   ],
   "source": [
    "# creating an empty DataFrame\n",
    "# and then add onto it - interesting that it uses series to fill the columns of the DataFrame\n",
    "# this is important to remember that the columns correspond to a Series Pandas 'Object'\n",
    "df = pd.DataFrame()\n",
    "\n",
    "# we are going to add columns to the DataFrame\n",
    "# any list-like data-type can become a column\n",
    "df[\"item\"] = pd.Series([\"mango\", \"pear\", \"bread\", \"juice\", \"orange\", \"lime\"])\n",
    "df[\"quantity\"] = pd.Series([4, 5, 2, 1, 3, 3])\n",
    "df[\"price\"] = pd.Series([2.99, 5.67, 3.25, 5.90, 2.99, 0.30])\n",
    "df"
   ]
  },
  {
   "cell_type": "code",
   "execution_count": 26,
   "id": "86580ee2-0772-4e61-962e-9ee8ebaaa7c9",
   "metadata": {},
   "outputs": [
    {
     "data": {
      "text/plain": [
       "(6, 4)"
      ]
     },
     "execution_count": 26,
     "metadata": {},
     "output_type": "execute_result"
    }
   ],
   "source": [
    "# this is the count for the rows and columns\n",
    "# the item that is returned is called a tuple\n",
    "df.shape"
   ]
  },
  {
   "cell_type": "code",
   "execution_count": 21,
   "id": "c1d37d84-e425-491b-a073-d4dffca7dbd9",
   "metadata": {},
   "outputs": [
    {
     "data": {
      "text/plain": [
       "6"
      ]
     },
     "execution_count": 21,
     "metadata": {},
     "output_type": "execute_result"
    }
   ],
   "source": [
    "# this returns number of rows\n",
    "df.shape[0]"
   ]
  },
  {
   "cell_type": "code",
   "execution_count": 22,
   "id": "8d2e9ecb-1cbd-41b4-ab4e-d77ab16c8314",
   "metadata": {},
   "outputs": [
    {
     "data": {
      "text/plain": [
       "3"
      ]
     },
     "execution_count": 22,
     "metadata": {},
     "output_type": "execute_result"
    }
   ],
   "source": [
    "# this returns the number of columns\n",
    "df.shape[1]"
   ]
  },
  {
   "cell_type": "code",
   "execution_count": 23,
   "id": "830865c9-32ed-4bd7-8e7b-a8e260bfaeae",
   "metadata": {},
   "outputs": [
    {
     "data": {
      "text/plain": [
       "6"
      ]
     },
     "execution_count": 23,
     "metadata": {},
     "output_type": "execute_result"
    }
   ],
   "source": [
    "# returns the number of rows\n",
    "len(df)"
   ]
  },
  {
   "cell_type": "code",
   "execution_count": 24,
   "id": "7b88a605-e1da-402e-9161-ce76055df557",
   "metadata": {},
   "outputs": [
    {
     "data": {
      "text/plain": [
       "18"
      ]
     },
     "execution_count": 24,
     "metadata": {},
     "output_type": "execute_result"
    }
   ],
   "source": [
    "# this returns the rows * columns\n",
    "df.size"
   ]
  },
  {
   "cell_type": "code",
   "execution_count": 9,
   "id": "bc9b90c6-b5f4-4dc8-9fac-fc6f496dfaff",
   "metadata": {},
   "outputs": [
    {
     "data": {
      "text/html": [
       "<div>\n",
       "<style scoped>\n",
       "    .dataframe tbody tr th:only-of-type {\n",
       "        vertical-align: middle;\n",
       "    }\n",
       "\n",
       "    .dataframe tbody tr th {\n",
       "        vertical-align: top;\n",
       "    }\n",
       "\n",
       "    .dataframe thead th {\n",
       "        text-align: right;\n",
       "    }\n",
       "</style>\n",
       "<table border=\"1\" class=\"dataframe\">\n",
       "  <thead>\n",
       "    <tr style=\"text-align: right;\">\n",
       "      <th></th>\n",
       "      <th>item</th>\n",
       "      <th>quantity</th>\n",
       "      <th>price</th>\n",
       "      <th>tax</th>\n",
       "      <th>subtotal</th>\n",
       "    </tr>\n",
       "  </thead>\n",
       "  <tbody>\n",
       "    <tr>\n",
       "      <th>0</th>\n",
       "      <td>mango</td>\n",
       "      <td>4</td>\n",
       "      <td>2.99</td>\n",
       "      <td>0.05</td>\n",
       "      <td>11.96</td>\n",
       "    </tr>\n",
       "    <tr>\n",
       "      <th>1</th>\n",
       "      <td>pear</td>\n",
       "      <td>5</td>\n",
       "      <td>5.67</td>\n",
       "      <td>0.05</td>\n",
       "      <td>28.35</td>\n",
       "    </tr>\n",
       "    <tr>\n",
       "      <th>2</th>\n",
       "      <td>bread</td>\n",
       "      <td>2</td>\n",
       "      <td>3.25</td>\n",
       "      <td>0.05</td>\n",
       "      <td>6.50</td>\n",
       "    </tr>\n",
       "    <tr>\n",
       "      <th>3</th>\n",
       "      <td>juice</td>\n",
       "      <td>1</td>\n",
       "      <td>5.90</td>\n",
       "      <td>0.05</td>\n",
       "      <td>5.90</td>\n",
       "    </tr>\n",
       "    <tr>\n",
       "      <th>4</th>\n",
       "      <td>orange</td>\n",
       "      <td>3</td>\n",
       "      <td>2.99</td>\n",
       "      <td>0.05</td>\n",
       "      <td>8.97</td>\n",
       "    </tr>\n",
       "    <tr>\n",
       "      <th>5</th>\n",
       "      <td>lime</td>\n",
       "      <td>3</td>\n",
       "      <td>0.30</td>\n",
       "      <td>0.05</td>\n",
       "      <td>0.90</td>\n",
       "    </tr>\n",
       "  </tbody>\n",
       "</table>\n",
       "</div>"
      ],
      "text/plain": [
       "     item  quantity  price   tax  subtotal\n",
       "0   mango         4   2.99  0.05     11.96\n",
       "1    pear         5   5.67  0.05     28.35\n",
       "2   bread         2   3.25  0.05      6.50\n",
       "3   juice         1   5.90  0.05      5.90\n",
       "4  orange         3   2.99  0.05      8.97\n",
       "5    lime         3   0.30  0.05      0.90"
      ]
     },
     "execution_count": 9,
     "metadata": {},
     "output_type": "execute_result"
    }
   ],
   "source": [
    "# adding new columns to the DataFrame\n",
    "df[\"subtotal\"] = df[\"quantity\"] * df[\"price\"]\n",
    "df"
   ]
  },
  {
   "cell_type": "code",
   "execution_count": 10,
   "id": "0b33ab23-9c23-479e-99b0-f877116e92c0",
   "metadata": {},
   "outputs": [
    {
     "data": {
      "text/html": [
       "<div>\n",
       "<style scoped>\n",
       "    .dataframe tbody tr th:only-of-type {\n",
       "        vertical-align: middle;\n",
       "    }\n",
       "\n",
       "    .dataframe tbody tr th {\n",
       "        vertical-align: top;\n",
       "    }\n",
       "\n",
       "    .dataframe thead th {\n",
       "        text-align: right;\n",
       "    }\n",
       "</style>\n",
       "<table border=\"1\" class=\"dataframe\">\n",
       "  <thead>\n",
       "    <tr style=\"text-align: right;\">\n",
       "      <th></th>\n",
       "      <th>quantity</th>\n",
       "      <th>price</th>\n",
       "      <th>tax</th>\n",
       "      <th>subtotal</th>\n",
       "    </tr>\n",
       "    <tr>\n",
       "      <th>item</th>\n",
       "      <th></th>\n",
       "      <th></th>\n",
       "      <th></th>\n",
       "      <th></th>\n",
       "    </tr>\n",
       "  </thead>\n",
       "  <tbody>\n",
       "    <tr>\n",
       "      <th>mango</th>\n",
       "      <td>4</td>\n",
       "      <td>2.99</td>\n",
       "      <td>0.05</td>\n",
       "      <td>11.96</td>\n",
       "    </tr>\n",
       "    <tr>\n",
       "      <th>pear</th>\n",
       "      <td>5</td>\n",
       "      <td>5.67</td>\n",
       "      <td>0.05</td>\n",
       "      <td>28.35</td>\n",
       "    </tr>\n",
       "    <tr>\n",
       "      <th>bread</th>\n",
       "      <td>2</td>\n",
       "      <td>3.25</td>\n",
       "      <td>0.05</td>\n",
       "      <td>6.50</td>\n",
       "    </tr>\n",
       "    <tr>\n",
       "      <th>juice</th>\n",
       "      <td>1</td>\n",
       "      <td>5.90</td>\n",
       "      <td>0.05</td>\n",
       "      <td>5.90</td>\n",
       "    </tr>\n",
       "    <tr>\n",
       "      <th>orange</th>\n",
       "      <td>3</td>\n",
       "      <td>2.99</td>\n",
       "      <td>0.05</td>\n",
       "      <td>8.97</td>\n",
       "    </tr>\n",
       "    <tr>\n",
       "      <th>lime</th>\n",
       "      <td>3</td>\n",
       "      <td>0.30</td>\n",
       "      <td>0.05</td>\n",
       "      <td>0.90</td>\n",
       "    </tr>\n",
       "  </tbody>\n",
       "</table>\n",
       "</div>"
      ],
      "text/plain": [
       "        quantity  price   tax  subtotal\n",
       "item                                   \n",
       "mango          4   2.99  0.05     11.96\n",
       "pear           5   5.67  0.05     28.35\n",
       "bread          2   3.25  0.05      6.50\n",
       "juice          1   5.90  0.05      5.90\n",
       "orange         3   2.99  0.05      8.97\n",
       "lime           3   0.30  0.05      0.90"
      ]
     },
     "execution_count": 10,
     "metadata": {},
     "output_type": "execute_result"
    }
   ],
   "source": [
    "# set_index can overwrite the default index\n",
    "df.set_index(\"item\", inplace=True)\n",
    "df"
   ]
  },
  {
   "cell_type": "code",
   "execution_count": 29,
   "id": "beab9a2e-f9eb-47eb-b2f7-469373fbe1a9",
   "metadata": {},
   "outputs": [
    {
     "data": {
      "text/plain": [
       "Index(['mango', 'pear', 'bread', 'juice', 'orange', 'lime'], dtype='object', name='item')"
      ]
     },
     "execution_count": 29,
     "metadata": {},
     "output_type": "execute_result"
    }
   ],
   "source": [
    "# accessing the index values \n",
    "df.index"
   ]
  },
  {
   "cell_type": "code",
   "execution_count": 11,
   "id": "22d49a23-59d7-4b12-8ca7-02452ec6ad57",
   "metadata": {},
   "outputs": [
    {
     "data": {
      "text/html": [
       "<div>\n",
       "<style scoped>\n",
       "    .dataframe tbody tr th:only-of-type {\n",
       "        vertical-align: middle;\n",
       "    }\n",
       "\n",
       "    .dataframe tbody tr th {\n",
       "        vertical-align: top;\n",
       "    }\n",
       "\n",
       "    .dataframe thead th {\n",
       "        text-align: right;\n",
       "    }\n",
       "</style>\n",
       "<table border=\"1\" class=\"dataframe\">\n",
       "  <thead>\n",
       "    <tr style=\"text-align: right;\">\n",
       "      <th></th>\n",
       "      <th>quantity</th>\n",
       "      <th>price</th>\n",
       "      <th>tax</th>\n",
       "      <th>subtotal</th>\n",
       "    </tr>\n",
       "    <tr>\n",
       "      <th>item</th>\n",
       "      <th></th>\n",
       "      <th></th>\n",
       "      <th></th>\n",
       "      <th></th>\n",
       "    </tr>\n",
       "  </thead>\n",
       "  <tbody>\n",
       "    <tr>\n",
       "      <th>mango</th>\n",
       "      <td>4</td>\n",
       "      <td>2.99</td>\n",
       "      <td>0.05</td>\n",
       "      <td>11.96</td>\n",
       "    </tr>\n",
       "    <tr>\n",
       "      <th>pear</th>\n",
       "      <td>5</td>\n",
       "      <td>5.67</td>\n",
       "      <td>0.05</td>\n",
       "      <td>28.35</td>\n",
       "    </tr>\n",
       "    <tr>\n",
       "      <th>bread</th>\n",
       "      <td>2</td>\n",
       "      <td>3.25</td>\n",
       "      <td>0.05</td>\n",
       "      <td>6.50</td>\n",
       "    </tr>\n",
       "    <tr>\n",
       "      <th>juice</th>\n",
       "      <td>1</td>\n",
       "      <td>5.90</td>\n",
       "      <td>0.05</td>\n",
       "      <td>5.90</td>\n",
       "    </tr>\n",
       "    <tr>\n",
       "      <th>orange</th>\n",
       "      <td>3</td>\n",
       "      <td>2.99</td>\n",
       "      <td>0.05</td>\n",
       "      <td>8.97</td>\n",
       "    </tr>\n",
       "    <tr>\n",
       "      <th>lime</th>\n",
       "      <td>3</td>\n",
       "      <td>0.30</td>\n",
       "      <td>0.05</td>\n",
       "      <td>0.90</td>\n",
       "    </tr>\n",
       "  </tbody>\n",
       "</table>\n",
       "</div>"
      ],
      "text/plain": [
       "        quantity  price   tax  subtotal\n",
       "item                                   \n",
       "mango          4   2.99  0.05     11.96\n",
       "pear           5   5.67  0.05     28.35\n",
       "bread          2   3.25  0.05      6.50\n",
       "juice          1   5.90  0.05      5.90\n",
       "orange         3   2.99  0.05      8.97\n",
       "lime           3   0.30  0.05      0.90"
      ]
     },
     "execution_count": 11,
     "metadata": {},
     "output_type": "execute_result"
    }
   ],
   "source": [
    "# we can also overwrite the index with a series of equal length\n",
    "df.index = df.index.str.lower()\n",
    "df"
   ]
  },
  {
   "cell_type": "code",
   "execution_count": 31,
   "id": "a6d7a68a-6880-4c29-b397-8908418325ab",
   "metadata": {},
   "outputs": [
    {
     "data": {
      "text/plain": [
       "Index(['quantity', 'price', 'subtotal'], dtype='object')"
      ]
     },
     "execution_count": 31,
     "metadata": {},
     "output_type": "execute_result"
    }
   ],
   "source": [
    "# getting all of the columns of the DataFrame\n",
    "df.columns"
   ]
  },
  {
   "cell_type": "code",
   "execution_count": 12,
   "id": "7ec8fdfa-423e-4e23-9e89-001657d99200",
   "metadata": {},
   "outputs": [
    {
     "data": {
      "text/html": [
       "<div>\n",
       "<style scoped>\n",
       "    .dataframe tbody tr th:only-of-type {\n",
       "        vertical-align: middle;\n",
       "    }\n",
       "\n",
       "    .dataframe tbody tr th {\n",
       "        vertical-align: top;\n",
       "    }\n",
       "\n",
       "    .dataframe thead th {\n",
       "        text-align: right;\n",
       "    }\n",
       "</style>\n",
       "<table border=\"1\" class=\"dataframe\">\n",
       "  <thead>\n",
       "    <tr style=\"text-align: right;\">\n",
       "      <th></th>\n",
       "      <th>quantity</th>\n",
       "      <th>price</th>\n",
       "      <th>tax</th>\n",
       "      <th>subtotal</th>\n",
       "    </tr>\n",
       "    <tr>\n",
       "      <th>item</th>\n",
       "      <th></th>\n",
       "      <th></th>\n",
       "      <th></th>\n",
       "      <th></th>\n",
       "    </tr>\n",
       "  </thead>\n",
       "  <tbody>\n",
       "    <tr>\n",
       "      <th>mango</th>\n",
       "      <td>4</td>\n",
       "      <td>2.99</td>\n",
       "      <td>0.05</td>\n",
       "      <td>11.96</td>\n",
       "    </tr>\n",
       "    <tr>\n",
       "      <th>pear</th>\n",
       "      <td>5</td>\n",
       "      <td>5.67</td>\n",
       "      <td>0.05</td>\n",
       "      <td>28.35</td>\n",
       "    </tr>\n",
       "    <tr>\n",
       "      <th>bread</th>\n",
       "      <td>2</td>\n",
       "      <td>3.25</td>\n",
       "      <td>0.05</td>\n",
       "      <td>6.50</td>\n",
       "    </tr>\n",
       "    <tr>\n",
       "      <th>juice</th>\n",
       "      <td>1</td>\n",
       "      <td>5.90</td>\n",
       "      <td>0.05</td>\n",
       "      <td>5.90</td>\n",
       "    </tr>\n",
       "    <tr>\n",
       "      <th>orange</th>\n",
       "      <td>3</td>\n",
       "      <td>2.99</td>\n",
       "      <td>0.05</td>\n",
       "      <td>8.97</td>\n",
       "    </tr>\n",
       "    <tr>\n",
       "      <th>lime</th>\n",
       "      <td>3</td>\n",
       "      <td>0.30</td>\n",
       "      <td>0.05</td>\n",
       "      <td>0.90</td>\n",
       "    </tr>\n",
       "  </tbody>\n",
       "</table>\n",
       "</div>"
      ],
      "text/plain": [
       "        quantity  price   tax  subtotal\n",
       "item                                   \n",
       "mango          4   2.99  0.05     11.96\n",
       "pear           5   5.67  0.05     28.35\n",
       "bread          2   3.25  0.05      6.50\n",
       "juice          1   5.90  0.05      5.90\n",
       "orange         3   2.99  0.05      8.97\n",
       "lime           3   0.30  0.05      0.90"
      ]
     },
     "execution_count": 12,
     "metadata": {},
     "output_type": "execute_result"
    }
   ],
   "source": [
    "df[\"tax\"] = 0.05\n",
    "df"
   ]
  },
  {
   "cell_type": "code",
   "execution_count": 13,
   "id": "c1867ccc-9630-4b03-95e2-3ddfbf1eb352",
   "metadata": {},
   "outputs": [
    {
     "data": {
      "text/html": [
       "<div>\n",
       "<style scoped>\n",
       "    .dataframe tbody tr th:only-of-type {\n",
       "        vertical-align: middle;\n",
       "    }\n",
       "\n",
       "    .dataframe tbody tr th {\n",
       "        vertical-align: top;\n",
       "    }\n",
       "\n",
       "    .dataframe thead th {\n",
       "        text-align: right;\n",
       "    }\n",
       "</style>\n",
       "<table border=\"1\" class=\"dataframe\">\n",
       "  <thead>\n",
       "    <tr style=\"text-align: right;\">\n",
       "      <th></th>\n",
       "      <th>quantity</th>\n",
       "      <th>price</th>\n",
       "      <th>tax</th>\n",
       "      <th>subtotal</th>\n",
       "      <th>total</th>\n",
       "    </tr>\n",
       "    <tr>\n",
       "      <th>item</th>\n",
       "      <th></th>\n",
       "      <th></th>\n",
       "      <th></th>\n",
       "      <th></th>\n",
       "      <th></th>\n",
       "    </tr>\n",
       "  </thead>\n",
       "  <tbody>\n",
       "    <tr>\n",
       "      <th>mango</th>\n",
       "      <td>4</td>\n",
       "      <td>2.99</td>\n",
       "      <td>0.05</td>\n",
       "      <td>11.96</td>\n",
       "      <td>12.5580</td>\n",
       "    </tr>\n",
       "    <tr>\n",
       "      <th>pear</th>\n",
       "      <td>5</td>\n",
       "      <td>5.67</td>\n",
       "      <td>0.05</td>\n",
       "      <td>28.35</td>\n",
       "      <td>29.7675</td>\n",
       "    </tr>\n",
       "    <tr>\n",
       "      <th>bread</th>\n",
       "      <td>2</td>\n",
       "      <td>3.25</td>\n",
       "      <td>0.05</td>\n",
       "      <td>6.50</td>\n",
       "      <td>6.8250</td>\n",
       "    </tr>\n",
       "    <tr>\n",
       "      <th>juice</th>\n",
       "      <td>1</td>\n",
       "      <td>5.90</td>\n",
       "      <td>0.05</td>\n",
       "      <td>5.90</td>\n",
       "      <td>6.1950</td>\n",
       "    </tr>\n",
       "    <tr>\n",
       "      <th>orange</th>\n",
       "      <td>3</td>\n",
       "      <td>2.99</td>\n",
       "      <td>0.05</td>\n",
       "      <td>8.97</td>\n",
       "      <td>9.4185</td>\n",
       "    </tr>\n",
       "    <tr>\n",
       "      <th>lime</th>\n",
       "      <td>3</td>\n",
       "      <td>0.30</td>\n",
       "      <td>0.05</td>\n",
       "      <td>0.90</td>\n",
       "      <td>0.9450</td>\n",
       "    </tr>\n",
       "  </tbody>\n",
       "</table>\n",
       "</div>"
      ],
      "text/plain": [
       "        quantity  price   tax  subtotal    total\n",
       "item                                            \n",
       "mango          4   2.99  0.05     11.96  12.5580\n",
       "pear           5   5.67  0.05     28.35  29.7675\n",
       "bread          2   3.25  0.05      6.50   6.8250\n",
       "juice          1   5.90  0.05      5.90   6.1950\n",
       "orange         3   2.99  0.05      8.97   9.4185\n",
       "lime           3   0.30  0.05      0.90   0.9450"
      ]
     },
     "execution_count": 13,
     "metadata": {},
     "output_type": "execute_result"
    }
   ],
   "source": [
    "# creating the 'total' column\n",
    "df[\"total\"] = df[\"subtotal\"] + df[\"subtotal\"] * df[\"tax\"]\n",
    "df"
   ]
  },
  {
   "cell_type": "code",
   "execution_count": 35,
   "id": "35c43ee0-185b-4efe-853c-de628442a838",
   "metadata": {},
   "outputs": [
    {
     "data": {
      "text/plain": [
       "item\n",
       "mango     2.99\n",
       "pear      5.67\n",
       "bread     3.25\n",
       "juice     5.90\n",
       "orange    2.99\n",
       "lime      0.30\n",
       "Name: price, dtype: float64"
      ]
     },
     "execution_count": 35,
     "metadata": {},
     "output_type": "execute_result"
    }
   ],
   "source": [
    "# dot syntax also allows for the calling of an existing column\n",
    "df.price"
   ]
  },
  {
   "cell_type": "code",
   "execution_count": 36,
   "id": "67451397-1fdf-4c00-87fd-2fb2ee1c8070",
   "metadata": {},
   "outputs": [
    {
     "data": {
      "text/plain": [
       "quantity      int64\n",
       "price       float64\n",
       "subtotal    float64\n",
       "tax         float64\n",
       "total       float64\n",
       "dtype: object"
      ]
     },
     "execution_count": 36,
     "metadata": {},
     "output_type": "execute_result"
    }
   ],
   "source": [
    "# .dtypes outputs the datatypes fopr all the columns in the DataFrame\n",
    "df.dtypes"
   ]
  },
  {
   "cell_type": "code",
   "execution_count": 38,
   "id": "7997465c-b437-49c1-babb-ddfe6a8e92b1",
   "metadata": {},
   "outputs": [
    {
     "name": "stdout",
     "output_type": "stream",
     "text": [
      "<class 'pandas.core.frame.DataFrame'>\n",
      "Index: 6 entries, mango to lime\n",
      "Data columns (total 5 columns):\n",
      " #   Column    Non-Null Count  Dtype  \n",
      "---  ------    --------------  -----  \n",
      " 0   quantity  6 non-null      int64  \n",
      " 1   price     6 non-null      float64\n",
      " 2   subtotal  6 non-null      float64\n",
      " 3   tax       6 non-null      float64\n",
      " 4   total     6 non-null      float64\n",
      "dtypes: float64(4), int64(1)\n",
      "memory usage: 460.0+ bytes\n"
     ]
    }
   ],
   "source": [
    "# .info returns the outputs the datatypes of all the columns in the DataFrame\n",
    "df.info()"
   ]
  },
  {
   "cell_type": "code",
   "execution_count": 39,
   "id": "bf62af85-f374-44c4-aea1-3b0c015e152c",
   "metadata": {},
   "outputs": [
    {
     "data": {
      "text/plain": [
       "count    6.000000\n",
       "mean     3.516667\n",
       "std      2.063489\n",
       "min      0.300000\n",
       "25%      2.990000\n",
       "50%      3.120000\n",
       "75%      5.065000\n",
       "max      5.900000\n",
       "Name: price, dtype: float64"
      ]
     },
     "execution_count": 39,
     "metadata": {},
     "output_type": "execute_result"
    }
   ],
   "source": [
    "df.price.describe()"
   ]
  },
  {
   "cell_type": "code",
   "execution_count": 40,
   "id": "17cff6a5-10b9-4b5f-a656-8ba63469ce00",
   "metadata": {},
   "outputs": [
    {
     "data": {
      "text/html": [
       "<div>\n",
       "<style scoped>\n",
       "    .dataframe tbody tr th:only-of-type {\n",
       "        vertical-align: middle;\n",
       "    }\n",
       "\n",
       "    .dataframe tbody tr th {\n",
       "        vertical-align: top;\n",
       "    }\n",
       "\n",
       "    .dataframe thead th {\n",
       "        text-align: right;\n",
       "    }\n",
       "</style>\n",
       "<table border=\"1\" class=\"dataframe\">\n",
       "  <thead>\n",
       "    <tr style=\"text-align: right;\">\n",
       "      <th></th>\n",
       "      <th>quantity</th>\n",
       "      <th>price</th>\n",
       "      <th>subtotal</th>\n",
       "      <th>tax</th>\n",
       "      <th>total</th>\n",
       "    </tr>\n",
       "  </thead>\n",
       "  <tbody>\n",
       "    <tr>\n",
       "      <th>count</th>\n",
       "      <td>6.000000</td>\n",
       "      <td>6.000000</td>\n",
       "      <td>6.000000</td>\n",
       "      <td>6.000000e+00</td>\n",
       "      <td>6.000000</td>\n",
       "    </tr>\n",
       "    <tr>\n",
       "      <th>mean</th>\n",
       "      <td>3.000000</td>\n",
       "      <td>3.516667</td>\n",
       "      <td>10.430000</td>\n",
       "      <td>5.000000e-02</td>\n",
       "      <td>10.951500</td>\n",
       "    </tr>\n",
       "    <tr>\n",
       "      <th>std</th>\n",
       "      <td>1.414214</td>\n",
       "      <td>2.063489</td>\n",
       "      <td>9.511946</td>\n",
       "      <td>7.601177e-18</td>\n",
       "      <td>9.987543</td>\n",
       "    </tr>\n",
       "    <tr>\n",
       "      <th>min</th>\n",
       "      <td>1.000000</td>\n",
       "      <td>0.300000</td>\n",
       "      <td>0.900000</td>\n",
       "      <td>5.000000e-02</td>\n",
       "      <td>0.945000</td>\n",
       "    </tr>\n",
       "    <tr>\n",
       "      <th>25%</th>\n",
       "      <td>2.250000</td>\n",
       "      <td>2.990000</td>\n",
       "      <td>6.050000</td>\n",
       "      <td>5.000000e-02</td>\n",
       "      <td>6.352500</td>\n",
       "    </tr>\n",
       "    <tr>\n",
       "      <th>50%</th>\n",
       "      <td>3.000000</td>\n",
       "      <td>3.120000</td>\n",
       "      <td>7.735000</td>\n",
       "      <td>5.000000e-02</td>\n",
       "      <td>8.121750</td>\n",
       "    </tr>\n",
       "    <tr>\n",
       "      <th>75%</th>\n",
       "      <td>3.750000</td>\n",
       "      <td>5.065000</td>\n",
       "      <td>11.212500</td>\n",
       "      <td>5.000000e-02</td>\n",
       "      <td>11.773125</td>\n",
       "    </tr>\n",
       "    <tr>\n",
       "      <th>max</th>\n",
       "      <td>5.000000</td>\n",
       "      <td>5.900000</td>\n",
       "      <td>28.350000</td>\n",
       "      <td>5.000000e-02</td>\n",
       "      <td>29.767500</td>\n",
       "    </tr>\n",
       "  </tbody>\n",
       "</table>\n",
       "</div>"
      ],
      "text/plain": [
       "       quantity     price   subtotal           tax      total\n",
       "count  6.000000  6.000000   6.000000  6.000000e+00   6.000000\n",
       "mean   3.000000  3.516667  10.430000  5.000000e-02  10.951500\n",
       "std    1.414214  2.063489   9.511946  7.601177e-18   9.987543\n",
       "min    1.000000  0.300000   0.900000  5.000000e-02   0.945000\n",
       "25%    2.250000  2.990000   6.050000  5.000000e-02   6.352500\n",
       "50%    3.000000  3.120000   7.735000  5.000000e-02   8.121750\n",
       "75%    3.750000  5.065000  11.212500  5.000000e-02  11.773125\n",
       "max    5.000000  5.900000  28.350000  5.000000e-02  29.767500"
      ]
     },
     "execution_count": 40,
     "metadata": {},
     "output_type": "execute_result"
    }
   ],
   "source": [
    "# show dsecriptive stats for numeric columns\n",
    "df.describe()"
   ]
  },
  {
   "cell_type": "code",
   "execution_count": 3,
   "id": "8495faa7-f49c-4e3c-a341-43e7f0aabcca",
   "metadata": {},
   "outputs": [],
   "source": [
    "# renaming columns - part 2"
   ]
  },
  {
   "cell_type": "code",
   "execution_count": 16,
   "id": "cfd0a231-b822-4167-affd-5d8992b5bca8",
   "metadata": {},
   "outputs": [
    {
     "data": {
      "text/html": [
       "<div>\n",
       "<style scoped>\n",
       "    .dataframe tbody tr th:only-of-type {\n",
       "        vertical-align: middle;\n",
       "    }\n",
       "\n",
       "    .dataframe tbody tr th {\n",
       "        vertical-align: top;\n",
       "    }\n",
       "\n",
       "    .dataframe thead th {\n",
       "        text-align: right;\n",
       "    }\n",
       "</style>\n",
       "<table border=\"1\" class=\"dataframe\">\n",
       "  <thead>\n",
       "    <tr style=\"text-align: right;\">\n",
       "      <th></th>\n",
       "      <th>quantity</th>\n",
       "      <th>price</th>\n",
       "      <th>tax</th>\n",
       "      <th>subtotal</th>\n",
       "      <th>total</th>\n",
       "      <th>shape</th>\n",
       "    </tr>\n",
       "    <tr>\n",
       "      <th>item</th>\n",
       "      <th></th>\n",
       "      <th></th>\n",
       "      <th></th>\n",
       "      <th></th>\n",
       "      <th></th>\n",
       "      <th></th>\n",
       "    </tr>\n",
       "  </thead>\n",
       "  <tbody>\n",
       "    <tr>\n",
       "      <th>mango</th>\n",
       "      <td>4</td>\n",
       "      <td>2.99</td>\n",
       "      <td>0.05</td>\n",
       "      <td>11.96</td>\n",
       "      <td>12.5580</td>\n",
       "      <td>round</td>\n",
       "    </tr>\n",
       "    <tr>\n",
       "      <th>pear</th>\n",
       "      <td>5</td>\n",
       "      <td>5.67</td>\n",
       "      <td>0.05</td>\n",
       "      <td>28.35</td>\n",
       "      <td>29.7675</td>\n",
       "      <td>pear</td>\n",
       "    </tr>\n",
       "    <tr>\n",
       "      <th>bread</th>\n",
       "      <td>2</td>\n",
       "      <td>3.25</td>\n",
       "      <td>0.05</td>\n",
       "      <td>6.50</td>\n",
       "      <td>6.8250</td>\n",
       "      <td>loaf</td>\n",
       "    </tr>\n",
       "    <tr>\n",
       "      <th>juice</th>\n",
       "      <td>1</td>\n",
       "      <td>5.90</td>\n",
       "      <td>0.05</td>\n",
       "      <td>5.90</td>\n",
       "      <td>6.1950</td>\n",
       "      <td>jug</td>\n",
       "    </tr>\n",
       "    <tr>\n",
       "      <th>orange</th>\n",
       "      <td>3</td>\n",
       "      <td>2.99</td>\n",
       "      <td>0.05</td>\n",
       "      <td>8.97</td>\n",
       "      <td>9.4185</td>\n",
       "      <td>round</td>\n",
       "    </tr>\n",
       "    <tr>\n",
       "      <th>lime</th>\n",
       "      <td>3</td>\n",
       "      <td>0.30</td>\n",
       "      <td>0.05</td>\n",
       "      <td>0.90</td>\n",
       "      <td>0.9450</td>\n",
       "      <td>round</td>\n",
       "    </tr>\n",
       "  </tbody>\n",
       "</table>\n",
       "</div>"
      ],
      "text/plain": [
       "        quantity  price   tax  subtotal    total  shape\n",
       "item                                                   \n",
       "mango          4   2.99  0.05     11.96  12.5580  round\n",
       "pear           5   5.67  0.05     28.35  29.7675   pear\n",
       "bread          2   3.25  0.05      6.50   6.8250   loaf\n",
       "juice          1   5.90  0.05      5.90   6.1950    jug\n",
       "orange         3   2.99  0.05      8.97   9.4185  round\n",
       "lime           3   0.30  0.05      0.90   0.9450  round"
      ]
     },
     "execution_count": 16,
     "metadata": {},
     "output_type": "execute_result"
    }
   ],
   "source": [
    "# avoid using column names with spaces and remove spaces when encountering them\n",
    "# avoid naming columns after a DataFrame method\n",
    "df[\"shape\"] = [\"round\", \"pear\", \"loaf\", \"jug\", \"round\", \"round\"]\n",
    "df"
   ]
  },
  {
   "cell_type": "code",
   "execution_count": 17,
   "id": "27c8cd4f-784e-412a-9402-394c016af23a",
   "metadata": {},
   "outputs": [
    {
     "data": {
      "text/plain": [
       "(6, 6)"
      ]
     },
     "execution_count": 17,
     "metadata": {},
     "output_type": "execute_result"
    }
   ],
   "source": [
    "df.shape"
   ]
  },
  {
   "cell_type": "code",
   "execution_count": 18,
   "id": "1350880a-8d07-48c6-80b1-46ae14810760",
   "metadata": {},
   "outputs": [
    {
     "data": {
      "text/plain": [
       "item\n",
       "mango     round\n",
       "pear       pear\n",
       "bread      loaf\n",
       "juice       jug\n",
       "orange    round\n",
       "lime      round\n",
       "Name: shape, dtype: object"
      ]
     },
     "execution_count": 18,
     "metadata": {},
     "output_type": "execute_result"
    }
   ],
   "source": [
    "df[\"shape\"]"
   ]
  },
  {
   "cell_type": "code",
   "execution_count": 19,
   "id": "5e8b9f1f-1b80-4a78-a03d-5efa8b102eff",
   "metadata": {},
   "outputs": [
    {
     "data": {
      "text/html": [
       "<div>\n",
       "<style scoped>\n",
       "    .dataframe tbody tr th:only-of-type {\n",
       "        vertical-align: middle;\n",
       "    }\n",
       "\n",
       "    .dataframe tbody tr th {\n",
       "        vertical-align: top;\n",
       "    }\n",
       "\n",
       "    .dataframe thead th {\n",
       "        text-align: right;\n",
       "    }\n",
       "</style>\n",
       "<table border=\"1\" class=\"dataframe\">\n",
       "  <thead>\n",
       "    <tr style=\"text-align: right;\">\n",
       "      <th></th>\n",
       "      <th>quantity</th>\n",
       "      <th>price</th>\n",
       "      <th>tax</th>\n",
       "      <th>subtotal</th>\n",
       "      <th>total</th>\n",
       "      <th>item_shape</th>\n",
       "    </tr>\n",
       "    <tr>\n",
       "      <th>item</th>\n",
       "      <th></th>\n",
       "      <th></th>\n",
       "      <th></th>\n",
       "      <th></th>\n",
       "      <th></th>\n",
       "      <th></th>\n",
       "    </tr>\n",
       "  </thead>\n",
       "  <tbody>\n",
       "    <tr>\n",
       "      <th>mango</th>\n",
       "      <td>4</td>\n",
       "      <td>2.99</td>\n",
       "      <td>0.05</td>\n",
       "      <td>11.96</td>\n",
       "      <td>12.5580</td>\n",
       "      <td>round</td>\n",
       "    </tr>\n",
       "    <tr>\n",
       "      <th>pear</th>\n",
       "      <td>5</td>\n",
       "      <td>5.67</td>\n",
       "      <td>0.05</td>\n",
       "      <td>28.35</td>\n",
       "      <td>29.7675</td>\n",
       "      <td>pear</td>\n",
       "    </tr>\n",
       "    <tr>\n",
       "      <th>bread</th>\n",
       "      <td>2</td>\n",
       "      <td>3.25</td>\n",
       "      <td>0.05</td>\n",
       "      <td>6.50</td>\n",
       "      <td>6.8250</td>\n",
       "      <td>loaf</td>\n",
       "    </tr>\n",
       "    <tr>\n",
       "      <th>juice</th>\n",
       "      <td>1</td>\n",
       "      <td>5.90</td>\n",
       "      <td>0.05</td>\n",
       "      <td>5.90</td>\n",
       "      <td>6.1950</td>\n",
       "      <td>jug</td>\n",
       "    </tr>\n",
       "    <tr>\n",
       "      <th>orange</th>\n",
       "      <td>3</td>\n",
       "      <td>2.99</td>\n",
       "      <td>0.05</td>\n",
       "      <td>8.97</td>\n",
       "      <td>9.4185</td>\n",
       "      <td>round</td>\n",
       "    </tr>\n",
       "    <tr>\n",
       "      <th>lime</th>\n",
       "      <td>3</td>\n",
       "      <td>0.30</td>\n",
       "      <td>0.05</td>\n",
       "      <td>0.90</td>\n",
       "      <td>0.9450</td>\n",
       "      <td>round</td>\n",
       "    </tr>\n",
       "  </tbody>\n",
       "</table>\n",
       "</div>"
      ],
      "text/plain": [
       "        quantity  price   tax  subtotal    total item_shape\n",
       "item                                                       \n",
       "mango          4   2.99  0.05     11.96  12.5580      round\n",
       "pear           5   5.67  0.05     28.35  29.7675       pear\n",
       "bread          2   3.25  0.05      6.50   6.8250       loaf\n",
       "juice          1   5.90  0.05      5.90   6.1950        jug\n",
       "orange         3   2.99  0.05      8.97   9.4185      round\n",
       "lime           3   0.30  0.05      0.90   0.9450      round"
      ]
     },
     "execution_count": 19,
     "metadata": {},
     "output_type": "execute_result"
    }
   ],
   "source": [
    "# naming columns the same as built-in DataFrame methods and spces in column names are not helpful\n",
    "# .rename allows for renaming columns in a DataFrrame using a dictionary\n",
    "df.rename(columns={\"shape\": \"item_shape\"}, inplace=True)\n",
    "df"
   ]
  },
  {
   "cell_type": "code",
   "execution_count": 21,
   "id": "dfeed92e-ae0a-405b-9cbd-fed485754c72",
   "metadata": {},
   "outputs": [
    {
     "data": {
      "text/plain": [
       "item\n",
       "mango     round\n",
       "pear       pear\n",
       "bread      loaf\n",
       "juice       jug\n",
       "orange    round\n",
       "lime      round\n",
       "Name: item_shape, dtype: object"
      ]
     },
     "execution_count": 21,
     "metadata": {},
     "output_type": "execute_result"
    }
   ],
   "source": [
    "# now we don't just need to use bracket notation to get access to the items in this column\n",
    "df.item_shape"
   ]
  },
  {
   "cell_type": "code",
   "execution_count": 28,
   "id": "61dd25e8-7844-45c1-b1d3-4658910b0f1a",
   "metadata": {},
   "outputs": [
    {
     "data": {
      "text/html": [
       "<div>\n",
       "<style scoped>\n",
       "    .dataframe tbody tr th:only-of-type {\n",
       "        vertical-align: middle;\n",
       "    }\n",
       "\n",
       "    .dataframe tbody tr th {\n",
       "        vertical-align: top;\n",
       "    }\n",
       "\n",
       "    .dataframe thead th {\n",
       "        text-align: right;\n",
       "    }\n",
       "</style>\n",
       "<table border=\"1\" class=\"dataframe\">\n",
       "  <thead>\n",
       "    <tr style=\"text-align: right;\">\n",
       "      <th></th>\n",
       "      <th>item name</th>\n",
       "      <th>price</th>\n",
       "      <th>type</th>\n",
       "    </tr>\n",
       "  </thead>\n",
       "  <tbody>\n",
       "    <tr>\n",
       "      <th>0</th>\n",
       "      <td>USB cable</td>\n",
       "      <td>$10.99</td>\n",
       "      <td>USB C to USB C</td>\n",
       "    </tr>\n",
       "    <tr>\n",
       "      <th>1</th>\n",
       "      <td>USB cable</td>\n",
       "      <td>$10.99</td>\n",
       "      <td>USB A to USB C</td>\n",
       "    </tr>\n",
       "    <tr>\n",
       "      <th>2</th>\n",
       "      <td>Batteries</td>\n",
       "      <td>$9.99</td>\n",
       "      <td>AA</td>\n",
       "    </tr>\n",
       "    <tr>\n",
       "      <th>3</th>\n",
       "      <td>Batteries</td>\n",
       "      <td>$8.99</td>\n",
       "      <td>AAA</td>\n",
       "    </tr>\n",
       "    <tr>\n",
       "      <th>4</th>\n",
       "      <td>Mouse</td>\n",
       "      <td>$12.99</td>\n",
       "      <td>Wireless USB</td>\n",
       "    </tr>\n",
       "  </tbody>\n",
       "</table>\n",
       "</div>"
      ],
      "text/plain": [
       "   item name   price            type\n",
       "0  USB cable  $10.99  USB C to USB C\n",
       "1  USB cable  $10.99  USB A to USB C\n",
       "2  Batteries   $9.99              AA\n",
       "3  Batteries   $8.99             AAA\n",
       "4      Mouse  $12.99    Wireless USB"
      ]
     },
     "execution_count": 28,
     "metadata": {},
     "output_type": "execute_result"
    }
   ],
   "source": [
    "# Challenge\n",
    "items = [\n",
    "    {\"item name\": \"USB cable\", \"price\": \"$10.99\", \"type\": \"USB C to USB C\"},\n",
    "    {\"item name\": \"USB cable\", \"price\": \"$10.99\", \"type\": \"USB A to USB C\"},\n",
    "    {\"item name\": \"Batteries\", \"price\": \"$9.99\", \"type\": \"AA\"},\n",
    "    {\"item name\": \"Batteries\", \"price\": \"$8.99\", \"type\": \"AAA\"},\n",
    "    {\"item name\": \"Mouse\", \"price\": \"$12.99\", \"type\": \"Wireless USB\"}\n",
    "]\n",
    "\n",
    "# turing it into a DataFrame\n",
    "items = pd.DataFrame(items)\n",
    "items"
   ]
  },
  {
   "cell_type": "code",
   "execution_count": 29,
   "id": "c26ece61-bda1-4897-96e7-56202bccdd5a",
   "metadata": {},
   "outputs": [
    {
     "data": {
      "text/html": [
       "<div>\n",
       "<style scoped>\n",
       "    .dataframe tbody tr th:only-of-type {\n",
       "        vertical-align: middle;\n",
       "    }\n",
       "\n",
       "    .dataframe tbody tr th {\n",
       "        vertical-align: top;\n",
       "    }\n",
       "\n",
       "    .dataframe thead th {\n",
       "        text-align: right;\n",
       "    }\n",
       "</style>\n",
       "<table border=\"1\" class=\"dataframe\">\n",
       "  <thead>\n",
       "    <tr style=\"text-align: right;\">\n",
       "      <th></th>\n",
       "      <th>item_name</th>\n",
       "      <th>price</th>\n",
       "      <th>type</th>\n",
       "    </tr>\n",
       "  </thead>\n",
       "  <tbody>\n",
       "    <tr>\n",
       "      <th>0</th>\n",
       "      <td>USB cable</td>\n",
       "      <td>$10.99</td>\n",
       "      <td>USB C to USB C</td>\n",
       "    </tr>\n",
       "    <tr>\n",
       "      <th>1</th>\n",
       "      <td>USB cable</td>\n",
       "      <td>$10.99</td>\n",
       "      <td>USB A to USB C</td>\n",
       "    </tr>\n",
       "    <tr>\n",
       "      <th>2</th>\n",
       "      <td>Batteries</td>\n",
       "      <td>$9.99</td>\n",
       "      <td>AA</td>\n",
       "    </tr>\n",
       "    <tr>\n",
       "      <th>3</th>\n",
       "      <td>Batteries</td>\n",
       "      <td>$8.99</td>\n",
       "      <td>AAA</td>\n",
       "    </tr>\n",
       "    <tr>\n",
       "      <th>4</th>\n",
       "      <td>Mouse</td>\n",
       "      <td>$12.99</td>\n",
       "      <td>Wireless USB</td>\n",
       "    </tr>\n",
       "  </tbody>\n",
       "</table>\n",
       "</div>"
      ],
      "text/plain": [
       "   item_name   price            type\n",
       "0  USB cable  $10.99  USB C to USB C\n",
       "1  USB cable  $10.99  USB A to USB C\n",
       "2  Batteries   $9.99              AA\n",
       "3  Batteries   $8.99             AAA\n",
       "4      Mouse  $12.99    Wireless USB"
      ]
     },
     "execution_count": 29,
     "metadata": {},
     "output_type": "execute_result"
    }
   ],
   "source": [
    "# renaming the comlumn name to remove the spaces\n",
    "items.rename(columns={\"item name\": \"item_name\"}, inplace=True)\n",
    "items"
   ]
  },
  {
   "cell_type": "code",
   "execution_count": 30,
   "id": "d38a0567-7062-40cb-a65c-d1285e4b8c58",
   "metadata": {},
   "outputs": [
    {
     "data": {
      "text/html": [
       "<div>\n",
       "<style scoped>\n",
       "    .dataframe tbody tr th:only-of-type {\n",
       "        vertical-align: middle;\n",
       "    }\n",
       "\n",
       "    .dataframe tbody tr th {\n",
       "        vertical-align: top;\n",
       "    }\n",
       "\n",
       "    .dataframe thead th {\n",
       "        text-align: right;\n",
       "    }\n",
       "</style>\n",
       "<table border=\"1\" class=\"dataframe\">\n",
       "  <thead>\n",
       "    <tr style=\"text-align: right;\">\n",
       "      <th></th>\n",
       "      <th>item_name</th>\n",
       "      <th>price</th>\n",
       "      <th>type</th>\n",
       "      <th>units_sold</th>\n",
       "    </tr>\n",
       "  </thead>\n",
       "  <tbody>\n",
       "    <tr>\n",
       "      <th>0</th>\n",
       "      <td>USB cable</td>\n",
       "      <td>$10.99</td>\n",
       "      <td>USB C to USB C</td>\n",
       "      <td>41</td>\n",
       "    </tr>\n",
       "    <tr>\n",
       "      <th>1</th>\n",
       "      <td>USB cable</td>\n",
       "      <td>$10.99</td>\n",
       "      <td>USB A to USB C</td>\n",
       "      <td>113</td>\n",
       "    </tr>\n",
       "    <tr>\n",
       "      <th>2</th>\n",
       "      <td>Batteries</td>\n",
       "      <td>$9.99</td>\n",
       "      <td>AA</td>\n",
       "      <td>54</td>\n",
       "    </tr>\n",
       "    <tr>\n",
       "      <th>3</th>\n",
       "      <td>Batteries</td>\n",
       "      <td>$8.99</td>\n",
       "      <td>AAA</td>\n",
       "      <td>35</td>\n",
       "    </tr>\n",
       "    <tr>\n",
       "      <th>4</th>\n",
       "      <td>Mouse</td>\n",
       "      <td>$12.99</td>\n",
       "      <td>Wireless USB</td>\n",
       "      <td>22</td>\n",
       "    </tr>\n",
       "  </tbody>\n",
       "</table>\n",
       "</div>"
      ],
      "text/plain": [
       "   item_name   price            type units_sold\n",
       "0  USB cable  $10.99  USB C to USB C         41\n",
       "1  USB cable  $10.99  USB A to USB C        113\n",
       "2  Batteries   $9.99              AA         54\n",
       "3  Batteries   $8.99             AAA         35\n",
       "4      Mouse  $12.99    Wireless USB         22"
      ]
     },
     "execution_count": 30,
     "metadata": {},
     "output_type": "execute_result"
    }
   ],
   "source": [
    "# adding column name 'units_sold'\n",
    "items[\"units_sold\"] = [\"41\", \"113\", \"54\", \"35\", \"22\"]\n",
    "items"
   ]
  },
  {
   "cell_type": "code",
   "execution_count": 55,
   "id": "d2a2bd72-39e3-4b0d-bb66-614f3d14c273",
   "metadata": {},
   "outputs": [
    {
     "ename": "SyntaxError",
     "evalue": "'return' outside function (3641789898.py, line 8)",
     "output_type": "error",
     "traceback": [
      "\u001b[1;36m  Cell \u001b[1;32mIn[55], line 8\u001b[1;36m\u001b[0m\n\u001b[1;33m    return None\u001b[0m\n\u001b[1;37m    ^\u001b[0m\n\u001b[1;31mSyntaxError\u001b[0m\u001b[1;31m:\u001b[0m 'return' outside function\n"
     ]
    }
   ],
   "source": [
    "# turning the price column into type 'float'\n",
    "# getting rid of unwated characters that might prevent the conversion\n",
    "\n",
    "# this is here just to handle the error that it throws when this code-block is ran\n",
    "try:\n",
    "    items[\"price\"] = items[\"price\"].str.replace(\"$\", \"\")\n",
    "except AttributeError:\n",
    "    return None\n",
    "return items[\"price\"]"
   ]
  },
  {
   "cell_type": "code",
   "execution_count": 41,
   "id": "7b496128-09a8-4b2e-861a-a0ba9cf38fdb",
   "metadata": {},
   "outputs": [
    {
     "data": {
      "text/plain": [
       "count     5.00000\n",
       "mean     10.79000\n",
       "std       1.48324\n",
       "min       8.99000\n",
       "25%       9.99000\n",
       "50%      10.99000\n",
       "75%      10.99000\n",
       "max      12.99000\n",
       "Name: price, dtype: float64"
      ]
     },
     "execution_count": 41,
     "metadata": {},
     "output_type": "execute_result"
    }
   ],
   "source": [
    "# here we can confirm that the transition was a success \n",
    "# because we are seeing that error above and because we are getting \n",
    "# dtype: float64\n",
    "items[\"price\"] = items[\"price\"].astype(float)\n",
    "items[\"price\"].describe()"
   ]
  },
  {
   "cell_type": "code",
   "execution_count": 64,
   "id": "7d42e522-fbd3-42b7-8079-c7a15dbd9844",
   "metadata": {},
   "outputs": [
    {
     "data": {
      "text/plain": [
       "0     450.6\n",
       "1    1241.9\n",
       "2     539.5\n",
       "3     314.7\n",
       "4     285.8\n",
       "dtype: float64"
      ]
     },
     "execution_count": 64,
     "metadata": {},
     "output_type": "execute_result"
    }
   ],
   "source": [
    "# can't multiply the float by an int for some reason\n",
    "# so we are going to change one of the datatypes\n",
    "temp_data = items[\"units_sold\"].astype(float)\n",
    "temp =  (items[\"price\"]) * (temp_data)\n",
    "round(temp, 1)"
   ]
  },
  {
   "cell_type": "code",
   "execution_count": 65,
   "id": "f215b391-ce71-436f-af12-337c1c4470f6",
   "metadata": {},
   "outputs": [
    {
     "data": {
      "text/html": [
       "<div>\n",
       "<style scoped>\n",
       "    .dataframe tbody tr th:only-of-type {\n",
       "        vertical-align: middle;\n",
       "    }\n",
       "\n",
       "    .dataframe tbody tr th {\n",
       "        vertical-align: top;\n",
       "    }\n",
       "\n",
       "    .dataframe thead th {\n",
       "        text-align: right;\n",
       "    }\n",
       "</style>\n",
       "<table border=\"1\" class=\"dataframe\">\n",
       "  <thead>\n",
       "    <tr style=\"text-align: right;\">\n",
       "      <th></th>\n",
       "      <th>item_name</th>\n",
       "      <th>price</th>\n",
       "      <th>type</th>\n",
       "      <th>units_sold</th>\n",
       "      <th>total_revenue</th>\n",
       "    </tr>\n",
       "  </thead>\n",
       "  <tbody>\n",
       "    <tr>\n",
       "      <th>0</th>\n",
       "      <td>USB cable</td>\n",
       "      <td>10.99</td>\n",
       "      <td>USB C to USB C</td>\n",
       "      <td>41</td>\n",
       "      <td>450.6</td>\n",
       "    </tr>\n",
       "    <tr>\n",
       "      <th>1</th>\n",
       "      <td>USB cable</td>\n",
       "      <td>10.99</td>\n",
       "      <td>USB A to USB C</td>\n",
       "      <td>113</td>\n",
       "      <td>1241.9</td>\n",
       "    </tr>\n",
       "    <tr>\n",
       "      <th>2</th>\n",
       "      <td>Batteries</td>\n",
       "      <td>9.99</td>\n",
       "      <td>AA</td>\n",
       "      <td>54</td>\n",
       "      <td>539.5</td>\n",
       "    </tr>\n",
       "    <tr>\n",
       "      <th>3</th>\n",
       "      <td>Batteries</td>\n",
       "      <td>8.99</td>\n",
       "      <td>AAA</td>\n",
       "      <td>35</td>\n",
       "      <td>314.7</td>\n",
       "    </tr>\n",
       "    <tr>\n",
       "      <th>4</th>\n",
       "      <td>Mouse</td>\n",
       "      <td>12.99</td>\n",
       "      <td>Wireless USB</td>\n",
       "      <td>22</td>\n",
       "      <td>285.8</td>\n",
       "    </tr>\n",
       "  </tbody>\n",
       "</table>\n",
       "</div>"
      ],
      "text/plain": [
       "   item_name  price            type units_sold  total_revenue\n",
       "0  USB cable  10.99  USB C to USB C         41          450.6\n",
       "1  USB cable  10.99  USB A to USB C        113         1241.9\n",
       "2  Batteries   9.99              AA         54          539.5\n",
       "3  Batteries   8.99             AAA         35          314.7\n",
       "4      Mouse  12.99    Wireless USB         22          285.8"
      ]
     },
     "execution_count": 65,
     "metadata": {},
     "output_type": "execute_result"
    }
   ],
   "source": [
    "items[\"total_revenue\"] = round(temp, 1)\n",
    "items"
   ]
  },
  {
   "cell_type": "code",
   "execution_count": null,
   "id": "d66754f4-d40e-4db1-a74b-acccfb84f318",
   "metadata": {},
   "outputs": [],
   "source": []
  }
 ],
 "metadata": {
  "kernelspec": {
   "display_name": "Python 3 (ipykernel)",
   "language": "python",
   "name": "python3"
  },
  "language_info": {
   "codemirror_mode": {
    "name": "ipython",
    "version": 3
   },
   "file_extension": ".py",
   "mimetype": "text/x-python",
   "name": "python",
   "nbconvert_exporter": "python",
   "pygments_lexer": "ipython3",
   "version": "3.12.0"
  }
 },
 "nbformat": 4,
 "nbformat_minor": 5
}
