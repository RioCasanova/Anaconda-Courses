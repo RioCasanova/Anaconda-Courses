{
 "cells": [
  {
   "cell_type": "code",
   "execution_count": 2,
   "id": "1e292172-50c8-441e-849e-b974b8486999",
   "metadata": {},
   "outputs": [],
   "source": [
    "# Series\n",
    "import pandas as pd"
   ]
  },
  {
   "cell_type": "code",
   "execution_count": 3,
   "id": "cc03e604-292c-404c-b6cc-af8ae7f75ab2",
   "metadata": {},
   "outputs": [
    {
     "data": {
      "text/plain": [
       "0    7\n",
       "1    8\n",
       "2    9\n",
       "dtype: int64"
      ]
     },
     "execution_count": 3,
     "metadata": {},
     "output_type": "execute_result"
    }
   ],
   "source": [
    "pd.Series([7, 8, 9])"
   ]
  },
  {
   "cell_type": "code",
   "execution_count": 4,
   "id": "4b7debf9-17cb-4195-8548-4a1dda55b029",
   "metadata": {},
   "outputs": [
    {
     "data": {
      "text/plain": [
       "0     True\n",
       "1    False\n",
       "2     True\n",
       "dtype: bool"
      ]
     },
     "execution_count": 4,
     "metadata": {},
     "output_type": "execute_result"
    }
   ],
   "source": [
    "# assigning series to a variable\n",
    "results = pd.Series([True, False, True])\n",
    "results"
   ]
  },
  {
   "cell_type": "code",
   "execution_count": 5,
   "id": "e8fc77c9-82ce-4f2c-bb96-4db6808387b3",
   "metadata": {},
   "outputs": [
    {
     "data": {
      "text/plain": [
       "0      red\n",
       "1     blue\n",
       "2    green\n",
       "dtype: object"
      ]
     },
     "execution_count": 5,
     "metadata": {},
     "output_type": "execute_result"
    }
   ],
   "source": [
    "# can turn this array into a Series\n",
    "colors = [\"red\", \"blue\", \"green\"]\n",
    "colors = pd.Series(colors)\n",
    "colors"
   ]
  },
  {
   "cell_type": "code",
   "execution_count": 6,
   "id": "9cf4179c-a779-4f38-bebf-9de276921d73",
   "metadata": {},
   "outputs": [],
   "source": [
    "# everything in pandas is built to be vectorized , this allows us to complete operations on Series of whatever datatype that we have \n",
    "# have have the operation be applied to every item within that Series"
   ]
  },
  {
   "cell_type": "code",
   "execution_count": 7,
   "id": "c71dc295-4baf-4ec0-9294-dbd7d78bd17f",
   "metadata": {},
   "outputs": [
    {
     "data": {
      "text/plain": [
       "0   -3\n",
       "1   -2\n",
       "2   -1\n",
       "3    0\n",
       "4    1\n",
       "5    2\n",
       "dtype: int64"
      ]
     },
     "execution_count": 7,
     "metadata": {},
     "output_type": "execute_result"
    }
   ],
   "source": [
    "numbers = pd.Series(range(-3, 3))\n",
    "numbers"
   ]
  },
  {
   "cell_type": "code",
   "execution_count": 9,
   "id": "8044c4e9-6bc2-442b-a5c7-73cec92fc3ba",
   "metadata": {},
   "outputs": [
    {
     "data": {
      "text/plain": [
       "0   -2\n",
       "1   -1\n",
       "2    0\n",
       "3    1\n",
       "4    2\n",
       "5    3\n",
       "dtype: int64"
      ]
     },
     "execution_count": 9,
     "metadata": {},
     "output_type": "execute_result"
    }
   ],
   "source": [
    "# here we are doing simple addition - this can be done with any operation\n",
    "# I am not typing it all because I am lazy\n",
    "numbers + 1"
   ]
  },
  {
   "cell_type": "code",
   "execution_count": 10,
   "id": "bb0f38cd-d393-42b9-aa2a-a397b4175e80",
   "metadata": {},
   "outputs": [
    {
     "data": {
      "text/plain": [
       "0   -3\n",
       "1   -2\n",
       "2   -1\n",
       "3    0\n",
       "4    1\n",
       "5    2\n",
       "dtype: int64"
      ]
     },
     "execution_count": 10,
     "metadata": {},
     "output_type": "execute_result"
    }
   ],
   "source": [
    "# it does not however, change the contents of the Series\n",
    "numbers"
   ]
  },
  {
   "cell_type": "code",
   "execution_count": 15,
   "id": "24fdd5f4-ded7-411f-9b4a-c8879441bb0c",
   "metadata": {
    "scrolled": true
   },
   "outputs": [
    {
     "data": {
      "text/plain": [
       "0    1\n",
       "1    2\n",
       "2    3\n",
       "3    4\n",
       "4    5\n",
       "5    6\n",
       "dtype: int64"
      ]
     },
     "execution_count": 15,
     "metadata": {},
     "output_type": "execute_result"
    }
   ],
   "source": [
    "# this is how we can change the variable\n",
    "numbers = numbers + 1\n",
    "numbers"
   ]
  },
  {
   "cell_type": "code",
   "execution_count": 17,
   "id": "5d711f54-b3e7-45e5-9ab9-e85e763e8f11",
   "metadata": {},
   "outputs": [
    {
     "data": {
      "text/plain": [
       "RangeIndex(start=0, stop=6, step=1)"
      ]
     },
     "execution_count": 17,
     "metadata": {},
     "output_type": "execute_result"
    }
   ],
   "source": [
    "# .index returns information about the index \n",
    "numbers.index"
   ]
  },
  {
   "cell_type": "code",
   "execution_count": 18,
   "id": "3855e604-595a-4e3a-867a-9b45f9bd5721",
   "metadata": {},
   "outputs": [
    {
     "data": {
      "text/plain": [
       "dtype('int64')"
      ]
     },
     "execution_count": 18,
     "metadata": {},
     "output_type": "execute_result"
    }
   ],
   "source": [
    "# .dtype attribute gets the datatype\n",
    "numbers.dtype"
   ]
  },
  {
   "cell_type": "code",
   "execution_count": 19,
   "id": "cac794d4-0ec7-4b08-bf1d-014c0396a2aa",
   "metadata": {},
   "outputs": [
    {
     "data": {
      "text/plain": [
       "array([1, 2, 3, 4, 5, 6], dtype=int64)"
      ]
     },
     "execution_count": 19,
     "metadata": {},
     "output_type": "execute_result"
    }
   ],
   "source": [
    "# .values gets just the values\n",
    "numbers.values"
   ]
  },
  {
   "cell_type": "code",
   "execution_count": 21,
   "id": "12b0e621-9027-4d6c-ad08-65741a5f25fe",
   "metadata": {},
   "outputs": [
    {
     "data": {
      "text/plain": [
       "(6,)"
      ]
     },
     "execution_count": 21,
     "metadata": {},
     "output_type": "execute_result"
    }
   ],
   "source": [
    "# returns the shape of the object we are using it on\n",
    "# most commonly used on multi-dimensional dicts or lists to get the number of rows and columns\n",
    "numbers.shape"
   ]
  },
  {
   "cell_type": "code",
   "execution_count": 22,
   "id": "dc5b8b0a-c119-480e-ae24-7fa36b057695",
   "metadata": {},
   "outputs": [
    {
     "data": {
      "text/plain": [
       "1    1\n",
       "2    1\n",
       "3    1\n",
       "4    1\n",
       "5    1\n",
       "6    1\n",
       "Name: count, dtype: int64"
      ]
     },
     "execution_count": 22,
     "metadata": {},
     "output_type": "execute_result"
    }
   ],
   "source": [
    "# .value_counts returns a frequency count of values \n",
    "# the index is the value\n",
    "numbers.value_counts()"
   ]
  },
  {
   "cell_type": "code",
   "execution_count": 23,
   "id": "e66d3fa3-b230-4824-a364-7e6da85d12a9",
   "metadata": {},
   "outputs": [
    {
     "data": {
      "text/plain": [
       "0    1\n",
       "1    2\n",
       "2    3\n",
       "3    4\n",
       "4    5\n",
       "5    6\n",
       "dtype: int64"
      ]
     },
     "execution_count": 23,
     "metadata": {},
     "output_type": "execute_result"
    }
   ],
   "source": [
    "# mode is the most requently occuring value in a dataset\n",
    "numbers.mode()"
   ]
  },
  {
   "cell_type": "code",
   "execution_count": 24,
   "id": "b836c470-c266-4e1b-b551-664f2a4c14e5",
   "metadata": {},
   "outputs": [
    {
     "data": {
      "text/plain": [
       "3.5"
      ]
     },
     "execution_count": 24,
     "metadata": {},
     "output_type": "execute_result"
    }
   ],
   "source": [
    "# median is the original middle of the sorted data\n",
    "numbers.median()"
   ]
  },
  {
   "cell_type": "code",
   "execution_count": 25,
   "id": "f9ef18cd-6d99-416d-a111-c2990bf152c1",
   "metadata": {},
   "outputs": [
    {
     "data": {
      "text/plain": [
       "3.5"
      ]
     },
     "execution_count": 25,
     "metadata": {},
     "output_type": "execute_result"
    }
   ],
   "source": [
    "# average\n",
    "numbers.mean()"
   ]
  },
  {
   "cell_type": "code",
   "execution_count": 26,
   "id": "2ab0ef39-a7cb-471e-a96a-0618504ea592",
   "metadata": {},
   "outputs": [
    {
     "data": {
      "text/plain": [
       "1.8708286933869707"
      ]
     },
     "execution_count": 26,
     "metadata": {},
     "output_type": "execute_result"
    }
   ],
   "source": [
    "# standard deviation is a measure of spread\n",
    "numbers.std()"
   ]
  },
  {
   "cell_type": "code",
   "execution_count": 27,
   "id": "4fc3d4d6-a0dc-4766-a3c9-655922cebbbd",
   "metadata": {},
   "outputs": [
    {
     "data": {
      "text/plain": [
       "1"
      ]
     },
     "execution_count": 27,
     "metadata": {},
     "output_type": "execute_result"
    }
   ],
   "source": [
    "# .min returns the lowest value in the dataset\n",
    "numbers.min()"
   ]
  },
  {
   "cell_type": "code",
   "execution_count": 28,
   "id": "c81944c7-2e07-4a61-8d23-cd4c8961096b",
   "metadata": {},
   "outputs": [
    {
     "data": {
      "text/plain": [
       "0"
      ]
     },
     "execution_count": 28,
     "metadata": {},
     "output_type": "execute_result"
    }
   ],
   "source": [
    "# .argmin returns the index of the lowest value\n",
    "numbers.argmin()"
   ]
  },
  {
   "cell_type": "code",
   "execution_count": 29,
   "id": "1dbe4df0-208d-4574-9444-413ead83fb5c",
   "metadata": {},
   "outputs": [
    {
     "data": {
      "text/plain": [
       "6"
      ]
     },
     "execution_count": 29,
     "metadata": {},
     "output_type": "execute_result"
    }
   ],
   "source": [
    "# .max() gets the highest value\n",
    "numbers.max()"
   ]
  },
  {
   "cell_type": "code",
   "execution_count": 30,
   "id": "f96523f3-7ab2-4d55-9b2d-36dbb2ea00c3",
   "metadata": {},
   "outputs": [
    {
     "data": {
      "text/plain": [
       "5"
      ]
     },
     "execution_count": 30,
     "metadata": {},
     "output_type": "execute_result"
    }
   ],
   "source": [
    "# .argmax gets the index of the highest value\n",
    "numbers.argmax()"
   ]
  },
  {
   "cell_type": "code",
   "execution_count": 31,
   "id": "030516d6-b677-438a-b3b0-4507882ff921",
   "metadata": {},
   "outputs": [
    {
     "data": {
      "text/plain": [
       "count    6.000000\n",
       "mean     3.500000\n",
       "std      1.870829\n",
       "min      1.000000\n",
       "25%      2.250000\n",
       "50%      3.500000\n",
       "75%      4.750000\n",
       "max      6.000000\n",
       "dtype: float64"
      ]
     },
     "execution_count": 31,
     "metadata": {},
     "output_type": "execute_result"
    }
   ],
   "source": [
    "# outputs helpful statistics\n",
    "numbers.describe()"
   ]
  },
  {
   "cell_type": "code",
   "execution_count": 3,
   "id": "71b00705-64c4-4459-b36a-4cf19d2f6dea",
   "metadata": {},
   "outputs": [],
   "source": [
    "# Getting the data that we need out of a  Panda Series\n",
    "import pandas as pd"
   ]
  },
  {
   "cell_type": "code",
   "execution_count": 4,
   "id": "a26c8653-9c2f-4e3a-b69b-5d3bcedf801a",
   "metadata": {},
   "outputs": [
    {
     "data": {
      "text/plain": [
       "-2"
      ]
     },
     "execution_count": 4,
     "metadata": {},
     "output_type": "execute_result"
    }
   ],
   "source": [
    "ser = range(-2, 3)\n",
    "ser[0]"
   ]
  },
  {
   "cell_type": "code",
   "execution_count": 5,
   "id": "739c3374-d118-4ce9-acbb-96e42283985e",
   "metadata": {},
   "outputs": [
    {
     "data": {
      "text/plain": [
       "0   -2\n",
       "1   -1\n",
       "2    0\n",
       "3    1\n",
       "4    2\n",
       "dtype: int64"
      ]
     },
     "execution_count": 5,
     "metadata": {},
     "output_type": "execute_result"
    }
   ],
   "source": [
    "ser = pd.Series(ser)\n",
    "ser"
   ]
  },
  {
   "cell_type": "code",
   "execution_count": 8,
   "id": "d764ddc6-38ee-4db6-b786-285c9ae6b8f3",
   "metadata": {},
   "outputs": [
    {
     "data": {
      "text/plain": [
       "0   -2\n",
       "dtype: int64"
      ]
     },
     "execution_count": 8,
     "metadata": {},
     "output_type": "execute_result"
    }
   ],
   "source": [
    "# the corresponding index for the first element is True and the rest are False\n",
    "# Using the corresponding index of a boolean collection to filter is called \"Boolean Masking\"\n",
    "# we are sending ina boolean colelction and turns on the value from the series if it is set to true\n",
    "# that is why we are only seeing the first one in the series\n",
    "# this does not change the original series\n",
    "first = [True, False, False, False, False]\n",
    "ser[first]"
   ]
  },
  {
   "cell_type": "code",
   "execution_count": 9,
   "id": "3e85a626-490b-4cc3-a2eb-ec067f206b84",
   "metadata": {},
   "outputs": [
    {
     "data": {
      "text/plain": [
       "0    False\n",
       "1    False\n",
       "2    False\n",
       "3     True\n",
       "4    False\n",
       "dtype: bool"
      ]
     },
     "execution_count": 9,
     "metadata": {},
     "output_type": "execute_result"
    }
   ],
   "source": [
    "# value comparison - returns a boolean series\n",
    "ser == 1"
   ]
  },
  {
   "cell_type": "code",
   "execution_count": 10,
   "id": "5994c46f-64ca-45cb-aaaa-63954a5371e7",
   "metadata": {},
   "outputs": [
    {
     "data": {
      "text/plain": [
       "3    1\n",
       "dtype: int64"
      ]
     },
     "execution_count": 10,
     "metadata": {},
     "output_type": "execute_result"
    }
   ],
   "source": [
    "# we can place the series into a variable\n",
    "mask = ser == 1\n",
    "ser[mask]"
   ]
  },
  {
   "cell_type": "code",
   "execution_count": 11,
   "id": "8cdb1afd-2bcd-48f3-94e1-54b9e2f8dd30",
   "metadata": {},
   "outputs": [
    {
     "data": {
      "text/plain": [
       "3    1\n",
       "dtype: int64"
      ]
     },
     "execution_count": 11,
     "metadata": {},
     "output_type": "execute_result"
    }
   ],
   "source": [
    "# we can also place the boolean series inside the square brackets\n",
    "ser[ser == 1]"
   ]
  },
  {
   "cell_type": "code",
   "execution_count": 13,
   "id": "bbdd9d53-0a4f-4161-94fe-af699626a895",
   "metadata": {},
   "outputs": [
    {
     "data": {
      "text/plain": [
       "0     True\n",
       "1     True\n",
       "2    False\n",
       "3    False\n",
       "4    False\n",
       "dtype: bool"
      ]
     },
     "execution_count": 13,
     "metadata": {},
     "output_type": "execute_result"
    }
   ],
   "source": [
    "# returns a boolean series that corresponds to the ser Series  \n",
    "is_negative = ser < 0\n",
    "is_negative"
   ]
  },
  {
   "cell_type": "code",
   "execution_count": 15,
   "id": "d7220d36-2e7a-4cb9-8dac-b67dfe37d7e2",
   "metadata": {},
   "outputs": [
    {
     "data": {
      "text/plain": [
       "0   -2\n",
       "1   -1\n",
       "dtype: int64"
      ]
     },
     "execution_count": 15,
     "metadata": {},
     "output_type": "execute_result"
    }
   ],
   "source": [
    "# we can pass in the boolean series into the ser Series\n",
    "# this returns the remaining items that are \"True\"\n",
    "ser[is_negative]"
   ]
  },
  {
   "cell_type": "code",
   "execution_count": 16,
   "id": "6e5aeca1-8f17-4184-be82-b1098fbf44c3",
   "metadata": {},
   "outputs": [
    {
     "data": {
      "text/plain": [
       "0   -2\n",
       "1   -1\n",
       "dtype: int64"
      ]
     },
     "execution_count": 16,
     "metadata": {},
     "output_type": "execute_result"
    }
   ],
   "source": [
    "# here we are making a copy of the data\n",
    "negatives = ser[is_negative]\n",
    "negatives"
   ]
  },
  {
   "cell_type": "code",
   "execution_count": 17,
   "id": "2aef39f0-b527-4a10-9d9e-596cf8bb27bc",
   "metadata": {},
   "outputs": [
    {
     "data": {
      "text/plain": [
       "0   -2\n",
       "1   -1\n",
       "2    0\n",
       "3    1\n",
       "4    2\n",
       "dtype: int64"
      ]
     },
     "execution_count": 17,
     "metadata": {},
     "output_type": "execute_result"
    }
   ],
   "source": [
    "# the original series remains the unchanged\n",
    "ser"
   ]
  },
  {
   "cell_type": "code",
   "execution_count": 18,
   "id": "e00db45e-eb1c-4104-afb8-739d6437d841",
   "metadata": {},
   "outputs": [
    {
     "data": {
      "text/plain": [
       "1   -1\n",
       "3    1\n",
       "dtype: int64"
      ]
     },
     "execution_count": 18,
     "metadata": {},
     "output_type": "execute_result"
    }
   ],
   "source": [
    "# here is another example\n",
    "is_odd = ser % 2 == 1\n",
    "ser[is_odd]"
   ]
  },
  {
   "cell_type": "code",
   "execution_count": 19,
   "id": "11abdf2c-2856-45bc-a663-f82556039495",
   "metadata": {},
   "outputs": [
    {
     "data": {
      "text/plain": [
       "0      1\n",
       "1      2\n",
       "2      3\n",
       "3      4\n",
       "4      5\n",
       "5      6\n",
       "6      7\n",
       "7      8\n",
       "8      9\n",
       "9     10\n",
       "10    11\n",
       "11    12\n",
       "dtype: int64"
      ]
     },
     "execution_count": 19,
     "metadata": {},
     "output_type": "execute_result"
    }
   ],
   "source": [
    "# working with a new data set\n",
    "numbers = pd.Series(range(1,13))\n",
    "numbers"
   ]
  },
  {
   "cell_type": "code",
   "execution_count": 24,
   "id": "a536409b-b9ac-416b-94d6-a0b46418256e",
   "metadata": {},
   "outputs": [
    {
     "data": {
      "text/plain": [
       "1    2\n",
       "4    5\n",
       "dtype: int64"
      ]
     },
     "execution_count": 24,
     "metadata": {},
     "output_type": "execute_result"
    }
   ],
   "source": [
    "# we can use & and | operators on our boolean series to produce more complex behaviour\n",
    "# parantheses are helpful for order of operations\n",
    "# if we dont want to use parantheses we can store the expressions in variables\n",
    "numbers[(numbers == 2) | (numbers == 5)]"
   ]
  },
  {
   "cell_type": "code",
   "execution_count": 23,
   "id": "62954bec-e4fa-4d29-aafe-0cbebbb6cafd",
   "metadata": {},
   "outputs": [
    {
     "data": {
      "text/plain": [
       "Series([], dtype: int64)"
      ]
     },
     "execution_count": 23,
     "metadata": {},
     "output_type": "execute_result"
    }
   ],
   "source": [
    "# if all expressions evaluate to false, we get an empty series\n",
    "numbers[(numbers == 2) & (numbers == 5)]"
   ]
  },
  {
   "cell_type": "code",
   "execution_count": 28,
   "id": "265da7dd-b1b9-4991-82da-909fa341c8b1",
   "metadata": {},
   "outputs": [
    {
     "data": {
      "text/plain": [
       "0     200\n",
       "1       2\n",
       "2       3\n",
       "3     200\n",
       "4     200\n",
       "5       6\n",
       "6       7\n",
       "7     200\n",
       "8     200\n",
       "9      10\n",
       "10     11\n",
       "11    200\n",
       "dtype: int64"
      ]
     },
     "execution_count": 28,
     "metadata": {},
     "output_type": "execute_result"
    }
   ],
   "source": [
    "# Boolean Masking is very powerful but what about MODIFYING VALUES in place on a series?\n",
    "# the .loc method uses the same Boolean series syntax\n",
    "is_even = numbers & 2 == 0\n",
    "\n",
    "# for simplicity, lets assign every even number to 200\n",
    "numbers.loc[is_even] = 200\n",
    "numbers"
   ]
  },
  {
   "cell_type": "code",
   "execution_count": 29,
   "id": "281bc4f0-ad23-40e5-80a3-f0fd32249787",
   "metadata": {},
   "outputs": [
    {
     "data": {
      "text/plain": [
       "0      2\n",
       "1      2\n",
       "2      3\n",
       "3      8\n",
       "4     10\n",
       "5      6\n",
       "6      7\n",
       "7     16\n",
       "8     18\n",
       "9     10\n",
       "10    11\n",
       "11    24\n",
       "dtype: int64"
      ]
     },
     "execution_count": 29,
     "metadata": {},
     "output_type": "execute_result"
    }
   ],
   "source": [
    "# this is a method for a more dynamic reassignment\n",
    "numbers = pd.Series(range(1, 13))\n",
    "\n",
    "# shorthand syntax would be numbers.loc[is_even] *= 2\n",
    "numbers.loc[is_even] = numbers.loc[is_even] * 2\n",
    "numbers"
   ]
  },
  {
   "cell_type": "code",
   "execution_count": 41,
   "id": "21f458e6-e0d7-4751-b2ea-d02355e9fc95",
   "metadata": {},
   "outputs": [
    {
     "data": {
      "text/plain": [
       "0   -4\n",
       "1   -3\n",
       "2   -2\n",
       "3   -1\n",
       "4    0\n",
       "5    1\n",
       "6    2\n",
       "7    3\n",
       "8    4\n",
       "dtype: int64"
      ]
     },
     "execution_count": 41,
     "metadata": {},
     "output_type": "execute_result"
    }
   ],
   "source": [
    "ser = pd.Series(range(-4, 4+1))\n",
    "ser"
   ]
  },
  {
   "cell_type": "code",
   "execution_count": 42,
   "id": "db99cd6f-6ab8-478a-bc77-5678fed8353d",
   "metadata": {},
   "outputs": [
    {
     "data": {
      "text/plain": [
       "6    2\n",
       "dtype: int64"
      ]
     },
     "execution_count": 42,
     "metadata": {},
     "output_type": "execute_result"
    }
   ],
   "source": [
    "# is two\n",
    "is_two = ser == 2 \n",
    "ser[is_two]"
   ]
  },
  {
   "cell_type": "code",
   "execution_count": 43,
   "id": "714bbdea-02cc-4b3e-9eb1-56cb413e8be5",
   "metadata": {},
   "outputs": [
    {
     "data": {
      "text/plain": [
       "0   -4\n",
       "1   -3\n",
       "2   -2\n",
       "3   -1\n",
       "4    0\n",
       "5    1\n",
       "6    2\n",
       "7    3\n",
       "8    4\n",
       "dtype: int64"
      ]
     },
     "execution_count": 43,
     "metadata": {},
     "output_type": "execute_result"
    }
   ],
   "source": [
    "ser"
   ]
  },
  {
   "cell_type": "code",
   "execution_count": 48,
   "id": "7ebbd8e1-b80e-4079-af01-915154e78a5a",
   "metadata": {},
   "outputs": [
    {
     "data": {
      "text/plain": [
       "0   -4\n",
       "2   -2\n",
       "4    0\n",
       "6    2\n",
       "8    4\n",
       "dtype: int64"
      ]
     },
     "execution_count": 48,
     "metadata": {},
     "output_type": "execute_result"
    }
   ],
   "source": [
    "# is even and positiive\n",
    "is_even = (ser % 2 == 0)\n",
    "evens = ser[is_even]\n",
    "evens"
   ]
  },
  {
   "cell_type": "code",
   "execution_count": 49,
   "id": "d465d62c-6558-42f5-b658-387fb066ccac",
   "metadata": {},
   "outputs": [
    {
     "data": {
      "text/plain": [
       "5    1\n",
       "6    2\n",
       "7    3\n",
       "8    4\n",
       "dtype: int64"
      ]
     },
     "execution_count": 49,
     "metadata": {},
     "output_type": "execute_result"
    }
   ],
   "source": [
    "is_positive = ser > 0\n",
    "positives = ser[is_positive]\n",
    "positives"
   ]
  },
  {
   "cell_type": "code",
   "execution_count": 53,
   "id": "12ff6f7c-9cfd-4bad-9eb6-e9268c87f427",
   "metadata": {},
   "outputs": [
    {
     "data": {
      "text/plain": [
       "6    2\n",
       "8    4\n",
       "dtype: int64"
      ]
     },
     "execution_count": 53,
     "metadata": {},
     "output_type": "execute_result"
    }
   ],
   "source": [
    "is_even_and_positive = is_even & is_positive\n",
    "even_positives = ser[is_even_and_positive]\n",
    "even_positives"
   ]
  },
  {
   "cell_type": "code",
   "execution_count": 55,
   "id": "bcd1ffa9-d94c-4aee-abee-24dac1f80a66",
   "metadata": {},
   "outputs": [
    {
     "data": {
      "text/plain": [
       "0   -4\n",
       "2   -2\n",
       "4    0\n",
       "5    1\n",
       "6    2\n",
       "7    3\n",
       "8    4\n",
       "dtype: int64"
      ]
     },
     "execution_count": 55,
     "metadata": {},
     "output_type": "execute_result"
    }
   ],
   "source": [
    "is_even_or_positive = is_even | is_positive\n",
    "even_or_positive = ser[is_even_or_positive]\n",
    "even_or_positive"
   ]
  },
  {
   "cell_type": "code",
   "execution_count": 56,
   "id": "10a7059f-68a9-495e-863e-46a57d9ad866",
   "metadata": {},
   "outputs": [
    {
     "data": {
      "text/plain": [
       "0   -4\n",
       "1   -3\n",
       "2   -2\n",
       "3   -1\n",
       "4    0\n",
       "5    1\n",
       "6    0\n",
       "7    3\n",
       "8    0\n",
       "dtype: int64"
      ]
     },
     "execution_count": 56,
     "metadata": {},
     "output_type": "execute_result"
    }
   ],
   "source": [
    "# reassigning numbers using loc that are both even and positive to zero\n",
    "ser.loc[is_even_and_positive] = 0\n",
    "ser"
   ]
  },
  {
   "cell_type": "code",
   "execution_count": 57,
   "id": "0dcc7ae3-9cd0-4669-a851-de94d1284cf0",
   "metadata": {},
   "outputs": [
    {
     "data": {
      "text/plain": [
       "0   -80\n",
       "1   -60\n",
       "2   -40\n",
       "3   -20\n",
       "4     0\n",
       "5     1\n",
       "6     0\n",
       "7     3\n",
       "8     0\n",
       "dtype: int64"
      ]
     },
     "execution_count": 57,
     "metadata": {},
     "output_type": "execute_result"
    }
   ],
   "source": [
    "# using the loc method to multiply negative numbers in the list by 20\n",
    "ser.loc[ser < 0] = ser.loc[ser < 0] * 20\n",
    "ser"
   ]
  },
  {
   "cell_type": "code",
   "execution_count": 58,
   "id": "815b034f-ab03-4194-a8f7-e403008e2ea6",
   "metadata": {},
   "outputs": [],
   "source": [
    "# series and strings\n",
    "import pandas as pd"
   ]
  },
  {
   "cell_type": "code",
   "execution_count": 59,
   "id": "d6ab1d7f-4630-4032-a4e8-83ece4ce64d2",
   "metadata": {},
   "outputs": [
    {
     "data": {
      "text/plain": [
       "0        apple\n",
       "1       orange\n",
       "2       banana\n",
       "3        lemon\n",
       "4         lime\n",
       "5    pineapple\n",
       "6    blueberry\n",
       "7    raspberry\n",
       "8    cranberry\n",
       "9         pear\n",
       "dtype: object"
      ]
     },
     "execution_count": 59,
     "metadata": {},
     "output_type": "execute_result"
    }
   ],
   "source": [
    "fruits = pd.Series([\"apple\", \"orange\", \"banana\", \"lemon\", \"lime\", \"pineapple\", \"blueberry\", \"raspberry\", \"cranberry\", \"pear\", ])\n",
    "fruits"
   ]
  },
  {
   "cell_type": "code",
   "execution_count": 60,
   "id": "936b8936-cc31-4cef-9c77-4caab5e0465d",
   "metadata": {},
   "outputs": [
    {
     "data": {
      "text/plain": [
       "7    raspberry\n",
       "5    pineapple\n",
       "9         pear\n",
       "1       orange\n",
       "4         lime\n",
       "3        lemon\n",
       "8    cranberry\n",
       "6    blueberry\n",
       "2       banana\n",
       "0        apple\n",
       "dtype: object"
      ]
     },
     "execution_count": 60,
     "metadata": {},
     "output_type": "execute_result"
    }
   ],
   "source": [
    "# .sort_values will sort things in alphabetical order - will not change the original series\n",
    "fruits.sort_values(ascending=False)"
   ]
  },
  {
   "cell_type": "code",
   "execution_count": 62,
   "id": "204a9354-22d3-44c4-91b9-601e9a09b37a",
   "metadata": {},
   "outputs": [
    {
     "data": {
      "text/plain": [
       "0        apple\n",
       "1       banana\n",
       "2    blueberry\n",
       "3    cranberry\n",
       "4        lemon\n",
       "5         lime\n",
       "6       orange\n",
       "7         pear\n",
       "8    pineapple\n",
       "9    raspberry\n",
       "dtype: object"
      ]
     },
     "execution_count": 62,
     "metadata": {},
     "output_type": "execute_result"
    }
   ],
   "source": [
    "# reassigning the series\n",
    "# above we can see that the index numbers are all out of sorts because we sorted everything\n",
    "# if we don't want this to happen we can set the ignore index to True\n",
    "fruits = fruits.sort_values(ignore_index=True)\n",
    "fruits"
   ]
  },
  {
   "cell_type": "code",
   "execution_count": 64,
   "id": "2f3a9214-33b6-4b9b-be12-5da18e5d196e",
   "metadata": {},
   "outputs": [
    {
     "data": {
      "text/plain": [
       "0        Apple\n",
       "1       Banana\n",
       "2    Blueberry\n",
       "3    Cranberry\n",
       "4        Lemon\n",
       "5         Lime\n",
       "6       Orange\n",
       "7         Pear\n",
       "8    Pineapple\n",
       "9    Raspberry\n",
       "dtype: object"
      ]
     },
     "execution_count": 64,
     "metadata": {},
     "output_type": "execute_result"
    }
   ],
   "source": [
    "# capitalization\n",
    "# of course if we want to change the original series we have to\n",
    "# reference itself and store it again like we have done above\n",
    "fruits.str.capitalize()"
   ]
  },
  {
   "cell_type": "code",
   "execution_count": 66,
   "id": "06b7faf4-1404-4e36-a491-09136bb6079d",
   "metadata": {},
   "outputs": [
    {
     "data": {
      "text/plain": [
       "0     True\n",
       "1    False\n",
       "2    False\n",
       "3    False\n",
       "4    False\n",
       "5    False\n",
       "6    False\n",
       "7    False\n",
       "8     True\n",
       "9    False\n",
       "dtype: bool"
      ]
     },
     "execution_count": 66,
     "metadata": {},
     "output_type": "execute_result"
    }
   ],
   "source": [
    "# contains returns a boolean\n",
    "# this returned true at index 8 because apple is in pineapple \n",
    "# this gives us a hint as to how this string method works\n",
    "fruits.str.contains(\"apple\")"
   ]
  },
  {
   "cell_type": "code",
   "execution_count": 68,
   "id": "fce44859-e6cc-473f-8d6e-48bec676a08f",
   "metadata": {},
   "outputs": [
    {
     "data": {
      "text/plain": [
       "0        apple\n",
       "8    pineapple\n",
       "dtype: object"
      ]
     },
     "execution_count": 68,
     "metadata": {},
     "output_type": "execute_result"
    }
   ],
   "source": [
    "# here we are getting the items that correspond to the Bool Series\n",
    "fruits[fruits.str.contains(\"apple\")]"
   ]
  },
  {
   "cell_type": "code",
   "execution_count": 70,
   "id": "a3567122-747c-496d-8834-00b548c08b2a",
   "metadata": {},
   "outputs": [
    {
     "data": {
      "text/plain": [
       "0    1\n",
       "1    3\n",
       "2    0\n",
       "3    1\n",
       "4    0\n",
       "5    0\n",
       "6    1\n",
       "7    1\n",
       "8    1\n",
       "9    1\n",
       "dtype: int64"
      ]
     },
     "execution_count": 70,
     "metadata": {},
     "output_type": "execute_result"
    }
   ],
   "source": [
    "# counting the substring occurences - looks like it does this foreach\n",
    "fruits.str.count(\"a\")"
   ]
  },
  {
   "cell_type": "code",
   "execution_count": 73,
   "id": "bce5e767-3d3a-4dbf-bf91-92dba6d4b66a",
   "metadata": {},
   "outputs": [
    {
     "data": {
      "text/plain": [
       "0    2\n",
       "1    3\n",
       "2    3\n",
       "3    2\n",
       "4    2\n",
       "5    2\n",
       "6    3\n",
       "7    2\n",
       "8    4\n",
       "9    2\n",
       "dtype: int64"
      ]
     },
     "execution_count": 73,
     "metadata": {},
     "output_type": "execute_result"
    }
   ],
   "source": [
    "# using count wit regular expression character class\n",
    "# looks like it is counting for each character inside the square brackets\n",
    "fruits.str.count(\"[aeiou]\")"
   ]
  },
  {
   "cell_type": "code",
   "execution_count": 75,
   "id": "dbab4b9a-b191-4852-bf67-d0dbcd435bac",
   "metadata": {},
   "outputs": [
    {
     "data": {
      "text/plain": [
       "1       banana\n",
       "2    blueberry\n",
       "6       orange\n",
       "8    pineapple\n",
       "dtype: object"
      ]
     },
     "execution_count": 75,
     "metadata": {},
     "output_type": "execute_result"
    }
   ],
   "source": [
    "# returns series that have more than two of one of the characters within that selection\n",
    "fruits[fruits.str.count(\"[aeiou]\") > 2]"
   ]
  },
  {
   "cell_type": "code",
   "execution_count": 76,
   "id": "fb4acfcb-5a19-4f42-a8bc-b845f55fde3a",
   "metadata": {},
   "outputs": [
    {
     "data": {
      "text/plain": [
       "0    False\n",
       "1    False\n",
       "2    False\n",
       "3    False\n",
       "4     True\n",
       "5     True\n",
       "6    False\n",
       "7    False\n",
       "8    False\n",
       "9    False\n",
       "dtype: bool"
      ]
     },
     "execution_count": 76,
     "metadata": {},
     "output_type": "execute_result"
    }
   ],
   "source": [
    "# .startswith returns a bool series\n",
    "fruits.str.startswith(\"l\")"
   ]
  },
  {
   "cell_type": "code",
   "execution_count": 78,
   "id": "4062729d-20ba-4e76-86ce-28c4cb49b916",
   "metadata": {},
   "outputs": [
    {
     "data": {
      "text/plain": [
       "4    lemon\n",
       "5     lime\n",
       "dtype: object"
      ]
     },
     "execution_count": 78,
     "metadata": {},
     "output_type": "execute_result"
    }
   ],
   "source": [
    "# we are throwing in the bool series and it will only show where the bools were true\n",
    "fruits[fruits.str.startswith(\"l\")]"
   ]
  },
  {
   "cell_type": "code",
   "execution_count": 79,
   "id": "6eed9b15-d6c7-477c-821c-f78bf47a4dd7",
   "metadata": {},
   "outputs": [
    {
     "data": {
      "text/plain": [
       "2    blueberry\n",
       "3    cranberry\n",
       "9    raspberry\n",
       "dtype: object"
      ]
     },
     "execution_count": 79,
     "metadata": {},
     "output_type": "execute_result"
    }
   ],
   "source": [
    "# .endswith does the same thing as endswith\n",
    "fruits[fruits.str.endswith(\"berry\")]"
   ]
  },
  {
   "cell_type": "code",
   "execution_count": 81,
   "id": "6495f13c-b65c-484d-9d74-eb96b9ef4e24",
   "metadata": {},
   "outputs": [
    {
     "data": {
      "text/plain": [
       "0    5\n",
       "1    6\n",
       "2    9\n",
       "3    9\n",
       "4    5\n",
       "5    4\n",
       "6    6\n",
       "7    4\n",
       "8    9\n",
       "9    9\n",
       "dtype: int64"
      ]
     },
     "execution_count": 81,
     "metadata": {},
     "output_type": "execute_result"
    }
   ],
   "source": [
    "# gets the number of characters within each item\n",
    "fruits.str.len()"
   ]
  },
  {
   "cell_type": "code",
   "execution_count": 82,
   "id": "8749f65c-8735-497c-a807-6c5d7f8b45a2",
   "metadata": {},
   "outputs": [],
   "source": [
    "# .lower makes all items lower-case if they werent already\n",
    "# not showing an exmple, you get it"
   ]
  },
  {
   "cell_type": "code",
   "execution_count": 84,
   "id": "633be57a-1463-41a5-b272-e4c3747e41d1",
   "metadata": {},
   "outputs": [
    {
     "data": {
      "text/plain": [
       "0      5.995.99\n",
       "1    12.2512.25\n",
       "2          9595\n",
       "3      4.994.99\n",
       "4    43.8743.87\n",
       "dtype: object"
      ]
     },
     "execution_count": 84,
     "metadata": {},
     "output_type": "execute_result"
    }
   ],
   "source": [
    "# using .replace to replace characters and remove characters\n",
    "prices = pd.Series([\"$5.99\", \"$12.25\", \"$95\", \"$4.99\", \"$43.87\",])\n",
    "prices = prices.str.replace(\"$\", \"\")\n",
    "# our variable is still a string\n",
    "prices * 2"
   ]
  },
  {
   "cell_type": "code",
   "execution_count": 87,
   "id": "6d6d5d49-c855-40a0-b135-9e9d9de5ce40",
   "metadata": {},
   "outputs": [
    {
     "data": {
      "text/plain": [
       "0     11.98\n",
       "1     24.50\n",
       "2    190.00\n",
       "3      9.98\n",
       "4     87.74\n",
       "dtype: float64"
      ]
     },
     "execution_count": 87,
     "metadata": {},
     "output_type": "execute_result"
    }
   ],
   "source": [
    "# use .astype to convert the string to a number so that we \n",
    "# can use operations on it -- be warned that this is not a string method \n",
    "prices = prices.astype(float)\n",
    "prices * 2"
   ]
  },
  {
   "cell_type": "code",
   "execution_count": 88,
   "id": "c146ba3f-2675-4759-af6c-08818f831253",
   "metadata": {},
   "outputs": [
    {
     "data": {
      "text/plain": [
       "0        APPLE\n",
       "1       BANANA\n",
       "2    BLUEBERRY\n",
       "3    CRANBERRY\n",
       "4        LEMON\n",
       "5         LIME\n",
       "6       ORANGE\n",
       "7         PEAR\n",
       "8    PINEAPPLE\n",
       "9    RASPBERRY\n",
       "dtype: object"
      ]
     },
     "execution_count": 88,
     "metadata": {},
     "output_type": "execute_result"
    }
   ],
   "source": [
    "# upper case conversion\n",
    "fruits.str.upper()"
   ]
  },
  {
   "cell_type": "code",
   "execution_count": null,
   "id": "67727e22-28b5-4fdc-8ebc-72e92f0ef830",
   "metadata": {},
   "outputs": [],
   "source": []
  },
  {
   "cell_type": "code",
   "execution_count": null,
   "id": "cdf5b6df-9d33-428d-9a8a-1fc88e9cf85e",
   "metadata": {},
   "outputs": [],
   "source": []
  },
  {
   "cell_type": "code",
   "execution_count": null,
   "id": "c62a34b5-996c-4b75-9821-4cbe474b8cb8",
   "metadata": {},
   "outputs": [],
   "source": []
  },
  {
   "cell_type": "code",
   "execution_count": null,
   "id": "08784dc4-4524-4d05-8f47-fd35fe3718e9",
   "metadata": {},
   "outputs": [],
   "source": []
  },
  {
   "cell_type": "code",
   "execution_count": null,
   "id": "bead4e84-e9bd-4770-b424-b96e49d2ae57",
   "metadata": {},
   "outputs": [],
   "source": []
  },
  {
   "cell_type": "code",
   "execution_count": null,
   "id": "82e8e171-08e3-4015-a1eb-49d9cbcdbf7f",
   "metadata": {},
   "outputs": [],
   "source": []
  }
 ],
 "metadata": {
  "kernelspec": {
   "display_name": "Python 3 (ipykernel)",
   "language": "python",
   "name": "python3"
  },
  "language_info": {
   "codemirror_mode": {
    "name": "ipython",
    "version": 3
   },
   "file_extension": ".py",
   "mimetype": "text/x-python",
   "name": "python",
   "nbconvert_exporter": "python",
   "pygments_lexer": "ipython3",
   "version": "3.12.0"
  }
 },
 "nbformat": 4,
 "nbformat_minor": 5
}
