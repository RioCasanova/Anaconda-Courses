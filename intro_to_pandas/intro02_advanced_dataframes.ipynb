{
 "cells": [
  {
   "cell_type": "markdown",
   "id": "b2cc147d",
   "metadata": {},
   "source": [
    "# Intro to Pandas\n",
    "by Ryan Orsinger"
   ]
  },
  {
   "cell_type": "markdown",
   "id": "0ef3108b",
   "metadata": {},
   "source": [
    "## Module 5: Working With Files\n",
    "- More on using `pd.read_csv`\n",
    "    - HTTP Requests\n",
    "    - Working with files that use delimiters/separators other than commas\n",
    "    - Setting the index column\n",
    "- Writing data with `to_csv`\n",
    "- Reading JSON\n",
    "- Reading from Excel files\n",
    "- Writing to Excel files"
   ]
  },
  {
   "cell_type": "code",
   "execution_count": 2,
   "id": "2eef0be8",
   "metadata": {},
   "outputs": [],
   "source": [
    "import pandas as pd"
   ]
  },
  {
   "cell_type": "code",
   "execution_count": 3,
   "id": "8b2298fa",
   "metadata": {},
   "outputs": [
    {
     "data": {
      "text/html": [
       "<div>\n",
       "<style scoped>\n",
       "    .dataframe tbody tr th:only-of-type {\n",
       "        vertical-align: middle;\n",
       "    }\n",
       "\n",
       "    .dataframe tbody tr th {\n",
       "        vertical-align: top;\n",
       "    }\n",
       "\n",
       "    .dataframe thead th {\n",
       "        text-align: right;\n",
       "    }\n",
       "</style>\n",
       "<table border=\"1\" class=\"dataframe\">\n",
       "  <thead>\n",
       "    <tr style=\"text-align: right;\">\n",
       "      <th></th>\n",
       "      <th>customer_id</th>\n",
       "      <th>gender</th>\n",
       "      <th>age</th>\n",
       "      <th>annual_income</th>\n",
       "      <th>spending_score</th>\n",
       "    </tr>\n",
       "  </thead>\n",
       "  <tbody>\n",
       "    <tr>\n",
       "      <th>0</th>\n",
       "      <td>1</td>\n",
       "      <td>Male</td>\n",
       "      <td>19</td>\n",
       "      <td>15</td>\n",
       "      <td>39</td>\n",
       "    </tr>\n",
       "    <tr>\n",
       "      <th>1</th>\n",
       "      <td>2</td>\n",
       "      <td>Male</td>\n",
       "      <td>21</td>\n",
       "      <td>15</td>\n",
       "      <td>81</td>\n",
       "    </tr>\n",
       "    <tr>\n",
       "      <th>2</th>\n",
       "      <td>3</td>\n",
       "      <td>Female</td>\n",
       "      <td>20</td>\n",
       "      <td>16</td>\n",
       "      <td>6</td>\n",
       "    </tr>\n",
       "    <tr>\n",
       "      <th>3</th>\n",
       "      <td>4</td>\n",
       "      <td>Female</td>\n",
       "      <td>23</td>\n",
       "      <td>16</td>\n",
       "      <td>77</td>\n",
       "    </tr>\n",
       "    <tr>\n",
       "      <th>4</th>\n",
       "      <td>5</td>\n",
       "      <td>Female</td>\n",
       "      <td>31</td>\n",
       "      <td>17</td>\n",
       "      <td>40</td>\n",
       "    </tr>\n",
       "  </tbody>\n",
       "</table>\n",
       "</div>"
      ],
      "text/plain": [
       "   customer_id  gender  age  annual_income  spending_score\n",
       "0            1    Male   19             15              39\n",
       "1            2    Male   21             15              81\n",
       "2            3  Female   20             16               6\n",
       "3            4  Female   23             16              77\n",
       "4            5  Female   31             17              40"
      ]
     },
     "execution_count": 3,
     "metadata": {},
     "output_type": "execute_result"
    }
   ],
   "source": [
    "# read_csv can read from hosted CSV files.\n",
    "# Pandas sends the http request!\n",
    "url = \"https://gist.githubusercontent.com/ryanorsinger/cc276eea59e8295204d1f581c8da509f/raw/2388559aef7a0700eb31e7604351364b16e99653/mall_customers.csv\"\n",
    "pd.read_csv(url).head()"
   ]
  },
  {
   "cell_type": "code",
   "execution_count": 4,
   "id": "f7229193",
   "metadata": {},
   "outputs": [
    {
     "data": {
      "text/html": [
       "<div>\n",
       "<style scoped>\n",
       "    .dataframe tbody tr th:only-of-type {\n",
       "        vertical-align: middle;\n",
       "    }\n",
       "\n",
       "    .dataframe tbody tr th {\n",
       "        vertical-align: top;\n",
       "    }\n",
       "\n",
       "    .dataframe thead th {\n",
       "        text-align: right;\n",
       "    }\n",
       "</style>\n",
       "<table border=\"1\" class=\"dataframe\">\n",
       "  <thead>\n",
       "    <tr style=\"text-align: right;\">\n",
       "      <th></th>\n",
       "      <th>gender</th>\n",
       "      <th>age</th>\n",
       "      <th>annual_income</th>\n",
       "      <th>spending_score</th>\n",
       "    </tr>\n",
       "    <tr>\n",
       "      <th>customer_id</th>\n",
       "      <th></th>\n",
       "      <th></th>\n",
       "      <th></th>\n",
       "      <th></th>\n",
       "    </tr>\n",
       "  </thead>\n",
       "  <tbody>\n",
       "    <tr>\n",
       "      <th>1</th>\n",
       "      <td>Male</td>\n",
       "      <td>19</td>\n",
       "      <td>15</td>\n",
       "      <td>39</td>\n",
       "    </tr>\n",
       "    <tr>\n",
       "      <th>2</th>\n",
       "      <td>Male</td>\n",
       "      <td>21</td>\n",
       "      <td>15</td>\n",
       "      <td>81</td>\n",
       "    </tr>\n",
       "    <tr>\n",
       "      <th>3</th>\n",
       "      <td>Female</td>\n",
       "      <td>20</td>\n",
       "      <td>16</td>\n",
       "      <td>6</td>\n",
       "    </tr>\n",
       "    <tr>\n",
       "      <th>4</th>\n",
       "      <td>Female</td>\n",
       "      <td>23</td>\n",
       "      <td>16</td>\n",
       "      <td>77</td>\n",
       "    </tr>\n",
       "    <tr>\n",
       "      <th>5</th>\n",
       "      <td>Female</td>\n",
       "      <td>31</td>\n",
       "      <td>17</td>\n",
       "      <td>40</td>\n",
       "    </tr>\n",
       "  </tbody>\n",
       "</table>\n",
       "</div>"
      ],
      "text/plain": [
       "             gender  age  annual_income  spending_score\n",
       "customer_id                                            \n",
       "1              Male   19             15              39\n",
       "2              Male   21             15              81\n",
       "3            Female   20             16               6\n",
       "4            Female   23             16              77\n",
       "5            Female   31             17              40"
      ]
     },
     "execution_count": 4,
     "metadata": {},
     "output_type": "execute_result"
    }
   ],
   "source": [
    "# To set the index column, use the index_col argument\n",
    "# If you notice a column that makes sense to use as the index, you'll need to specic\n",
    "pd.read_csv(url, index_col=\"customer_id\").head()"
   ]
  },
  {
   "cell_type": "code",
   "execution_count": 15,
   "id": "314549d0",
   "metadata": {},
   "outputs": [
    {
     "name": "stdout",
     "output_type": "stream",
     "text": [
      " Volume in drive C is Windows\n",
      " Volume Serial Number is 3E94-F918\n",
      "\n",
      " Directory of C:\\Users\\rioca\\_anaconda_courses\\datasets\n",
      "\n",
      "12/27/2023  02:50 PM                72 2020_sales.csv\n",
      "12/27/2023  02:50 PM                72 2021_sales.csv\n",
      "12/27/2023  02:50 PM                72 2022_sales.csv\n",
      "12/22/2023  05:28 PM            28,747 movie_genres.csv\n",
      "12/25/2023  04:39 PM            13,312 mpg.csv\n",
      "12/25/2023  12:10 PM            15,240 penguins.csv\n",
      "12/27/2023  05:08 PM               781 quotes.csv\n",
      "12/25/2023  04:39 PM             7,943 tips.csv\n",
      "               8 File(s)         66,239 bytes\n",
      "               0 Dir(s)  781,990,973,440 bytes free\n"
     ]
    }
   ],
   "source": [
    "# The ! operator inside of Jupyter Notebooks or iPython issues a command to the terminal\n",
    "# If you use Windows without the Linux Subsystem enabled, use !dir *.csv\n",
    "!dir \"../datasets/*sales*.csv\""
   ]
  },
  {
   "cell_type": "code",
   "execution_count": 21,
   "id": "1e946c11",
   "metadata": {},
   "outputs": [
    {
     "name": "stdout",
     "output_type": "stream",
     "text": [
      " Volume in drive C is Windows\n",
      " Volume Serial Number is 3E94-F918\n",
      "\n",
      " Directory of C:\\Users\\rioca\\_anaconda_courses\\intro_to_pandas\n",
      "\n",
      "12/27/2023  08:09 PM                72 2020_sales.csv\n",
      "12/27/2023  08:09 PM                72 2021_sales.csv\n",
      "12/27/2023  08:09 PM                72 2022_sales.csv\n",
      "               3 File(s)            216 bytes\n",
      "               0 Dir(s)  781,983,408,128 bytes free\n"
     ]
    }
   ],
   "source": [
    "!dir \"../datasets/*sales*.csv\" "
   ]
  },
  {
   "cell_type": "code",
   "execution_count": 33,
   "id": "f8d9c66b",
   "metadata": {},
   "outputs": [
    {
     "data": {
      "text/plain": [
       "['2020_sales.csv', '2021_sales.csv', '2022_sales.csv']"
      ]
     },
     "execution_count": 33,
     "metadata": {},
     "output_type": "execute_result"
    }
   ],
   "source": [
    "sales_files = !dir \"../datasets/*sales*.csv\"\n",
    "\n",
    "# Extract just the file names from the dir_output\n",
    "sales_files = [line.split()[-1] for line in sales_files if line.endswith(\".csv\")]\n",
    "\n",
    "sales_files "
   ]
  },
  {
   "cell_type": "code",
   "execution_count": 35,
   "id": "4cb25116",
   "metadata": {},
   "outputs": [
    {
     "data": {
      "text/html": [
       "<div>\n",
       "<style scoped>\n",
       "    .dataframe tbody tr th:only-of-type {\n",
       "        vertical-align: middle;\n",
       "    }\n",
       "\n",
       "    .dataframe tbody tr th {\n",
       "        vertical-align: top;\n",
       "    }\n",
       "\n",
       "    .dataframe thead th {\n",
       "        text-align: right;\n",
       "    }\n",
       "</style>\n",
       "<table border=\"1\" class=\"dataframe\">\n",
       "  <thead>\n",
       "    <tr style=\"text-align: right;\">\n",
       "      <th></th>\n",
       "      <th>year</th>\n",
       "      <th>items</th>\n",
       "      <th>units</th>\n",
       "    </tr>\n",
       "  </thead>\n",
       "  <tbody>\n",
       "    <tr>\n",
       "      <th>0</th>\n",
       "      <td>2020</td>\n",
       "      <td>trucks</td>\n",
       "      <td>20</td>\n",
       "    </tr>\n",
       "    <tr>\n",
       "      <th>1</th>\n",
       "      <td>2020</td>\n",
       "      <td>sedans</td>\n",
       "      <td>15</td>\n",
       "    </tr>\n",
       "    <tr>\n",
       "      <th>2</th>\n",
       "      <td>2020</td>\n",
       "      <td>compact vehicles</td>\n",
       "      <td>14</td>\n",
       "    </tr>\n",
       "    <tr>\n",
       "      <th>3</th>\n",
       "      <td>2021</td>\n",
       "      <td>trucks</td>\n",
       "      <td>35</td>\n",
       "    </tr>\n",
       "    <tr>\n",
       "      <th>4</th>\n",
       "      <td>2021</td>\n",
       "      <td>sedans</td>\n",
       "      <td>30</td>\n",
       "    </tr>\n",
       "    <tr>\n",
       "      <th>5</th>\n",
       "      <td>2021</td>\n",
       "      <td>compact vehicles</td>\n",
       "      <td>17</td>\n",
       "    </tr>\n",
       "    <tr>\n",
       "      <th>6</th>\n",
       "      <td>2022</td>\n",
       "      <td>trucks</td>\n",
       "      <td>40</td>\n",
       "    </tr>\n",
       "    <tr>\n",
       "      <th>7</th>\n",
       "      <td>2022</td>\n",
       "      <td>sedans</td>\n",
       "      <td>31</td>\n",
       "    </tr>\n",
       "    <tr>\n",
       "      <th>8</th>\n",
       "      <td>2022</td>\n",
       "      <td>compact vehicles</td>\n",
       "      <td>35</td>\n",
       "    </tr>\n",
       "  </tbody>\n",
       "</table>\n",
       "</div>"
      ],
      "text/plain": [
       "   year             items  units\n",
       "0  2020            trucks     20\n",
       "1  2020            sedans     15\n",
       "2  2020  compact vehicles     14\n",
       "3  2021            trucks     35\n",
       "4  2021            sedans     30\n",
       "5  2021  compact vehicles     17\n",
       "6  2022            trucks     40\n",
       "7  2022            sedans     31\n",
       "8  2022  compact vehicles     35"
      ]
     },
     "execution_count": 35,
     "metadata": {},
     "output_type": "execute_result"
    }
   ],
   "source": [
    "# Programmatically Reading Multiple Files \n",
    "sales_data = []\n",
    "for file in sales_files:\n",
    "    df = pd.read_csv(f\"../datasets/{file}\")\n",
    "    sales_data.append(df)\n",
    "    \n",
    "sales_df = pd.concat(sales_data, ignore_index=True)\n",
    "sales_df"
   ]
  },
  {
   "cell_type": "code",
   "execution_count": 36,
   "id": "b005de6e",
   "metadata": {},
   "outputs": [],
   "source": [
    "# It's common in the field to combine many different data sources into a single dataframe for cleaning/analysis\n",
    "# Writing to_csv will write the index values to their own column on the data\n",
    "sales_df.to_csv(\"../datasets/all_sales.csv\")"
   ]
  },
  {
   "cell_type": "code",
   "execution_count": 37,
   "id": "b00151fe",
   "metadata": {},
   "outputs": [
    {
     "name": "stdout",
     "output_type": "stream",
     "text": [
      " Volume in drive C is Windows\n",
      " Volume Serial Number is 3E94-F918\n",
      "\n",
      " Directory of C:\\Users\\rioca\\_anaconda_courses\\datasets\n",
      "\n",
      "12/27/2023  02:50 PM                72 2020_sales.csv\n",
      "12/27/2023  02:50 PM                72 2021_sales.csv\n",
      "12/27/2023  02:50 PM                72 2022_sales.csv\n",
      "12/27/2023  11:50 PM               211 all_sales.csv\n",
      "12/22/2023  05:28 PM            28,747 movie_genres.csv\n",
      "12/25/2023  04:39 PM            13,312 mpg.csv\n",
      "12/25/2023  12:10 PM            15,240 penguins.csv\n",
      "12/27/2023  05:08 PM               781 quotes.csv\n",
      "12/25/2023  04:39 PM             7,943 tips.csv\n",
      "               9 File(s)         66,450 bytes\n",
      "               0 Dir(s)  781,938,380,800 bytes free\n"
     ]
    }
   ],
   "source": [
    "!dir \"../datasets/*.csv\""
   ]
  },
  {
   "cell_type": "code",
   "execution_count": 38,
   "id": "28c2923a",
   "metadata": {},
   "outputs": [
    {
     "data": {
      "text/html": [
       "<div>\n",
       "<style scoped>\n",
       "    .dataframe tbody tr th:only-of-type {\n",
       "        vertical-align: middle;\n",
       "    }\n",
       "\n",
       "    .dataframe tbody tr th {\n",
       "        vertical-align: top;\n",
       "    }\n",
       "\n",
       "    .dataframe thead th {\n",
       "        text-align: right;\n",
       "    }\n",
       "</style>\n",
       "<table border=\"1\" class=\"dataframe\">\n",
       "  <thead>\n",
       "    <tr style=\"text-align: right;\">\n",
       "      <th></th>\n",
       "      <th>Unnamed: 0</th>\n",
       "      <th>year</th>\n",
       "      <th>items</th>\n",
       "      <th>units</th>\n",
       "    </tr>\n",
       "  </thead>\n",
       "  <tbody>\n",
       "    <tr>\n",
       "      <th>0</th>\n",
       "      <td>0</td>\n",
       "      <td>2020</td>\n",
       "      <td>trucks</td>\n",
       "      <td>20</td>\n",
       "    </tr>\n",
       "    <tr>\n",
       "      <th>1</th>\n",
       "      <td>1</td>\n",
       "      <td>2020</td>\n",
       "      <td>sedans</td>\n",
       "      <td>15</td>\n",
       "    </tr>\n",
       "    <tr>\n",
       "      <th>2</th>\n",
       "      <td>2</td>\n",
       "      <td>2020</td>\n",
       "      <td>compact vehicles</td>\n",
       "      <td>14</td>\n",
       "    </tr>\n",
       "    <tr>\n",
       "      <th>3</th>\n",
       "      <td>3</td>\n",
       "      <td>2021</td>\n",
       "      <td>trucks</td>\n",
       "      <td>35</td>\n",
       "    </tr>\n",
       "    <tr>\n",
       "      <th>4</th>\n",
       "      <td>4</td>\n",
       "      <td>2021</td>\n",
       "      <td>sedans</td>\n",
       "      <td>30</td>\n",
       "    </tr>\n",
       "  </tbody>\n",
       "</table>\n",
       "</div>"
      ],
      "text/plain": [
       "   Unnamed: 0  year             items  units\n",
       "0           0  2020            trucks     20\n",
       "1           1  2020            sedans     15\n",
       "2           2  2020  compact vehicles     14\n",
       "3           3  2021            trucks     35\n",
       "4           4  2021            sedans     30"
      ]
     },
     "execution_count": 38,
     "metadata": {},
     "output_type": "execute_result"
    }
   ],
   "source": [
    "# Notice how the left-over column is turned into an unnamed column\n",
    "pd.read_csv(\"../datasets/all_sales.csv\").head()"
   ]
  },
  {
   "cell_type": "code",
   "execution_count": 39,
   "id": "7422c230",
   "metadata": {},
   "outputs": [],
   "source": [
    "# Let's see an example where we avoid this complication by paying more attention to the index\n",
    "# The index argument on to_csv takes a boolean and defaults to True\n",
    "sales_df.to_csv(\"../datasets/all_sales_clean.csv\", index=False)"
   ]
  },
  {
   "cell_type": "code",
   "execution_count": 40,
   "id": "3dba0c67",
   "metadata": {},
   "outputs": [
    {
     "data": {
      "text/html": [
       "<div>\n",
       "<style scoped>\n",
       "    .dataframe tbody tr th:only-of-type {\n",
       "        vertical-align: middle;\n",
       "    }\n",
       "\n",
       "    .dataframe tbody tr th {\n",
       "        vertical-align: top;\n",
       "    }\n",
       "\n",
       "    .dataframe thead th {\n",
       "        text-align: right;\n",
       "    }\n",
       "</style>\n",
       "<table border=\"1\" class=\"dataframe\">\n",
       "  <thead>\n",
       "    <tr style=\"text-align: right;\">\n",
       "      <th></th>\n",
       "      <th>year</th>\n",
       "      <th>items</th>\n",
       "      <th>units</th>\n",
       "    </tr>\n",
       "  </thead>\n",
       "  <tbody>\n",
       "    <tr>\n",
       "      <th>0</th>\n",
       "      <td>2020</td>\n",
       "      <td>trucks</td>\n",
       "      <td>20</td>\n",
       "    </tr>\n",
       "    <tr>\n",
       "      <th>1</th>\n",
       "      <td>2020</td>\n",
       "      <td>sedans</td>\n",
       "      <td>15</td>\n",
       "    </tr>\n",
       "    <tr>\n",
       "      <th>2</th>\n",
       "      <td>2020</td>\n",
       "      <td>compact vehicles</td>\n",
       "      <td>14</td>\n",
       "    </tr>\n",
       "    <tr>\n",
       "      <th>3</th>\n",
       "      <td>2021</td>\n",
       "      <td>trucks</td>\n",
       "      <td>35</td>\n",
       "    </tr>\n",
       "    <tr>\n",
       "      <th>4</th>\n",
       "      <td>2021</td>\n",
       "      <td>sedans</td>\n",
       "      <td>30</td>\n",
       "    </tr>\n",
       "    <tr>\n",
       "      <th>5</th>\n",
       "      <td>2021</td>\n",
       "      <td>compact vehicles</td>\n",
       "      <td>17</td>\n",
       "    </tr>\n",
       "    <tr>\n",
       "      <th>6</th>\n",
       "      <td>2022</td>\n",
       "      <td>trucks</td>\n",
       "      <td>40</td>\n",
       "    </tr>\n",
       "    <tr>\n",
       "      <th>7</th>\n",
       "      <td>2022</td>\n",
       "      <td>sedans</td>\n",
       "      <td>31</td>\n",
       "    </tr>\n",
       "    <tr>\n",
       "      <th>8</th>\n",
       "      <td>2022</td>\n",
       "      <td>compact vehicles</td>\n",
       "      <td>35</td>\n",
       "    </tr>\n",
       "  </tbody>\n",
       "</table>\n",
       "</div>"
      ],
      "text/plain": [
       "   year             items  units\n",
       "0  2020            trucks     20\n",
       "1  2020            sedans     15\n",
       "2  2020  compact vehicles     14\n",
       "3  2021            trucks     35\n",
       "4  2021            sedans     30\n",
       "5  2021  compact vehicles     17\n",
       "6  2022            trucks     40\n",
       "7  2022            sedans     31\n",
       "8  2022  compact vehicles     35"
      ]
     },
     "execution_count": 40,
     "metadata": {},
     "output_type": "execute_result"
    }
   ],
   "source": [
    "# Notice that the index is regenerated and is appropriate\n",
    "pd.read_csv(\"../datasets/all_sales_clean.csv\")"
   ]
  },
  {
   "cell_type": "markdown",
   "id": "a46cb29f",
   "metadata": {},
   "source": [
    "If you use a named index column instead of only the autogenerated index, you will avoid this."
   ]
  },
  {
   "cell_type": "markdown",
   "id": "99af66c6",
   "metadata": {},
   "source": [
    "### Note on Separator Characters, called Delimiters\n",
    "- CSV files use commas to separate values\n",
    "- You may encounter files that use another delimiter character than a comma\n",
    "- Tab separated files are common in logfiles and spreadsheet exports\n",
    "- Sometimes, you may encounter a file extension of .tsv for tab-separated-values\n",
    "- You may encounter delimiters other than commas or tabs in plain text files.\n",
    "- Use `pd.read_csv` for them (unless the file is .JSON), and identify the appropriate character"
   ]
  },
  {
   "cell_type": "code",
   "execution_count": null,
   "id": "28c95b95",
   "metadata": {},
   "outputs": [],
   "source": [
    "# The \"\\t\" character is how we specify a tab character\n",
    "pd.read_csv(\"penguins_with_tabs.tsv\", sep=\"\\t\").head()"
   ]
  },
  {
   "cell_type": "code",
   "execution_count": null,
   "id": "3a9bf1a1",
   "metadata": {},
   "outputs": [],
   "source": [
    "# The read_json method can read JSON files from the file system or from URLs.\n",
    "# This is particularly helpful when consuming data from a RESTful API that returns JSON\n",
    "curie_quotes = pd.read_json(\"https://aphorisms.glitch.me/api/example\")\n",
    "curie_quotes"
   ]
  },
  {
   "cell_type": "markdown",
   "id": "daf2819b",
   "metadata": {},
   "source": [
    "## Example of using `read_clipboard`\n",
    "\n",
    "|     model |             displ | year |  cyl | trans |        drv |  cty |  hwy |   fl | drv   | class   |\n",
    "| --------: | ----------------: | ---: | ---: | ----: | ---------: | ---: | ---: | ---: | ----: | ------- |\n",
    "|      audi |                a4 |  2.0 | 2008 |     4 |   auto(av) |    f |   21 |   30 |     p | compact |\n",
    "|     dodge | dakota pickup 4wd |  3.9 | 1999 |     6 | manual(m5) |    4 |   14 |   17 |     r | pickup  |\n",
    "|    toyota |       4runner 4wd |  4.7 | 2008 |     8 |   auto(l5) |    4 |   14 |   17 |     r | suv     |\n",
    "|     dodge |       caravan 2wd |  3.8 | 2008 |     6 |   auto(l6) |    f |   16 |   23 |     r | minivan |\n",
    "| chevrolet |            malibu |  3.6 | 2008 |     6 |   auto(s6) |    f |   17 |   26 |     r | midsize |\n"
   ]
  },
  {
   "cell_type": "code",
   "execution_count": null,
   "id": "9aa8d1c3",
   "metadata": {},
   "outputs": [],
   "source": [
    "# Highlight and copy the table above \n",
    "# Then run this cell\n",
    "df = pd.read_clipboard()\n",
    "df"
   ]
  },
  {
   "cell_type": "code",
   "execution_count": null,
   "id": "41a247fa",
   "metadata": {},
   "outputs": [],
   "source": [
    "# Writing a dataframe in memory to an excel file\n",
    "df.to_excel(\"mpg.xlsx\", index=None)"
   ]
  },
  {
   "cell_type": "code",
   "execution_count": null,
   "id": "94851c41",
   "metadata": {},
   "outputs": [],
   "source": [
    "# Reading an excel file (simple version)\n",
    "mpg = pd.read_excel(\"mpg.xlsx\")"
   ]
  },
  {
   "cell_type": "code",
   "execution_count": null,
   "id": "965ea096",
   "metadata": {},
   "outputs": [],
   "source": [
    "mpg"
   ]
  },
  {
   "cell_type": "code",
   "execution_count": null,
   "id": "01f242ec",
   "metadata": {},
   "outputs": [],
   "source": [
    "# Reading a specific sheet from an excel file\n",
    "pd.read_excel(\"example_spreadsheet.xlsx\", sheet_name=\"grocery_list\")"
   ]
  },
  {
   "cell_type": "code",
   "execution_count": null,
   "id": "8b7ccc39",
   "metadata": {},
   "outputs": [],
   "source": [
    "# Notice how there's some extra\n",
    "pd.read_excel(\"example_spreadsheet.xlsx\", sheet_name=\"pet_info\")"
   ]
  },
  {
   "cell_type": "code",
   "execution_count": null,
   "id": "ffef271f",
   "metadata": {},
   "outputs": [],
   "source": [
    "# Sometimes, you may need to open the spreadsheet to identify the columns to skip\n",
    "pd.read_excel(\"example_spreadsheet.xlsx\", sheet_name=\"pet_info\", skiprows=4)"
   ]
  },
  {
   "cell_type": "markdown",
   "id": "700aa023",
   "metadata": {},
   "source": [
    "## Additional Resources\n",
    "- https://pandas.pydata.org/docs/reference/api/pandas.read_csv.html\n",
    "- https://pandas.pydata.org/docs/reference/api/pandas.read_clipboard.html\n",
    "- https://pandas.pydata.org/docs/reference/api/pandas.DataFrame.to_clipboard.html\n",
    "- https://pandas.pydata.org/docs/reference/api/pandas.read_excel.html\n",
    "- https://pandas.pydata.org/docs/reference/api/pandas.DataFrame.to_excel.html\n",
    "- Other formats https://pandas.pydata.org/docs/user_guide/io.html\n",
    "    - SQL\n",
    "    - XML\n",
    "    - STATA\n",
    "    - SAS\n",
    "    - SPSS"
   ]
  }
 ],
 "metadata": {
  "kernelspec": {
   "display_name": "Python 3 (ipykernel)",
   "language": "python",
   "name": "python3"
  },
  "language_info": {
   "codemirror_mode": {
    "name": "ipython",
    "version": 3
   },
   "file_extension": ".py",
   "mimetype": "text/x-python",
   "name": "python",
   "nbconvert_exporter": "python",
   "pygments_lexer": "ipython3",
   "version": "3.12.0"
  }
 },
 "nbformat": 4,
 "nbformat_minor": 5
}
