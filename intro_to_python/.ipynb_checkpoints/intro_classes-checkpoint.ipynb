{
 "cells": [
  {
   "cell_type": "code",
   "execution_count": 1,
   "id": "1036b36a-56c1-4f7e-9ee3-84a32802a65c",
   "metadata": {},
   "outputs": [],
   "source": [
    "# Classes"
   ]
  },
  {
   "cell_type": "code",
   "execution_count": 2,
   "id": "08aa0832-b8f8-4d2c-ae44-b59511214cd7",
   "metadata": {},
   "outputs": [],
   "source": [
    "# classic example"
   ]
  },
  {
   "cell_type": "code",
   "execution_count": 3,
   "id": "ca34482c-083a-4d78-a4fd-1627423279ed",
   "metadata": {},
   "outputs": [],
   "source": [
    "# \n",
    "\n",
    "class Dog:\n",
    "    \"\"\"A dog\"\"\"\n",
    "\n",
    "    def __init__(self, name, breed):\n",
    "        \"\"\"Initialize name and breed attributes\"\"\"\n",
    "        self.name = name\n",
    "        self.breed = breed\n",
    "    def sit(self):\n",
    "        \"\"\"sit on command\"\"\"\n",
    "        print(f\"{self.name} is now sitting\")\n",
    "    def rollover(self):\n",
    "        \"\"\"rollover on command\"\"\"\n",
    "        print(f\"{self.name} rolled over\")"
   ]
  },
  {
   "cell_type": "code",
   "execution_count": 4,
   "id": "42877fa5-ee9c-4d19-bea8-74c55f9ddb1e",
   "metadata": {},
   "outputs": [],
   "source": [
    "dog = Dog(\"Fido\", \"Poodle\")"
   ]
  },
  {
   "cell_type": "code",
   "execution_count": 9,
   "id": "e56bbf51-4533-4d26-8fe5-a276f4ed1c30",
   "metadata": {},
   "outputs": [
    {
     "data": {
      "text/plain": [
       "['breed', 'name', 'rollover', 'sit']"
      ]
     },
     "execution_count": 9,
     "metadata": {},
     "output_type": "execute_result"
    }
   ],
   "source": [
    "# commands or methods that are inside the class\n",
    "dir(dog)[27:]"
   ]
  },
  {
   "cell_type": "code",
   "execution_count": 11,
   "id": "2370a224-92b8-4b19-a446-b82ad1378ee4",
   "metadata": {},
   "outputs": [
    {
     "name": "stdout",
     "output_type": "stream",
     "text": [
      "Fido is now sitting\n"
     ]
    }
   ],
   "source": [
    "# calling one of the methods that is inside the class\n",
    "dog.sit()"
   ]
  },
  {
   "cell_type": "code",
   "execution_count": 12,
   "id": "d7cd1699-381b-4cd2-91a5-505e6a0c7628",
   "metadata": {},
   "outputs": [],
   "source": [
    "# more realistic example of using a class in Python"
   ]
  },
  {
   "cell_type": "code",
   "execution_count": 17,
   "id": "e91135b2-501c-4f1e-b057-b2f5b3090100",
   "metadata": {},
   "outputs": [],
   "source": [
    "# self is the item that we are eventually setting \n",
    "class Bidict:\n",
    "    def __init__(self, data):\n",
    "        self.key_dict = data"
   ]
  },
  {
   "cell_type": "code",
   "execution_count": 14,
   "id": "23af714c-2482-43b8-bf00-fa308062fb9a",
   "metadata": {},
   "outputs": [],
   "source": [
    "vocab = Bidict({\"edmonton\":\"oilers\"})"
   ]
  },
  {
   "cell_type": "code",
   "execution_count": 15,
   "id": "b46679c1-332d-433d-9d2e-1cac7b387019",
   "metadata": {},
   "outputs": [
    {
     "data": {
      "text/plain": [
       "{'edmonton': 'oilers'}"
      ]
     },
     "execution_count": 15,
     "metadata": {},
     "output_type": "execute_result"
    }
   ],
   "source": [
    "vocab.key_dict"
   ]
  },
  {
   "cell_type": "code",
   "execution_count": 39,
   "id": "2ac33572-cbd6-4a55-9b2c-20cb0af1d3e2",
   "metadata": {},
   "outputs": [],
   "source": [
    "# Methods & Properties\n",
    "# underscore syntax means \"do not touch\" or should be private"
   ]
  },
  {
   "cell_type": "code",
   "execution_count": 40,
   "id": "6a5393f6-0448-48a9-8b61-789a91f6e16f",
   "metadata": {},
   "outputs": [],
   "source": [
    "class Bidict:\n",
    "    def __init__(self, data):\n",
    "        if isinstance(data, dict):\n",
    "            self._kdict = data\n",
    "        else: \n",
    "            raise TypeError(\"data must be a dictionary\")\n",
    "    @property\n",
    "    def _vdict(self):\n",
    "        return {v: k for k, v in self._kdict.items()}\n",
    "    def get(self, key):\n",
    "        return self._kdict.get(key, self._vdict.get(key))"
   ]
  },
  {
   "cell_type": "code",
   "execution_count": 41,
   "id": "579c0fde-afc2-4c1e-8349-b0e29de1ad9c",
   "metadata": {},
   "outputs": [],
   "source": [
    "teams = Bidict({\"edmonton\": \"oilers\"})"
   ]
  },
  {
   "cell_type": "code",
   "execution_count": 42,
   "id": "6c6c57f4-912a-47e0-8990-72b912281377",
   "metadata": {},
   "outputs": [],
   "source": [
    "teams._kdict[\"calgary\"] = \"flames\""
   ]
  },
  {
   "cell_type": "code",
   "execution_count": 37,
   "id": "e67f6966-4c64-4a9a-8603-deec419115d8",
   "metadata": {},
   "outputs": [
    {
     "data": {
      "text/plain": [
       "{'edmonton': 'oilers', 'calgary': 'flames'}"
      ]
     },
     "execution_count": 37,
     "metadata": {},
     "output_type": "execute_result"
    }
   ],
   "source": [
    "teams._kdict"
   ]
  },
  {
   "cell_type": "code",
   "execution_count": 38,
   "id": "0b16e202-9727-49f3-8ff2-12bb99e3118d",
   "metadata": {},
   "outputs": [
    {
     "data": {
      "text/plain": [
       "{'oilers': 'edmonton', 'flames': 'calgary'}"
      ]
     },
     "execution_count": 38,
     "metadata": {},
     "output_type": "execute_result"
    }
   ],
   "source": [
    "teams._vdict"
   ]
  },
  {
   "cell_type": "code",
   "execution_count": 33,
   "id": "04679d8a-2349-4cdc-ac23-1b4256239fc4",
   "metadata": {},
   "outputs": [
    {
     "data": {
      "text/plain": [
       "['clear',\n",
       " 'copy',\n",
       " 'fromkeys',\n",
       " 'get',\n",
       " 'items',\n",
       " 'keys',\n",
       " 'pop',\n",
       " 'popitem',\n",
       " 'setdefault',\n",
       " 'update',\n",
       " 'values']"
      ]
     },
     "execution_count": 33,
     "metadata": {},
     "output_type": "execute_result"
    }
   ],
   "source": [
    "dir(teams._kdict)[35:]"
   ]
  },
  {
   "cell_type": "code",
   "execution_count": 43,
   "id": "486208d1-5262-4f51-8b55-d972a0f6e7ed",
   "metadata": {},
   "outputs": [
    {
     "data": {
      "text/plain": [
       "'oilers'"
      ]
     },
     "execution_count": 43,
     "metadata": {},
     "output_type": "execute_result"
    }
   ],
   "source": [
    "teams.get(\"edmonton\")"
   ]
  },
  {
   "cell_type": "code",
   "execution_count": 44,
   "id": "1fae38ab-ddf7-475f-ae59-5f8ad59271fb",
   "metadata": {},
   "outputs": [
    {
     "data": {
      "text/plain": [
       "'calgary'"
      ]
     },
     "execution_count": 44,
     "metadata": {},
     "output_type": "execute_result"
    }
   ],
   "source": [
    "teams.get(\"flames\")"
   ]
  },
  {
   "cell_type": "code",
   "execution_count": 45,
   "id": "1bcf61af-a02e-4005-9b2a-85a3b6eb6476",
   "metadata": {},
   "outputs": [],
   "source": [
    "# Dunder Methods"
   ]
  },
  {
   "cell_type": "code",
   "execution_count": 69,
   "id": "78a94280-26f3-4a26-ab3d-a5681ed0e914",
   "metadata": {},
   "outputs": [],
   "source": [
    "class newBidict:\n",
    "    def __repr__(self):\n",
    "        return self._kdict.__repr__()\n",
    "        \n",
    "    def __init__(self, data):\n",
    "        if isinstance(data, dict):\n",
    "            self._kdict = data\n",
    "        else: \n",
    "            raise TypeError(\"data must be a dictionary\")\n",
    "    @property\n",
    "    def _vdict(self):\n",
    "        return {v: k for k, v in self._kdict.items()}\n",
    "    def get(self, key):\n",
    "        return self._kdict.get(key, self._vdict.get(key))\n",
    "\n",
    "    # this allows us to see the value or the key for a specific item that we put between squar brackets\n",
    "    def __getitem__(self, key):\n",
    "        try:\n",
    "            return self._kdict[key]\n",
    "        except KeyError:\n",
    "            return self._vdict[key]\n",
    "    # this allows us to set a new key and a new value \n",
    "    def __setitem__(self, key, newvalue):\n",
    "        self._kdict[key] = newvalue"
   ]
  },
  {
   "cell_type": "code",
   "execution_count": 70,
   "id": "dadd454d-3de0-4539-877e-538c679e4c7c",
   "metadata": {},
   "outputs": [],
   "source": [
    "teams = newBidict({\"edmonton\": \"oilers\", \"calgary\":\"flames\"})"
   ]
  },
  {
   "cell_type": "code",
   "execution_count": 49,
   "id": "a5179c3d-7b82-4028-9a92-0e5136da3336",
   "metadata": {},
   "outputs": [
    {
     "data": {
      "text/plain": [
       "'oilers'"
      ]
     },
     "execution_count": 49,
     "metadata": {},
     "output_type": "execute_result"
    }
   ],
   "source": [
    "teams[\"edmonton\"]"
   ]
  },
  {
   "cell_type": "code",
   "execution_count": 50,
   "id": "6332c1a1-73be-4183-99ae-ff04f5f87998",
   "metadata": {},
   "outputs": [
    {
     "data": {
      "text/plain": [
       "'calgary'"
      ]
     },
     "execution_count": 50,
     "metadata": {},
     "output_type": "execute_result"
    }
   ],
   "source": [
    "teams[\"flames\"]"
   ]
  },
  {
   "cell_type": "code",
   "execution_count": 61,
   "id": "8ab49686-3f01-402c-a553-0194097ac42a",
   "metadata": {},
   "outputs": [],
   "source": [
    "# setting a new value\n",
    "teams[\"colorado\"] = \"avalanche\""
   ]
  },
  {
   "cell_type": "code",
   "execution_count": 63,
   "id": "07eb08fb-02e8-46bc-9bd0-bbdf0285d9a9",
   "metadata": {},
   "outputs": [
    {
     "data": {
      "text/plain": [
       "<__main__.newBidict at 0x1f777688bf0>"
      ]
     },
     "execution_count": 63,
     "metadata": {},
     "output_type": "execute_result"
    }
   ],
   "source": [
    "# not very descriptive without repr\n",
    "teams"
   ]
  },
  {
   "cell_type": "code",
   "execution_count": 72,
   "id": "5ddc9c08-7edd-4888-b342-5e5bb71ce9d1",
   "metadata": {},
   "outputs": [
    {
     "data": {
      "text/plain": [
       "{'edmonton': 'oilers', 'calgary': 'flames'}"
      ]
     },
     "execution_count": 72,
     "metadata": {},
     "output_type": "execute_result"
    }
   ],
   "source": [
    "# using __repr__\n",
    "teams"
   ]
  },
  {
   "cell_type": "code",
   "execution_count": 78,
   "id": "66a8925f-0847-4732-b3b6-c029b9055f38",
   "metadata": {},
   "outputs": [],
   "source": [
    "# operator overloading - merging the dictionaries that we currently have"
   ]
  },
  {
   "cell_type": "code",
   "execution_count": 91,
   "id": "222cc3c1-d746-4d24-aef9-1f62d9584013",
   "metadata": {},
   "outputs": [],
   "source": [
    "class finalBidict:\n",
    "    def __repr__(self):\n",
    "        return self._kdict.__repr__()\n",
    "        \n",
    "    def __init__(self, data=None):\n",
    "        if not data:\n",
    "            self._kdict = dict() \n",
    "        elif isinstance(data, dict):\n",
    "            self._kdict = data\n",
    "        else: \n",
    "            raise TypeError(\"data must be a dictionary\")\n",
    "    @property\n",
    "    def _vdict(self):\n",
    "        return {v: k for k, v in self._kdict.items()}\n",
    "    def get(self, key):\n",
    "        return self._kdict.get(key, self._vdict.get(key))\n",
    "\n",
    "    # this allows us to see the value or the key for a specific item that we put between squar brackets\n",
    "    def __getitem__(self, key):\n",
    "        try:\n",
    "            return self._kdict[key]\n",
    "        except KeyError:\n",
    "            return self._vdict[key]\n",
    "    # this allows us to set a new key and a new value \n",
    "    def __setitem__(self, key, newvalue):\n",
    "        self._kdict[key] = newvalue\n",
    "    def __or__(self, rhs):\n",
    "        if isinstance(rhs, finalBidict):\n",
    "            rhs = rhs._kdict\n",
    "        lhs = self._kdict\n",
    "        new = lhs | rhs\n",
    "        return finalBidict(new)"
   ]
  },
  {
   "cell_type": "code",
   "execution_count": 76,
   "id": "227e5414-b816-4138-8f42-d153688f6c6f",
   "metadata": {},
   "outputs": [],
   "source": [
    "new_teams = finalBidict({\"edmonton\": \"oilers\"}) | finalBidict({\"calgay\":\"flames\"})"
   ]
  },
  {
   "cell_type": "code",
   "execution_count": 77,
   "id": "c82df5c0-e5eb-44f7-9a0a-c927068fee0f",
   "metadata": {},
   "outputs": [
    {
     "data": {
      "text/plain": [
       "{'edmonton': 'oilers', 'calgay': 'flames'}"
      ]
     },
     "execution_count": 77,
     "metadata": {},
     "output_type": "execute_result"
    }
   ],
   "source": [
    "new_teams"
   ]
  },
  {
   "cell_type": "code",
   "execution_count": 79,
   "id": "93f56357-ae4d-4c7f-80f5-ffdf7f8bcd35",
   "metadata": {},
   "outputs": [],
   "source": [
    "new_teams |= {\"colorado\":\"avalanche\"}"
   ]
  },
  {
   "cell_type": "code",
   "execution_count": 80,
   "id": "9eb6c25e-b44c-4458-b0b7-f9f386259b65",
   "metadata": {},
   "outputs": [
    {
     "data": {
      "text/plain": [
       "{'edmonton': 'oilers', 'calgay': 'flames', 'colorado': 'avalanche'}"
      ]
     },
     "execution_count": 80,
     "metadata": {},
     "output_type": "execute_result"
    }
   ],
   "source": [
    "new_teams"
   ]
  },
  {
   "cell_type": "code",
   "execution_count": 81,
   "id": "7181eea5-2221-4da9-9f02-488dd630a38d",
   "metadata": {},
   "outputs": [],
   "source": [
    "# class inheritance"
   ]
  },
  {
   "cell_type": "code",
   "execution_count": 82,
   "id": "84095312-3a8e-4a1c-8210-1b185a018811",
   "metadata": {},
   "outputs": [
    {
     "data": {
      "text/plain": [
       "[1, 2, 0, 0, 2]"
      ]
     },
     "execution_count": 82,
     "metadata": {},
     "output_type": "execute_result"
    }
   ],
   "source": [
    "[\"rock\", \"paper\", \"scissors\", \"scissors\", \"paper\"]\n",
    "[1, 2, 0, 0, 2]"
   ]
  },
  {
   "cell_type": "code",
   "execution_count": 83,
   "id": "d0a5779f-39aa-4970-962e-173c946ab7d3",
   "metadata": {},
   "outputs": [
    {
     "data": {
      "text/plain": [
       "{'rock': 0, 'scissors': 1, 'paper': 2}"
      ]
     },
     "execution_count": 83,
     "metadata": {},
     "output_type": "execute_result"
    }
   ],
   "source": [
    "X = [\"rock\", \"paper\", \"scissors\", \"scissors\", \"paper\"]\n",
    "{x: i for i, x in enumerate(set(X))}"
   ]
  },
  {
   "cell_type": "code",
   "execution_count": 85,
   "id": "0c794024-1e3e-49e0-8ca9-0a2cfb60fa46",
   "metadata": {},
   "outputs": [],
   "source": [
    "seqdict = {x: i for i, x in enumerate(set(X))}"
   ]
  },
  {
   "cell_type": "code",
   "execution_count": 86,
   "id": "704afa75-2fd1-4bf0-baff-0352dd5a6b72",
   "metadata": {},
   "outputs": [],
   "source": [
    "# List Encoder"
   ]
  },
  {
   "cell_type": "code",
   "execution_count": 106,
   "id": "9b449c3a-52da-4291-ad2c-74da712bbe4b",
   "metadata": {},
   "outputs": [],
   "source": [
    "# super means to go grab the parent object\n",
    "class ListEncoder(finalBidict):\n",
    "    def __init__(self):\n",
    "        self = super().__init__()\n",
    "\n",
    "    def fit(self, X):\n",
    "        if not isinstance(X, list):\n",
    "            raise TypeError(\"X must be a list\")\n",
    "            self._kdict = dict(enumerate(set(X)))\n",
    "            return self\n",
    "\n",
    "    def transform(self, X):\n",
    "        if not isinstance(X, list):\n",
    "            return self._vdict[X]\n",
    "        return [self._vdict.get(xi) for xi in X]\n",
    "        \n",
    "    def inverse_transform(self, X):\n",
    "        if not isinstance(X, list):\n",
    "            return self._kdict[X]\n",
    "        return [self._kdict.get(xi) for xi in X]"
   ]
  },
  {
   "cell_type": "code",
   "execution_count": 107,
   "id": "09c110b0-f078-4adc-b502-ea263dc28fcd",
   "metadata": {},
   "outputs": [],
   "source": [
    "new_object = ListEncoder()"
   ]
  },
  {
   "cell_type": "code",
   "execution_count": 101,
   "id": "405aeb3e-ee27-4c6d-aede-ef844e78f20e",
   "metadata": {},
   "outputs": [
    {
     "data": {
      "text/plain": [
       "{}"
      ]
     },
     "execution_count": 101,
     "metadata": {},
     "output_type": "execute_result"
    }
   ],
   "source": [
    "new_object"
   ]
  },
  {
   "cell_type": "code",
   "execution_count": 110,
   "id": "cdfaffaf-81a0-4221-b2dd-cca325157409",
   "metadata": {},
   "outputs": [],
   "source": [
    "new_object.fit([\"R\", \"P\", \"S\", \"R\"])"
   ]
  },
  {
   "cell_type": "code",
   "execution_count": 111,
   "id": "cdb95844-1a77-4b2c-9efc-f77369182b37",
   "metadata": {},
   "outputs": [
    {
     "data": {
      "text/plain": [
       "[None, None]"
      ]
     },
     "execution_count": 111,
     "metadata": {},
     "output_type": "execute_result"
    }
   ],
   "source": [
    "new_object.transform([\"R\", \"S\"])"
   ]
  },
  {
   "cell_type": "code",
   "execution_count": null,
   "id": "bb1c9a2d-cad6-4c6f-8645-832ba7b1ac88",
   "metadata": {},
   "outputs": [],
   "source": []
  }
 ],
 "metadata": {
  "kernelspec": {
   "display_name": "Python 3 (ipykernel)",
   "language": "python",
   "name": "python3"
  },
  "language_info": {
   "codemirror_mode": {
    "name": "ipython",
    "version": 3
   },
   "file_extension": ".py",
   "mimetype": "text/x-python",
   "name": "python",
   "nbconvert_exporter": "python",
   "pygments_lexer": "ipython3",
   "version": "3.12.0"
  }
 },
 "nbformat": 4,
 "nbformat_minor": 5
}
