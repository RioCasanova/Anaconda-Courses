{
 "cells": [
  {
   "cell_type": "code",
   "execution_count": 1,
   "id": "59b3b791-b04a-41e1-8f89-35b45613ca73",
   "metadata": {},
   "outputs": [],
   "source": [
    "# Collections & Lists"
   ]
  },
  {
   "cell_type": "code",
   "execution_count": 2,
   "id": "ba1a92ea-4324-42ae-bcb6-7dfdedfe963f",
   "metadata": {},
   "outputs": [],
   "source": [
    "snake_1 = \"anaconda\"\n",
    "snake_2 = \"python\"\n",
    "snake_3 = \"cobra\""
   ]
  },
  {
   "cell_type": "code",
   "execution_count": 3,
   "id": "17ef49fa-8eb5-4e1f-9628-99db048c65a7",
   "metadata": {},
   "outputs": [],
   "source": [
    "snakes = [snake_1, snake_2, snake_3] "
   ]
  },
  {
   "cell_type": "code",
   "execution_count": 4,
   "id": "9686e0b2-a251-4ae8-9470-18cce05f076b",
   "metadata": {},
   "outputs": [
    {
     "data": {
      "text/plain": [
       "list"
      ]
     },
     "execution_count": 4,
     "metadata": {},
     "output_type": "execute_result"
    }
   ],
   "source": [
    "type(snakes)"
   ]
  },
  {
   "cell_type": "code",
   "execution_count": 5,
   "id": "5a268626-15f6-4ae2-8eb6-15ef0ab47ec2",
   "metadata": {},
   "outputs": [
    {
     "data": {
      "text/plain": [
       "['anaconda', 'python', 'cobra']"
      ]
     },
     "execution_count": 5,
     "metadata": {},
     "output_type": "execute_result"
    }
   ],
   "source": [
    "snakes"
   ]
  },
  {
   "cell_type": "code",
   "execution_count": 6,
   "id": "d2afd4d6-1c9e-4887-b330-d043131c97da",
   "metadata": {},
   "outputs": [
    {
     "data": {
      "text/plain": [
       "list"
      ]
     },
     "execution_count": 6,
     "metadata": {},
     "output_type": "execute_result"
    }
   ],
   "source": [
    "numbers = [1, 2, 3, 4]\n",
    "type(numbers)"
   ]
  },
  {
   "cell_type": "code",
   "execution_count": 7,
   "id": "c90315c2-381f-4228-ba16-7e79e1e566e7",
   "metadata": {},
   "outputs": [
    {
     "data": {
      "text/plain": [
       "[1, 2, 3, 4]"
      ]
     },
     "execution_count": 7,
     "metadata": {},
     "output_type": "execute_result"
    }
   ],
   "source": [
    "numbers"
   ]
  },
  {
   "cell_type": "code",
   "execution_count": 8,
   "id": "4d666b18-dfca-4643-8d04-4ddd63f0a97b",
   "metadata": {},
   "outputs": [],
   "source": [
    "# indexing - is 0 indexed"
   ]
  },
  {
   "cell_type": "code",
   "execution_count": 9,
   "id": "7959a439-a73b-495b-bea8-8a20d52b161a",
   "metadata": {},
   "outputs": [
    {
     "data": {
      "text/plain": [
       "'anaconda'"
      ]
     },
     "execution_count": 9,
     "metadata": {},
     "output_type": "execute_result"
    }
   ],
   "source": [
    "snakes[0]"
   ]
  },
  {
   "cell_type": "code",
   "execution_count": 10,
   "id": "8027fec4-ca01-415c-a7cb-22f86e677c7e",
   "metadata": {},
   "outputs": [
    {
     "data": {
      "text/plain": [
       "3"
      ]
     },
     "execution_count": 10,
     "metadata": {},
     "output_type": "execute_result"
    }
   ],
   "source": [
    "numbers[2]"
   ]
  },
  {
   "cell_type": "code",
   "execution_count": 11,
   "id": "8b9f7d88-b474-462f-87ad-a8fbb107787e",
   "metadata": {},
   "outputs": [],
   "source": [
    "# slicing"
   ]
  },
  {
   "cell_type": "code",
   "execution_count": null,
   "id": "24b5a199-4101-4994-8ac8-60939875f53b",
   "metadata": {},
   "outputs": [],
   "source": []
  }
 ],
 "metadata": {
  "kernelspec": {
   "display_name": "Python 3 (ipykernel)",
   "language": "python",
   "name": "python3"
  },
  "language_info": {
   "codemirror_mode": {
    "name": "ipython",
    "version": 3
   },
   "file_extension": ".py",
   "mimetype": "text/x-python",
   "name": "python",
   "nbconvert_exporter": "python",
   "pygments_lexer": "ipython3",
   "version": "3.12.0"
  }
 },
 "nbformat": 4,
 "nbformat_minor": 5
}
