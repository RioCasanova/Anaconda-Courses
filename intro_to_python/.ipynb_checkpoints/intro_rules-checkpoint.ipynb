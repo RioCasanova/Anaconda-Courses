{
 "cells": [
  {
   "cell_type": "code",
   "execution_count": 2,
   "id": "601e5a3d-26ec-4ea0-8caa-b684e82f9cb1",
   "metadata": {},
   "outputs": [],
   "source": [
    "# Rules\n",
    "# else if"
   ]
  },
  {
   "cell_type": "code",
   "execution_count": 3,
   "id": "250e9f5e-3162-44d3-b94a-16deba769019",
   "metadata": {},
   "outputs": [],
   "source": [
    "month = \"August\""
   ]
  },
  {
   "cell_type": "code",
   "execution_count": 4,
   "id": "e57bb9c8-11cf-498b-9ec1-c309aed7eb4c",
   "metadata": {},
   "outputs": [
    {
     "name": "stdout",
     "output_type": "stream",
     "text": [
      "play volleyball\n"
     ]
    }
   ],
   "source": [
    "if month == \"August\":\n",
    "    print(\"play volleyball\")"
   ]
  },
  {
   "cell_type": "code",
   "execution_count": 5,
   "id": "563a7c73-dffd-4f69-9754-15efbf344cf6",
   "metadata": {},
   "outputs": [],
   "source": [
    "months = [\"Jan\", \"Feb\", \"Mar\", \"Apr\", \"May\", \"Jun\", \"Jul\", \"Aug\", \"Sep\",\n",
    "         \"Oct\", \"Nov\", \"Dec\"]"
   ]
  },
  {
   "cell_type": "code",
   "execution_count": 6,
   "id": "2ffa8f14-2a23-4108-8166-7e721f84c22a",
   "metadata": {},
   "outputs": [],
   "source": [
    "# creating a dictionary that is not zero-indexed and \n",
    "# has numbers as their key-value pair\n",
    "months = dict(zip(months, range(1, 12+1)))"
   ]
  },
  {
   "cell_type": "code",
   "execution_count": 7,
   "id": "7d241085-a484-4dc9-bb01-9dee8a55dace",
   "metadata": {},
   "outputs": [
    {
     "data": {
      "text/plain": [
       "{'Jan': 1,\n",
       " 'Feb': 2,\n",
       " 'Mar': 3,\n",
       " 'Apr': 4,\n",
       " 'May': 5,\n",
       " 'Jun': 6,\n",
       " 'Jul': 7,\n",
       " 'Aug': 8,\n",
       " 'Sep': 9,\n",
       " 'Oct': 10,\n",
       " 'Nov': 11,\n",
       " 'Dec': 12}"
      ]
     },
     "execution_count": 7,
     "metadata": {},
     "output_type": "execute_result"
    }
   ],
   "source": [
    "months"
   ]
  },
  {
   "cell_type": "code",
   "execution_count": 8,
   "id": "bc356f00-2408-41f8-bfa0-f26f04bae31d",
   "metadata": {},
   "outputs": [],
   "source": [
    "# nov - feb = Snowboard\n",
    "# May - Sep = Volleyball"
   ]
  },
  {
   "cell_type": "code",
   "execution_count": 9,
   "id": "31b01222-7d62-4477-a349-33e6ac19cbe6",
   "metadata": {},
   "outputs": [
    {
     "name": "stdout",
     "output_type": "stream",
     "text": [
      "Voleyball\n"
     ]
    }
   ],
   "source": [
    "current_month = \"Sep\"\n",
    "\n",
    "if months[current_month] in [11, 12, 1, 2]:\n",
    "    print(\"Snowboard\")\n",
    "if months[current_month] in [3, 4, 5, 6, 7, 8, 9, 10]:\n",
    "    print(\"Voleyball\")"
   ]
  },
  {
   "cell_type": "code",
   "execution_count": 11,
   "id": "c91d468e-74ec-4b0e-b383-7cbe1905e354",
   "metadata": {},
   "outputs": [],
   "source": [
    "# else & elif"
   ]
  },
  {
   "cell_type": "code",
   "execution_count": 12,
   "id": "1eb6e59a-6eee-4b7b-a4ce-9d8e268e7430",
   "metadata": {},
   "outputs": [
    {
     "name": "stdout",
     "output_type": "stream",
     "text": [
      "Snowboard\n"
     ]
    }
   ],
   "source": [
    "current_month = \"Jan\"\n",
    "if months[current_month] in [3, 4, 5, 6, 7, 8, 9, 10]:\n",
    "    print(\"Voleyball\")\n",
    "else:\n",
    "    print(\"Snowboard\")"
   ]
  },
  {
   "cell_type": "code",
   "execution_count": 15,
   "id": "27438d9a-591b-4772-b5a3-2359bd5bf6cb",
   "metadata": {},
   "outputs": [
    {
     "name": "stdout",
     "output_type": "stream",
     "text": [
      "Doodle\n"
     ]
    }
   ],
   "source": [
    "current_month = \"Apr\"\n",
    "month_number = months[current_month]\n",
    "\n",
    "if months[current_month] in [11, 12, 1, 2]:\n",
    "    print(\"Snowboard\")\n",
    "elif (month_number >= 5) & (month_number <= 9):\n",
    "    print(\"Volleyball\")\n",
    "else:\n",
    "    print(\"Doodle\")"
   ]
  },
  {
   "cell_type": "code",
   "execution_count": 16,
   "id": "a26e07d3-f237-4eb1-922e-33eb0b1dd22d",
   "metadata": {},
   "outputs": [],
   "source": [
    "# Encapsulate\n",
    "# I think this means storing the logic within a function?\n"
   ]
  },
  {
   "cell_type": "code",
   "execution_count": null,
   "id": "c336c9e4-5d75-4e67-b8f2-491c19c3b3f7",
   "metadata": {},
   "outputs": [],
   "source": []
  }
 ],
 "metadata": {
  "kernelspec": {
   "display_name": "Python 3 (ipykernel)",
   "language": "python",
   "name": "python3"
  },
  "language_info": {
   "codemirror_mode": {
    "name": "ipython",
    "version": 3
   },
   "file_extension": ".py",
   "mimetype": "text/x-python",
   "name": "python",
   "nbconvert_exporter": "python",
   "pygments_lexer": "ipython3",
   "version": "3.12.0"
  }
 },
 "nbformat": 4,
 "nbformat_minor": 5
}
