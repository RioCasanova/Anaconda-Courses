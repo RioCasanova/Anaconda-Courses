{
 "cells": [
  {
   "cell_type": "code",
   "execution_count": 2,
   "id": "26517dbd-9b59-45b4-8445-74cf8c74ec80",
   "metadata": {},
   "outputs": [],
   "source": [
    "# here we are learning an introduction to using numbers in Python3\n",
    "# it is pretty simple and straight forward so I am going to start on \n",
    "# something a little more difficult"
   ]
  },
  {
   "cell_type": "code",
   "execution_count": 4,
   "id": "356073ae-9c74-4e21-a702-72d48d08314f",
   "metadata": {},
   "outputs": [
    {
     "name": "stdout",
     "output_type": "stream",
     "text": [
      "9 + 2 = 11\n"
     ]
    }
   ],
   "source": [
    "print(f\"{9 + 2 = }\")"
   ]
  },
  {
   "cell_type": "code",
   "execution_count": 7,
   "id": "35f641fb-46df-438b-8537-536376b46250",
   "metadata": {},
   "outputs": [
    {
     "data": {
      "text/plain": [
       "3.0"
      ]
     },
     "execution_count": 7,
     "metadata": {},
     "output_type": "execute_result"
    }
   ],
   "source": [
    "# Floor Division\n",
    "9.1 // 3 "
   ]
  },
  {
   "cell_type": "code",
   "execution_count": 10,
   "id": "1d88b421-4730-4dd4-88d6-35d9d999777b",
   "metadata": {},
   "outputs": [
    {
     "data": {
      "text/plain": [
       "9"
      ]
     },
     "execution_count": 10,
     "metadata": {},
     "output_type": "execute_result"
    }
   ],
   "source": [
    "# Rounding\n",
    "# any even number is going to round down and any odd number is going to \n",
    "# round up\n",
    "round(9.1)"
   ]
  },
  {
   "cell_type": "code",
   "execution_count": 9,
   "id": "3bd65a18-f1db-4ed3-a99e-8ad7c98f802e",
   "metadata": {},
   "outputs": [
    {
     "data": {
      "text/plain": [
       "4"
      ]
     },
     "execution_count": 9,
     "metadata": {},
     "output_type": "execute_result"
    }
   ],
   "source": [
    "round(4.5)"
   ]
  },
  {
   "cell_type": "code",
   "execution_count": 11,
   "id": "20d3d09d-a9f0-4c9f-849a-2e4125968326",
   "metadata": {},
   "outputs": [
    {
     "data": {
      "text/plain": [
       "4"
      ]
     },
     "execution_count": 11,
     "metadata": {},
     "output_type": "execute_result"
    }
   ],
   "source": [
    "round(3.5)"
   ]
  },
  {
   "cell_type": "code",
   "execution_count": 12,
   "id": "265fbfd0-647c-4a4c-8db3-2f0b4223f233",
   "metadata": {},
   "outputs": [
    {
     "data": {
      "text/plain": [
       "9.88"
      ]
     },
     "execution_count": 12,
     "metadata": {},
     "output_type": "execute_result"
    }
   ],
   "source": [
    "round(9.8765, 2)"
   ]
  },
  {
   "cell_type": "code",
   "execution_count": 13,
   "id": "dd13eb36-1ff6-44fd-bc9a-c0345dc06b27",
   "metadata": {},
   "outputs": [
    {
     "data": {
      "text/plain": [
       "89200.0"
      ]
     },
     "execution_count": 13,
     "metadata": {},
     "output_type": "execute_result"
    }
   ],
   "source": [
    "round(89231.34, -2)"
   ]
  },
  {
   "cell_type": "code",
   "execution_count": 16,
   "id": "b5d43c2f-df65-4286-b0ff-372cecba0703",
   "metadata": {},
   "outputs": [
    {
     "data": {
      "text/plain": [
       "0"
      ]
     },
     "execution_count": 16,
     "metadata": {},
     "output_type": "execute_result"
    }
   ],
   "source": [
    "# Modulo Operator\n",
    "# self explanatory\n",
    "8 % 2"
   ]
  },
  {
   "cell_type": "code",
   "execution_count": 15,
   "id": "f8809fa6-8aa7-4bf8-b1dc-7d42263cc6b9",
   "metadata": {},
   "outputs": [
    {
     "data": {
      "text/plain": [
       "1"
      ]
     },
     "execution_count": 15,
     "metadata": {},
     "output_type": "execute_result"
    }
   ],
   "source": [
    "9 % 2"
   ]
  },
  {
   "cell_type": "code",
   "execution_count": 17,
   "id": "4a14585e-ff45-474e-9117-424c24f1cdd6",
   "metadata": {},
   "outputs": [
    {
     "data": {
      "text/plain": [
       "7000.0"
      ]
     },
     "execution_count": 17,
     "metadata": {},
     "output_type": "execute_result"
    }
   ],
   "source": [
    "# Big Numbers\n",
    "7e3"
   ]
  },
  {
   "cell_type": "code",
   "execution_count": 18,
   "id": "35ace932-0c50-4b01-8ec4-c5cff2e8eb6c",
   "metadata": {},
   "outputs": [
    {
     "data": {
      "text/plain": [
       "100000000"
      ]
     },
     "execution_count": 18,
     "metadata": {},
     "output_type": "execute_result"
    }
   ],
   "source": [
    "100_000_000"
   ]
  },
  {
   "cell_type": "code",
   "execution_count": 19,
   "id": "fd58ad7c-496c-4f8d-a432-50356ccd0464",
   "metadata": {},
   "outputs": [],
   "source": [
    "# incrementing numbers is the same in Python as it is in other languages"
   ]
  },
  {
   "cell_type": "code",
   "execution_count": 21,
   "id": "7075ea72-2ce0-4717-9b9d-2a3a76f92340",
   "metadata": {},
   "outputs": [],
   "source": [
    "# Casting Numbers / Values ----------"
   ]
  },
  {
   "cell_type": "code",
   "execution_count": 22,
   "id": "3a999aa9-c276-49e8-96f1-ce8e6fb48dea",
   "metadata": {},
   "outputs": [
    {
     "name": "stdout",
     "output_type": "stream",
     "text": [
      "$120\n"
     ]
    }
   ],
   "source": [
    "print(f\"${120}\")"
   ]
  },
  {
   "cell_type": "code",
   "execution_count": 25,
   "id": "712fd521-02a2-446c-b7b6-8076453f6dbc",
   "metadata": {},
   "outputs": [
    {
     "data": {
      "text/plain": [
       "int"
      ]
     },
     "execution_count": 25,
     "metadata": {},
     "output_type": "execute_result"
    }
   ],
   "source": [
    "profit = int(\"120\")\n",
    "type(profit)"
   ]
  },
  {
   "cell_type": "code",
   "execution_count": null,
   "id": "730ad7c4-d90f-42ad-8b34-9b53ecb5b597",
   "metadata": {},
   "outputs": [],
   "source": []
  }
 ],
 "metadata": {
  "kernelspec": {
   "display_name": "Python 3 (ipykernel)",
   "language": "python",
   "name": "python3"
  },
  "language_info": {
   "codemirror_mode": {
    "name": "ipython",
    "version": 3
   },
   "file_extension": ".py",
   "mimetype": "text/x-python",
   "name": "python",
   "nbconvert_exporter": "python",
   "pygments_lexer": "ipython3",
   "version": "3.12.0"
  }
 },
 "nbformat": 4,
 "nbformat_minor": 5
}
