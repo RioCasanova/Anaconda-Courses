{
 "cells": [
  {
   "cell_type": "code",
   "execution_count": 1,
   "id": "7747efaa-a16e-430a-8db0-e8d7689f6adc",
   "metadata": {},
   "outputs": [],
   "source": [
    "is_snake_case = \"This is how we decalre a variable\""
   ]
  },
  {
   "cell_type": "code",
   "execution_count": 2,
   "id": "fc5cb0a8-1464-404e-84ee-b49638856d5e",
   "metadata": {},
   "outputs": [],
   "source": [
    "camelCase = \"Do not declare variables using camelCase\""
   ]
  },
  {
   "cell_type": "code",
   "execution_count": 6,
   "id": "d165fadf-c54f-415b-b4f7-9a2464f77f53",
   "metadata": {},
   "outputs": [],
   "source": [
    "name = \"Rio\"\n",
    "color = \"Blue\"\n",
    "pet = \"Dog\""
   ]
  },
  {
   "cell_type": "code",
   "execution_count": 4,
   "id": "d58ec04b-8420-4a1d-bef1-41bd7d3ef6d4",
   "metadata": {},
   "outputs": [],
   "source": [
    "# this is how we are going to be able to use a variable within a string\n"
   ]
  },
  {
   "cell_type": "code",
   "execution_count": 7,
   "id": "7e52389b-ad73-4ef4-a885-e2ae92d7448a",
   "metadata": {},
   "outputs": [
    {
     "data": {
      "text/plain": [
       "'My name is Rio, my favourite color is Blue, and I have a Dog'"
      ]
     },
     "execution_count": 7,
     "metadata": {},
     "output_type": "execute_result"
    }
   ],
   "source": [
    "f\"My name is {name}, my favourite color is {color}, and I have a {pet}\""
   ]
  },
  {
   "cell_type": "code",
   "execution_count": 1,
   "id": "2cc06ec8-823f-4daf-9624-ade17dc784ab",
   "metadata": {},
   "outputs": [],
   "source": [
    "# Now we are going to look at string methods"
   ]
  },
  {
   "cell_type": "code",
   "execution_count": 2,
   "id": "9b68dd18-cafa-4fd1-b772-0320ebf56ba4",
   "metadata": {},
   "outputs": [],
   "source": [
    "# getting the type from a variable"
   ]
  },
  {
   "cell_type": "code",
   "execution_count": 4,
   "id": "d3ca7891-7b31-4754-87f8-d43abca51264",
   "metadata": {},
   "outputs": [
    {
     "data": {
      "text/plain": [
       "str"
      ]
     },
     "execution_count": 4,
     "metadata": {},
     "output_type": "execute_result"
    }
   ],
   "source": [
    "name = \"Tommy\"\n",
    "type(name)"
   ]
  },
  {
   "cell_type": "code",
   "execution_count": 5,
   "id": "c663a1f8-cc4c-4b03-9b42-72c48c431dba",
   "metadata": {},
   "outputs": [],
   "source": [
    "# these are all the functions that can be used with this string"
   ]
  },
  {
   "cell_type": "code",
   "execution_count": 6,
   "id": "5bf2325c-fc79-4bac-a8ac-477932d0f1e4",
   "metadata": {},
   "outputs": [
    {
     "data": {
      "text/plain": [
       "['__add__',\n",
       " '__class__',\n",
       " '__contains__',\n",
       " '__delattr__',\n",
       " '__dir__',\n",
       " '__doc__',\n",
       " '__eq__',\n",
       " '__format__',\n",
       " '__ge__',\n",
       " '__getattribute__',\n",
       " '__getitem__',\n",
       " '__getnewargs__',\n",
       " '__getstate__',\n",
       " '__gt__',\n",
       " '__hash__',\n",
       " '__init__',\n",
       " '__init_subclass__',\n",
       " '__iter__',\n",
       " '__le__',\n",
       " '__len__',\n",
       " '__lt__',\n",
       " '__mod__',\n",
       " '__mul__',\n",
       " '__ne__',\n",
       " '__new__',\n",
       " '__reduce__',\n",
       " '__reduce_ex__',\n",
       " '__repr__',\n",
       " '__rmod__',\n",
       " '__rmul__',\n",
       " '__setattr__',\n",
       " '__sizeof__',\n",
       " '__str__',\n",
       " '__subclasshook__',\n",
       " 'capitalize',\n",
       " 'casefold',\n",
       " 'center',\n",
       " 'count',\n",
       " 'encode',\n",
       " 'endswith',\n",
       " 'expandtabs',\n",
       " 'find',\n",
       " 'format',\n",
       " 'format_map',\n",
       " 'index',\n",
       " 'isalnum',\n",
       " 'isalpha',\n",
       " 'isascii',\n",
       " 'isdecimal',\n",
       " 'isdigit',\n",
       " 'isidentifier',\n",
       " 'islower',\n",
       " 'isnumeric',\n",
       " 'isprintable',\n",
       " 'isspace',\n",
       " 'istitle',\n",
       " 'isupper',\n",
       " 'join',\n",
       " 'ljust',\n",
       " 'lower',\n",
       " 'lstrip',\n",
       " 'maketrans',\n",
       " 'partition',\n",
       " 'removeprefix',\n",
       " 'removesuffix',\n",
       " 'replace',\n",
       " 'rfind',\n",
       " 'rindex',\n",
       " 'rjust',\n",
       " 'rpartition',\n",
       " 'rsplit',\n",
       " 'rstrip',\n",
       " 'split',\n",
       " 'splitlines',\n",
       " 'startswith',\n",
       " 'strip',\n",
       " 'swapcase',\n",
       " 'title',\n",
       " 'translate',\n",
       " 'upper',\n",
       " 'zfill']"
      ]
     },
     "execution_count": 6,
     "metadata": {},
     "output_type": "execute_result"
    }
   ],
   "source": [
    "name = \"Tommy\"\n",
    "dir(name)"
   ]
  },
  {
   "cell_type": "code",
   "execution_count": 7,
   "id": "4c0aeeb9-4401-417e-8ffe-5fffd5f67bed",
   "metadata": {},
   "outputs": [],
   "source": [
    "# uppercase"
   ]
  },
  {
   "cell_type": "code",
   "execution_count": 8,
   "id": "47cec660-8b8b-4f43-8bde-09e7c8663c14",
   "metadata": {},
   "outputs": [
    {
     "data": {
      "text/plain": [
       "'TOMMY'"
      ]
     },
     "execution_count": 8,
     "metadata": {},
     "output_type": "execute_result"
    }
   ],
   "source": [
    "name = \"Tommy\"\n",
    "name.upper()"
   ]
  },
  {
   "cell_type": "code",
   "execution_count": null,
   "id": "995bcf50-3d39-4b32-a5ad-cd8b76ada3da",
   "metadata": {},
   "outputs": [],
   "source": []
  }
 ],
 "metadata": {
  "kernelspec": {
   "display_name": "Python 3 (ipykernel)",
   "language": "python",
   "name": "python3"
  },
  "language_info": {
   "codemirror_mode": {
    "name": "ipython",
    "version": 3
   },
   "file_extension": ".py",
   "mimetype": "text/x-python",
   "name": "python",
   "nbconvert_exporter": "python",
   "pygments_lexer": "ipython3",
   "version": "3.12.0"
  }
 },
 "nbformat": 4,
 "nbformat_minor": 5
}
