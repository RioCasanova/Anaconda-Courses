{
 "cells": [
  {
   "cell_type": "code",
   "execution_count": 4,
   "id": "ab27fcff-9816-45ff-bb30-8d1b460ae692",
   "metadata": {},
   "outputs": [],
   "source": [
    "# Errors & Exception Handling\n",
    "# Errors are a type just like strings are a type"
   ]
  },
  {
   "cell_type": "code",
   "execution_count": 5,
   "id": "da2589b1-5a7e-4555-a02a-aab22a53e69b",
   "metadata": {},
   "outputs": [
    {
     "name": "stdout",
     "output_type": "stream",
     "text": [
      "ValueError\n"
     ]
    }
   ],
   "source": [
    "try:\n",
    "    float(\"$5,999.98\")\n",
    "except ValueError:\n",
    "    print(\"ValueError\")"
   ]
  },
  {
   "cell_type": "code",
   "execution_count": 2,
   "id": "b463d028-9ad4-493d-ba45-721cfb4bcadc",
   "metadata": {},
   "outputs": [],
   "source": [
    "price = \"$5,999.98\"\n",
    "\n",
    "def discount(price, by=0.20):\n",
    "    try:\n",
    "        price = price.replace(\"$\",\"\").replace(\",\",\"\")\n",
    "        price = float(price)\n",
    "    except ValueError:\n",
    "        return None\n",
    "    return price * (1-by)"
   ]
  },
  {
   "cell_type": "code",
   "execution_count": 3,
   "id": "0393a671-da19-4483-8889-94a18b828611",
   "metadata": {},
   "outputs": [
    {
     "data": {
      "text/plain": [
       "8500.832999999999"
      ]
     },
     "execution_count": 3,
     "metadata": {},
     "output_type": "execute_result"
    }
   ],
   "source": [
    "discount(\"$10,000.98\", by=0.15)"
   ]
  },
  {
   "cell_type": "code",
   "execution_count": 4,
   "id": "1d05f7a1-990d-4106-812b-84054939777d",
   "metadata": {},
   "outputs": [],
   "source": [
    "# raising errors"
   ]
  },
  {
   "cell_type": "code",
   "execution_count": 6,
   "id": "b1d34877-6e03-4a5a-8cd3-e1f057183e1e",
   "metadata": {},
   "outputs": [
    {
     "ename": "ValueError",
     "evalue": "can't discount by more than 100 percent",
     "output_type": "error",
     "traceback": [
      "\u001b[1;31m---------------------------------------------------------------------------\u001b[0m",
      "\u001b[1;31mValueError\u001b[0m                                Traceback (most recent call last)",
      "Cell \u001b[1;32mIn[6], line 6\u001b[0m\n\u001b[0;32m      3\u001b[0m         \u001b[38;5;28;01mraise\u001b[39;00m \u001b[38;5;167;01mValueError\u001b[39;00m(\u001b[38;5;124m\"\u001b[39m\u001b[38;5;124mcan\u001b[39m\u001b[38;5;124m'\u001b[39m\u001b[38;5;124mt discount by more than 100 percent\u001b[39m\u001b[38;5;124m\"\u001b[39m)\n\u001b[0;32m      4\u001b[0m     \u001b[38;5;28;01mreturn\u001b[39;00m price \u001b[38;5;241m*\u001b[39m (\u001b[38;5;241m1\u001b[39m\u001b[38;5;241m-\u001b[39mby)\n\u001b[1;32m----> 6\u001b[0m \u001b[43mdiscount\u001b[49m\u001b[43m(\u001b[49m\u001b[38;5;241;43m50\u001b[39;49m\u001b[43m,\u001b[49m\u001b[43m \u001b[49m\u001b[38;5;241;43m1.5\u001b[39;49m\u001b[43m)\u001b[49m\n",
      "Cell \u001b[1;32mIn[6], line 3\u001b[0m, in \u001b[0;36mdiscount\u001b[1;34m(price, by)\u001b[0m\n\u001b[0;32m      1\u001b[0m \u001b[38;5;28;01mdef\u001b[39;00m \u001b[38;5;21mdiscount\u001b[39m(price, by\u001b[38;5;241m=\u001b[39m\u001b[38;5;241m0.20\u001b[39m):\n\u001b[0;32m      2\u001b[0m     \u001b[38;5;28;01mif\u001b[39;00m by \u001b[38;5;241m>\u001b[39m\u001b[38;5;241m=\u001b[39m \u001b[38;5;241m1\u001b[39m:\n\u001b[1;32m----> 3\u001b[0m         \u001b[38;5;28;01mraise\u001b[39;00m \u001b[38;5;167;01mValueError\u001b[39;00m(\u001b[38;5;124m\"\u001b[39m\u001b[38;5;124mcan\u001b[39m\u001b[38;5;124m'\u001b[39m\u001b[38;5;124mt discount by more than 100 percent\u001b[39m\u001b[38;5;124m\"\u001b[39m)\n\u001b[0;32m      4\u001b[0m     \u001b[38;5;28;01mreturn\u001b[39;00m price \u001b[38;5;241m*\u001b[39m (\u001b[38;5;241m1\u001b[39m\u001b[38;5;241m-\u001b[39mby)\n",
      "\u001b[1;31mValueError\u001b[0m: can't discount by more than 100 percent"
     ]
    }
   ],
   "source": [
    "def discount(price, by=0.20):\n",
    "    if by >= 1:\n",
    "        raise ValueError(\"can't discount by more than 100 percent\")\n",
    "    return price * (1-by)\n",
    "\n",
    "discount(50, 1.5)"
   ]
  },
  {
   "cell_type": "code",
   "execution_count": 10,
   "id": "32bf4e48-3c56-4384-947e-bfa3154d7d24",
   "metadata": {},
   "outputs": [
    {
     "name": "stderr",
     "output_type": "stream",
     "text": [
      "C:\\Users\\rioca\\AppData\\Local\\Temp\\ipykernel_30464\\4027309765.py:5: DeprecationWarning: Use .method2 instead()\n",
      "  warnings.warn(\"Use .method2 instead()\", DeprecationWarning)\n"
     ]
    }
   ],
   "source": [
    "# warnings\n",
    "# this is different from an error because it will not halt the program\n",
    "# whereas an error message will\n",
    "import warnings\n",
    "warnings.warn(\"Use .method2 instead()\", DeprecationWarning)"
   ]
  },
  {
   "cell_type": "code",
   "execution_count": 13,
   "id": "7124a427-32a1-422a-b3f3-e3d760989812",
   "metadata": {},
   "outputs": [],
   "source": [
    "# converting warnings / handling warnings into errors if necessary"
   ]
  },
  {
   "cell_type": "code",
   "execution_count": 14,
   "id": "cd5110f4-7683-4d9d-babb-2a94747db8df",
   "metadata": {},
   "outputs": [
    {
     "name": "stderr",
     "output_type": "stream",
     "text": [
      "C:\\Users\\rioca\\AppData\\Local\\Temp\\ipykernel_30464\\1510356523.py:1: UserWarning: Pandas will give you lots of warnings\n",
      "  warnings.warn(\"Pandas will give you lots of warnings\")\n"
     ]
    }
   ],
   "source": [
    "warnings.warn(\"Pandas will give you lots of warnings\")"
   ]
  },
  {
   "cell_type": "code",
   "execution_count": 15,
   "id": "6001e44e-19f9-420f-911d-b562bf8dd3bb",
   "metadata": {},
   "outputs": [],
   "source": [
    "warnings.simplefilter('error', UserWarning)"
   ]
  },
  {
   "cell_type": "code",
   "execution_count": 16,
   "id": "84ae73ce-6326-43e1-bcbc-28fd2cee261d",
   "metadata": {},
   "outputs": [
    {
     "ename": "UserWarning",
     "evalue": "Pandas will give you lots of warnings",
     "output_type": "error",
     "traceback": [
      "\u001b[1;31m---------------------------------------------------------------------------\u001b[0m",
      "\u001b[1;31mUserWarning\u001b[0m                               Traceback (most recent call last)",
      "Cell \u001b[1;32mIn[16], line 1\u001b[0m\n\u001b[1;32m----> 1\u001b[0m \u001b[43mwarnings\u001b[49m\u001b[38;5;241;43m.\u001b[39;49m\u001b[43mwarn\u001b[49m\u001b[43m(\u001b[49m\u001b[38;5;124;43m\"\u001b[39;49m\u001b[38;5;124;43mPandas will give you lots of warnings\u001b[39;49m\u001b[38;5;124;43m\"\u001b[39;49m\u001b[43m)\u001b[49m\n",
      "\u001b[1;31mUserWarning\u001b[0m: Pandas will give you lots of warnings"
     ]
    }
   ],
   "source": [
    "warnings.warn(\"Pandas will give you lots of warnings\")"
   ]
  },
  {
   "cell_type": "code",
   "execution_count": 17,
   "id": "829d9e11-da73-4589-9a5d-a2fac1d69023",
   "metadata": {},
   "outputs": [],
   "source": [
    "# We can also choose to ignore the warning\n",
    "warnings.simplefilter('ignore', UserWarning)"
   ]
  },
  {
   "cell_type": "code",
   "execution_count": 19,
   "id": "49fb7d54-5597-4524-883b-c8d371f1cd5d",
   "metadata": {},
   "outputs": [],
   "source": [
    "# nothing is happening\n",
    "warnings.warn(\"Pandas will give you lots of warnings\")"
   ]
  },
  {
   "cell_type": "code",
   "execution_count": 22,
   "id": "c9c08335-2751-49f6-a643-c3b6af63fd8a",
   "metadata": {},
   "outputs": [
    {
     "name": "stderr",
     "output_type": "stream",
     "text": [
      "C:\\Users\\rioca\\AppData\\Local\\Temp\\ipykernel_30464\\3972542961.py:2: UserWarning: Pandas will give you lots of warnings\n",
      "  warnings.warn(\"Pandas will give you lots of warnings\")\n"
     ]
    }
   ],
   "source": [
    "warnings.resetwarnings()\n",
    "warnings.warn(\"Pandas will give you lots of warnings\")"
   ]
  },
  {
   "cell_type": "code",
   "execution_count": 23,
   "id": "808ea41e-90fe-43ff-ad07-899129f45de3",
   "metadata": {},
   "outputs": [],
   "source": [
    "# catching errors\n",
    "def random_letter():\n",
    "    warnings.warn(\"will return \\\"M\\\" in the 3.1\", FutureWarning)\n",
    "    return \"L\""
   ]
  },
  {
   "cell_type": "code",
   "execution_count": 25,
   "id": "4270d5ad-2f27-49b1-b2e6-c751c4140bf4",
   "metadata": {},
   "outputs": [
    {
     "ename": "FutureWarning",
     "evalue": "will return \"M\" in the 3.1",
     "output_type": "error",
     "traceback": [
      "\u001b[1;31m---------------------------------------------------------------------------\u001b[0m",
      "\u001b[1;31mFutureWarning\u001b[0m                             Traceback (most recent call last)",
      "Cell \u001b[1;32mIn[25], line 3\u001b[0m\n\u001b[0;32m      1\u001b[0m \u001b[38;5;28;01mwith\u001b[39;00m warnings\u001b[38;5;241m.\u001b[39mcatch_warnings():\n\u001b[0;32m      2\u001b[0m     warnings\u001b[38;5;241m.\u001b[39msimplefilter(\u001b[38;5;124m\"\u001b[39m\u001b[38;5;124merror\u001b[39m\u001b[38;5;124m\"\u001b[39m)\n\u001b[1;32m----> 3\u001b[0m     letter \u001b[38;5;241m=\u001b[39m \u001b[43mrandom_letter\u001b[49m\u001b[43m(\u001b[49m\u001b[43m)\u001b[49m\n\u001b[0;32m      4\u001b[0m     \u001b[38;5;28mprint\u001b[39m(letter)\n",
      "Cell \u001b[1;32mIn[23], line 3\u001b[0m, in \u001b[0;36mrandom_letter\u001b[1;34m()\u001b[0m\n\u001b[0;32m      2\u001b[0m \u001b[38;5;28;01mdef\u001b[39;00m \u001b[38;5;21mrandom_letter\u001b[39m():\n\u001b[1;32m----> 3\u001b[0m     \u001b[43mwarnings\u001b[49m\u001b[38;5;241;43m.\u001b[39;49m\u001b[43mwarn\u001b[49m\u001b[43m(\u001b[49m\u001b[38;5;124;43m\"\u001b[39;49m\u001b[38;5;124;43mwill return \u001b[39;49m\u001b[38;5;130;43;01m\\\"\u001b[39;49;00m\u001b[38;5;124;43mM\u001b[39;49m\u001b[38;5;130;43;01m\\\"\u001b[39;49;00m\u001b[38;5;124;43m in the 3.1\u001b[39;49m\u001b[38;5;124;43m\"\u001b[39;49m\u001b[43m,\u001b[49m\u001b[43m \u001b[49m\u001b[38;5;167;43;01mFutureWarning\u001b[39;49;00m\u001b[43m)\u001b[49m\n\u001b[0;32m      4\u001b[0m     \u001b[38;5;28;01mreturn\u001b[39;00m \u001b[38;5;124m\"\u001b[39m\u001b[38;5;124mL\u001b[39m\u001b[38;5;124m\"\u001b[39m\n",
      "\u001b[1;31mFutureWarning\u001b[0m: will return \"M\" in the 3.1"
     ]
    }
   ],
   "source": [
    "with warnings.catch_warnings():\n",
    "    warnings.simplefilter(\"error\")\n",
    "    letter = random_letter()\n",
    "    print(letter)"
   ]
  },
  {
   "cell_type": "code",
   "execution_count": null,
   "id": "4d6dfc3e-881d-4d5e-8b3c-cc670c2bab03",
   "metadata": {},
   "outputs": [],
   "source": []
  }
 ],
 "metadata": {
  "kernelspec": {
   "display_name": "Python 3 (ipykernel)",
   "language": "python",
   "name": "python3"
  },
  "language_info": {
   "codemirror_mode": {
    "name": "ipython",
    "version": 3
   },
   "file_extension": ".py",
   "mimetype": "text/x-python",
   "name": "python",
   "nbconvert_exporter": "python",
   "pygments_lexer": "ipython3",
   "version": "3.12.0"
  }
 },
 "nbformat": 4,
 "nbformat_minor": 5
}
