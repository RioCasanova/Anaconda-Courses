{
 "cells": [
  {
   "cell_type": "code",
   "execution_count": 2,
   "id": "b3ea31aa-0bb1-4825-93d7-e4f7e836a5c3",
   "metadata": {},
   "outputs": [],
   "source": [
    "# Imports\n",
    "# all about using other peoples code (libraries, frameworks)"
   ]
  },
  {
   "cell_type": "code",
   "execution_count": 3,
   "id": "6e3d3004-d926-4064-a770-b252099f25e6",
   "metadata": {},
   "outputs": [],
   "source": [
    "import math"
   ]
  },
  {
   "cell_type": "code",
   "execution_count": 6,
   "id": "3c0d5e5c-1fef-4347-b489-21dcfb89851f",
   "metadata": {},
   "outputs": [
    {
     "data": {
      "text/plain": [
       "10.0"
      ]
     },
     "execution_count": 6,
     "metadata": {},
     "output_type": "execute_result"
    }
   ],
   "source": [
    "# the period in this instance is being used to access the function\n",
    "# within the math package\n",
    "math.sqrt(100)"
   ]
  },
  {
   "cell_type": "code",
   "execution_count": 5,
   "id": "52a07334-7f00-430e-b81d-2a0dbf970c45",
   "metadata": {},
   "outputs": [],
   "source": [
    "# we add that package as opposed to 100 ** (1/2)"
   ]
  },
  {
   "cell_type": "code",
   "execution_count": 7,
   "id": "2428fcda-8b13-41e8-847c-77c054be4748",
   "metadata": {},
   "outputs": [],
   "source": [
    "# we can also do this \n",
    "from math import sqrt"
   ]
  },
  {
   "cell_type": "code",
   "execution_count": 8,
   "id": "5fd28a03-51cf-43a2-b098-bf4c10d05872",
   "metadata": {},
   "outputs": [
    {
     "data": {
      "text/plain": [
       "10.0"
      ]
     },
     "execution_count": 8,
     "metadata": {},
     "output_type": "execute_result"
    }
   ],
   "source": [
    "# this behaves more like a method than it does a \n",
    "# function now because we aren't having to access anything\n",
    "sqrt(100)"
   ]
  },
  {
   "cell_type": "code",
   "execution_count": 9,
   "id": "c1e97d1d-20de-4931-97ec-8fcb707bfe31",
   "metadata": {},
   "outputs": [
    {
     "data": {
      "text/plain": [
       "10.0"
      ]
     },
     "execution_count": 9,
     "metadata": {},
     "output_type": "execute_result"
    }
   ],
   "source": [
    "# we can also change the name of the function if we want to\n",
    "from math import sqrt as sqt\n",
    "sqt(100)"
   ]
  },
  {
   "cell_type": "code",
   "execution_count": 10,
   "id": "7de300d6-9ebb-439e-afa9-8f8db2687916",
   "metadata": {},
   "outputs": [
    {
     "name": "stdout",
     "output_type": "stream",
     "text": [
      "Help on built-in function sqrt in module math:\n",
      "\n",
      "sqrt(x, /)\n",
      "    Return the square root of x.\n",
      "\n"
     ]
    }
   ],
   "source": [
    "# using HELP\n",
    "help(sqrt)"
   ]
  },
  {
   "cell_type": "code",
   "execution_count": 11,
   "id": "f14e6adb-689b-45ba-9f03-e2dc982b89d2",
   "metadata": {},
   "outputs": [],
   "source": [
    "# using other packages"
   ]
  },
  {
   "cell_type": "code",
   "execution_count": 15,
   "id": "5227722a-56b8-4fd6-bcb3-b9f7d7459910",
   "metadata": {},
   "outputs": [],
   "source": [
    "# this is important when web-scraping a website so you are not spamming the\n",
    "# website with requests\n",
    "import time "
   ]
  },
  {
   "cell_type": "code",
   "execution_count": 16,
   "id": "d18df3cf-529b-40d0-8816-3bb59b6ac1fe",
   "metadata": {},
   "outputs": [
    {
     "name": "stdout",
     "output_type": "stream",
     "text": [
      "3\n",
      "2\n",
      "1\n",
      "4\n"
     ]
    }
   ],
   "source": [
    "print(3)\n",
    "time.sleep(1)\n",
    "print(2)\n",
    "time.sleep(1)\n",
    "print(1)\n",
    "time.sleep(1)\n",
    "print(4)"
   ]
  },
  {
   "cell_type": "code",
   "execution_count": 17,
   "id": "afa7c4c7-0a27-43e4-9081-5f5d81f32e23",
   "metadata": {},
   "outputs": [],
   "source": [
    "# More Tools\n",
    "food = [\"pizza\", \"noodles\"]\n",
    "drink = [\"water\", \"coke\"]\n",
    "dessert = [\"candy\", \"gum\"]"
   ]
  },
  {
   "cell_type": "code",
   "execution_count": 18,
   "id": "ad0508a2-5b40-4fe5-be40-5c7603f63b94",
   "metadata": {},
   "outputs": [],
   "source": [
    "# this allows us to generate a bunch of random possibilities\n",
    "import itertools"
   ]
  },
  {
   "cell_type": "code",
   "execution_count": 20,
   "id": "c0bee2a1-b9f5-46b7-873d-1cb00bdabc5b",
   "metadata": {},
   "outputs": [
    {
     "data": {
      "text/plain": [
       "<itertools.product at 0x1b30f31d240>"
      ]
     },
     "execution_count": 20,
     "metadata": {},
     "output_type": "execute_result"
    }
   ],
   "source": [
    "# anytime we see angle brackets like this we can usually just\n",
    "# hit it with a list and explode its contents\n",
    "itertools.product(food, drink, dessert)"
   ]
  },
  {
   "cell_type": "code",
   "execution_count": 21,
   "id": "a46eb97e-251d-4bea-8368-1033908468b3",
   "metadata": {},
   "outputs": [
    {
     "data": {
      "text/plain": [
       "[('pizza', 'water', 'candy'),\n",
       " ('pizza', 'water', 'gum'),\n",
       " ('pizza', 'coke', 'candy'),\n",
       " ('pizza', 'coke', 'gum'),\n",
       " ('noodles', 'water', 'candy'),\n",
       " ('noodles', 'water', 'gum'),\n",
       " ('noodles', 'coke', 'candy'),\n",
       " ('noodles', 'coke', 'gum')]"
      ]
     },
     "execution_count": 21,
     "metadata": {},
     "output_type": "execute_result"
    }
   ],
   "source": [
    "list(itertools.product(food, drink, dessert))"
   ]
  },
  {
   "cell_type": "code",
   "execution_count": 22,
   "id": "8b06e4dd-93b1-4871-943a-a20b2985ce80",
   "metadata": {},
   "outputs": [],
   "source": [
    "# using the Random Package"
   ]
  },
  {
   "cell_type": "code",
   "execution_count": 26,
   "id": "d764f8ab-11c8-4168-b84f-056f94bd470c",
   "metadata": {},
   "outputs": [
    {
     "data": {
      "text/plain": [
       "['noodles',\n",
       " 'noodles',\n",
       " 'noodles',\n",
       " 'pizza',\n",
       " 'pizza',\n",
       " 'noodles',\n",
       " 'pizza',\n",
       " 'pizza',\n",
       " 'pizza',\n",
       " 'noodles']"
      ]
     },
     "execution_count": 26,
     "metadata": {},
     "output_type": "execute_result"
    }
   ],
   "source": [
    "# will accept some kind of list and returns one item from the list\n",
    "# unless you specify the k option\n",
    "import random\n",
    "random.choices(food, k=10)"
   ]
  },
  {
   "cell_type": "code",
   "execution_count": 28,
   "id": "d4f61e50-ae26-4855-8e8c-b4df33b4da62",
   "metadata": {},
   "outputs": [
    {
     "ename": "ValueError",
     "evalue": "Sample larger than population or is negative",
     "output_type": "error",
     "traceback": [
      "\u001b[1;31m---------------------------------------------------------------------------\u001b[0m",
      "\u001b[1;31mValueError\u001b[0m                                Traceback (most recent call last)",
      "Cell \u001b[1;32mIn[28], line 2\u001b[0m\n\u001b[0;32m      1\u001b[0m \u001b[38;5;66;03m# there is an error here because it does not use duplicates\u001b[39;00m\n\u001b[1;32m----> 2\u001b[0m \u001b[43mrandom\u001b[49m\u001b[38;5;241;43m.\u001b[39;49m\u001b[43msample\u001b[49m\u001b[43m(\u001b[49m\u001b[43mfood\u001b[49m\u001b[43m,\u001b[49m\u001b[43m \u001b[49m\u001b[43mk\u001b[49m\u001b[38;5;241;43m=\u001b[39;49m\u001b[38;5;241;43m10\u001b[39;49m\u001b[43m)\u001b[49m\n",
      "File \u001b[1;32m~\\anaconda3\\envs\\intro_to_python\\Lib\\random.py:430\u001b[0m, in \u001b[0;36mRandom.sample\u001b[1;34m(self, population, k, counts)\u001b[0m\n\u001b[0;32m    428\u001b[0m randbelow \u001b[38;5;241m=\u001b[39m \u001b[38;5;28mself\u001b[39m\u001b[38;5;241m.\u001b[39m_randbelow\n\u001b[0;32m    429\u001b[0m \u001b[38;5;28;01mif\u001b[39;00m \u001b[38;5;129;01mnot\u001b[39;00m \u001b[38;5;241m0\u001b[39m \u001b[38;5;241m<\u001b[39m\u001b[38;5;241m=\u001b[39m k \u001b[38;5;241m<\u001b[39m\u001b[38;5;241m=\u001b[39m n:\n\u001b[1;32m--> 430\u001b[0m     \u001b[38;5;28;01mraise\u001b[39;00m \u001b[38;5;167;01mValueError\u001b[39;00m(\u001b[38;5;124m\"\u001b[39m\u001b[38;5;124mSample larger than population or is negative\u001b[39m\u001b[38;5;124m\"\u001b[39m)\n\u001b[0;32m    431\u001b[0m result \u001b[38;5;241m=\u001b[39m [\u001b[38;5;28;01mNone\u001b[39;00m] \u001b[38;5;241m*\u001b[39m k\n\u001b[0;32m    432\u001b[0m setsize \u001b[38;5;241m=\u001b[39m \u001b[38;5;241m21\u001b[39m        \u001b[38;5;66;03m# size of a small set minus size of an empty list\u001b[39;00m\n",
      "\u001b[1;31mValueError\u001b[0m: Sample larger than population or is negative"
     ]
    }
   ],
   "source": [
    "# there is an error here because it does not use duplicates\n",
    "random.sample(food, k=10)"
   ]
  },
  {
   "cell_type": "code",
   "execution_count": 33,
   "id": "f96aa68f-3ac5-499d-b288-43ef7b47917b",
   "metadata": {},
   "outputs": [],
   "source": [
    "# real example -- \n",
    "# the weights represent probability that kind of simulate\n",
    "# what might happen in the future"
   ]
  },
  {
   "cell_type": "code",
   "execution_count": 32,
   "id": "08e5fdfd-25b4-496d-9f08-a4679aa8f854",
   "metadata": {},
   "outputs": [
    {
     "data": {
      "text/plain": [
       "['cloudy',\n",
       " 'cloudy',\n",
       " 'partly-cloudy',\n",
       " 'cloudy',\n",
       " 'overcast',\n",
       " 'overcast',\n",
       " 'thunderstorm',\n",
       " 'cloudy',\n",
       " 'cloudy',\n",
       " 'thunderstorm']"
      ]
     },
     "execution_count": 32,
     "metadata": {},
     "output_type": "execute_result"
    }
   ],
   "source": [
    "weather = [\"sunny\", \"cloudy\", \"partly-cloudy\", \"thunderstorm\", \"overcast\"]\n",
    "weights = [100, 200, 40, 30, 150]\n",
    "\n",
    "random.choices(weather, weights, k=10)"
   ]
  },
  {
   "cell_type": "code",
   "execution_count": 34,
   "id": "b0c83f94-a51c-482b-94d3-b078ad566707",
   "metadata": {},
   "outputs": [],
   "source": [
    "# counter from the collections module\n",
    "from collections import Counter\n"
   ]
  },
  {
   "cell_type": "code",
   "execution_count": 42,
   "id": "6c2a3fd8-bd6b-4c79-9767-34c0be1aee30",
   "metadata": {},
   "outputs": [],
   "source": [
    "colors = [\"red\", \"red\", \"red\", \"yellow\", \"yellow\", \"blue\",]\n",
    "counter = Counter(colors)"
   ]
  },
  {
   "cell_type": "code",
   "execution_count": 43,
   "id": "ed91451c-8d92-4267-9c48-3b97f71bc9f1",
   "metadata": {},
   "outputs": [
    {
     "data": {
      "text/plain": [
       "Counter({'red': 3, 'yellow': 2, 'blue': 1})"
      ]
     },
     "execution_count": 43,
     "metadata": {},
     "output_type": "execute_result"
    }
   ],
   "source": [
    "counter"
   ]
  },
  {
   "cell_type": "code",
   "execution_count": 44,
   "id": "b9de8e32-78bd-4ffb-87a1-6078e848e637",
   "metadata": {},
   "outputs": [
    {
     "data": {
      "text/plain": [
       "collections.Counter"
      ]
     },
     "execution_count": 44,
     "metadata": {},
     "output_type": "execute_result"
    }
   ],
   "source": [
    "type(counter)"
   ]
  },
  {
   "cell_type": "code",
   "execution_count": 38,
   "id": "3b4a6040-eced-4d02-8f27-571afcb6057e",
   "metadata": {},
   "outputs": [
    {
     "data": {
      "text/plain": [
       "3"
      ]
     },
     "execution_count": 38,
     "metadata": {},
     "output_type": "execute_result"
    }
   ],
   "source": [
    "counter['red']"
   ]
  },
  {
   "cell_type": "code",
   "execution_count": 45,
   "id": "82f4d73c-7674-48b6-969a-37e04df0ebad",
   "metadata": {},
   "outputs": [
    {
     "data": {
      "text/plain": [
       "[('red', 3), ('yellow', 2)]"
      ]
     },
     "execution_count": 45,
     "metadata": {},
     "output_type": "execute_result"
    }
   ],
   "source": [
    "counter.most_common(2)"
   ]
  },
  {
   "cell_type": "code",
   "execution_count": 46,
   "id": "b1c09523-0b8c-414f-a35d-3a33d1019ee1",
   "metadata": {},
   "outputs": [],
   "source": [
    "# Third-Party Libraries"
   ]
  },
  {
   "cell_type": "code",
   "execution_count": 49,
   "id": "8b189b5b-1282-457a-a063-6d0b21509d09",
   "metadata": {},
   "outputs": [],
   "source": [
    "# good for working with JSON\n",
    "from rich import print"
   ]
  },
  {
   "cell_type": "code",
   "execution_count": 48,
   "id": "caf24462-52b6-4d96-bcd6-c36c743d2cea",
   "metadata": {},
   "outputs": [
    {
     "data": {
      "text/html": [
       "<pre style=\"white-space:pre;overflow-x:auto;line-height:normal;font-family:Menlo,'DejaVu Sans Mono',consolas,'Courier New',monospace\"><span style=\"font-weight: bold\">[</span>\n",
       "    <span style=\"font-weight: bold\">(</span><span style=\"color: #008000; text-decoration-color: #008000\">'pizza'</span>, <span style=\"color: #008000; text-decoration-color: #008000\">'water'</span>, <span style=\"color: #008000; text-decoration-color: #008000\">'candy'</span><span style=\"font-weight: bold\">)</span>,\n",
       "    <span style=\"font-weight: bold\">(</span><span style=\"color: #008000; text-decoration-color: #008000\">'pizza'</span>, <span style=\"color: #008000; text-decoration-color: #008000\">'water'</span>, <span style=\"color: #008000; text-decoration-color: #008000\">'gum'</span><span style=\"font-weight: bold\">)</span>,\n",
       "    <span style=\"font-weight: bold\">(</span><span style=\"color: #008000; text-decoration-color: #008000\">'pizza'</span>, <span style=\"color: #008000; text-decoration-color: #008000\">'coke'</span>, <span style=\"color: #008000; text-decoration-color: #008000\">'candy'</span><span style=\"font-weight: bold\">)</span>,\n",
       "    <span style=\"font-weight: bold\">(</span><span style=\"color: #008000; text-decoration-color: #008000\">'pizza'</span>, <span style=\"color: #008000; text-decoration-color: #008000\">'coke'</span>, <span style=\"color: #008000; text-decoration-color: #008000\">'gum'</span><span style=\"font-weight: bold\">)</span>,\n",
       "    <span style=\"font-weight: bold\">(</span><span style=\"color: #008000; text-decoration-color: #008000\">'noodles'</span>, <span style=\"color: #008000; text-decoration-color: #008000\">'water'</span>, <span style=\"color: #008000; text-decoration-color: #008000\">'candy'</span><span style=\"font-weight: bold\">)</span>,\n",
       "    <span style=\"font-weight: bold\">(</span><span style=\"color: #008000; text-decoration-color: #008000\">'noodles'</span>, <span style=\"color: #008000; text-decoration-color: #008000\">'water'</span>, <span style=\"color: #008000; text-decoration-color: #008000\">'gum'</span><span style=\"font-weight: bold\">)</span>,\n",
       "    <span style=\"font-weight: bold\">(</span><span style=\"color: #008000; text-decoration-color: #008000\">'noodles'</span>, <span style=\"color: #008000; text-decoration-color: #008000\">'coke'</span>, <span style=\"color: #008000; text-decoration-color: #008000\">'candy'</span><span style=\"font-weight: bold\">)</span>,\n",
       "    <span style=\"font-weight: bold\">(</span><span style=\"color: #008000; text-decoration-color: #008000\">'noodles'</span>, <span style=\"color: #008000; text-decoration-color: #008000\">'coke'</span>, <span style=\"color: #008000; text-decoration-color: #008000\">'gum'</span><span style=\"font-weight: bold\">)</span>\n",
       "<span style=\"font-weight: bold\">]</span>\n",
       "</pre>\n"
      ],
      "text/plain": [
       "\u001b[1m[\u001b[0m\n",
       "    \u001b[1m(\u001b[0m\u001b[32m'pizza'\u001b[0m, \u001b[32m'water'\u001b[0m, \u001b[32m'candy'\u001b[0m\u001b[1m)\u001b[0m,\n",
       "    \u001b[1m(\u001b[0m\u001b[32m'pizza'\u001b[0m, \u001b[32m'water'\u001b[0m, \u001b[32m'gum'\u001b[0m\u001b[1m)\u001b[0m,\n",
       "    \u001b[1m(\u001b[0m\u001b[32m'pizza'\u001b[0m, \u001b[32m'coke'\u001b[0m, \u001b[32m'candy'\u001b[0m\u001b[1m)\u001b[0m,\n",
       "    \u001b[1m(\u001b[0m\u001b[32m'pizza'\u001b[0m, \u001b[32m'coke'\u001b[0m, \u001b[32m'gum'\u001b[0m\u001b[1m)\u001b[0m,\n",
       "    \u001b[1m(\u001b[0m\u001b[32m'noodles'\u001b[0m, \u001b[32m'water'\u001b[0m, \u001b[32m'candy'\u001b[0m\u001b[1m)\u001b[0m,\n",
       "    \u001b[1m(\u001b[0m\u001b[32m'noodles'\u001b[0m, \u001b[32m'water'\u001b[0m, \u001b[32m'gum'\u001b[0m\u001b[1m)\u001b[0m,\n",
       "    \u001b[1m(\u001b[0m\u001b[32m'noodles'\u001b[0m, \u001b[32m'coke'\u001b[0m, \u001b[32m'candy'\u001b[0m\u001b[1m)\u001b[0m,\n",
       "    \u001b[1m(\u001b[0m\u001b[32m'noodles'\u001b[0m, \u001b[32m'coke'\u001b[0m, \u001b[32m'gum'\u001b[0m\u001b[1m)\u001b[0m\n",
       "\u001b[1m]\u001b[0m\n"
      ]
     },
     "metadata": {},
     "output_type": "display_data"
    }
   ],
   "source": [
    "print(list(itertools.product(food, drink, dessert)))"
   ]
  },
  {
   "cell_type": "code",
   "execution_count": 54,
   "id": "5dd86e91-853b-4a35-bceb-b684900e3e31",
   "metadata": {},
   "outputs": [],
   "source": [
    "# good for webscrapers and ML models\n",
    "# just makes noises\n",
    "import chime\n",
    "chime.success()"
   ]
  },
  {
   "cell_type": "code",
   "execution_count": 51,
   "id": "130fe02b-35ac-498e-acbc-e61be6fd78da",
   "metadata": {},
   "outputs": [],
   "source": [
    "chime.error()"
   ]
  },
  {
   "cell_type": "code",
   "execution_count": 52,
   "id": "d42f3ca1-224e-45fc-9aa9-a6e1687a9be9",
   "metadata": {},
   "outputs": [],
   "source": [
    "chime.warning()"
   ]
  },
  {
   "cell_type": "code",
   "execution_count": 53,
   "id": "72c954ef-5005-4454-9448-ea0dc40b6094",
   "metadata": {},
   "outputs": [],
   "source": [
    "chime.info()"
   ]
  },
  {
   "cell_type": "code",
   "execution_count": 55,
   "id": "be9cb751-561b-47d6-acf4-3fde94d5a814",
   "metadata": {},
   "outputs": [],
   "source": [
    "# good for scheduling scripts\n",
    "import schedule"
   ]
  },
  {
   "cell_type": "code",
   "execution_count": 58,
   "id": "b3939718-654a-4d56-9836-a35bc5556553",
   "metadata": {},
   "outputs": [],
   "source": [
    "def job(): \n",
    "    print(\"Hello World!\")"
   ]
  },
  {
   "cell_type": "code",
   "execution_count": 59,
   "id": "7108ccc8-abc9-4bd7-89bf-307e8d8457cc",
   "metadata": {},
   "outputs": [
    {
     "data": {
      "text/plain": [
       "Every 1 minute do job() (last run: [never], next run: 2023-12-18 22:24:31)"
      ]
     },
     "execution_count": 59,
     "metadata": {},
     "output_type": "execute_result"
    }
   ],
   "source": [
    "schedule.every(1).minutes.do(job)"
   ]
  },
  {
   "cell_type": "code",
   "execution_count": 60,
   "id": "4224bda0-c968-43b4-abfc-cd459ee46254",
   "metadata": {},
   "outputs": [
    {
     "data": {
      "text/html": [
       "<pre style=\"white-space:pre;overflow-x:auto;line-height:normal;font-family:Menlo,'DejaVu Sans Mono',consolas,'Courier New',monospace\">Hello World!\n",
       "</pre>\n"
      ],
      "text/plain": [
       "Hello World!\n"
      ]
     },
     "metadata": {},
     "output_type": "display_data"
    },
    {
     "ename": "KeyboardInterrupt",
     "evalue": "",
     "output_type": "error",
     "traceback": [
      "\u001b[1;31m---------------------------------------------------------------------------\u001b[0m",
      "\u001b[1;31mKeyboardInterrupt\u001b[0m                         Traceback (most recent call last)",
      "Cell \u001b[1;32mIn[60], line 2\u001b[0m\n\u001b[0;32m      1\u001b[0m \u001b[38;5;28;01mwhile\u001b[39;00m \u001b[38;5;28;01mTrue\u001b[39;00m:\n\u001b[1;32m----> 2\u001b[0m     \u001b[43mschedule\u001b[49m\u001b[38;5;241;43m.\u001b[39;49m\u001b[43mrun_pending\u001b[49m\u001b[43m(\u001b[49m\u001b[43m)\u001b[49m\n",
      "File \u001b[1;32m~\\anaconda3\\envs\\intro_to_python\\Lib\\site-packages\\schedule\\__init__.py:822\u001b[0m, in \u001b[0;36mrun_pending\u001b[1;34m()\u001b[0m\n\u001b[0;32m    818\u001b[0m \u001b[38;5;28;01mdef\u001b[39;00m \u001b[38;5;21mrun_pending\u001b[39m() \u001b[38;5;241m-\u001b[39m\u001b[38;5;241m>\u001b[39m \u001b[38;5;28;01mNone\u001b[39;00m:\n\u001b[0;32m    819\u001b[0m \u001b[38;5;250m    \u001b[39m\u001b[38;5;124;03m\"\"\"Calls :meth:`run_pending <Scheduler.run_pending>` on the\u001b[39;00m\n\u001b[0;32m    820\u001b[0m \u001b[38;5;124;03m    :data:`default scheduler instance <default_scheduler>`.\u001b[39;00m\n\u001b[0;32m    821\u001b[0m \u001b[38;5;124;03m    \"\"\"\u001b[39;00m\n\u001b[1;32m--> 822\u001b[0m     \u001b[43mdefault_scheduler\u001b[49m\u001b[38;5;241;43m.\u001b[39;49m\u001b[43mrun_pending\u001b[49m\u001b[43m(\u001b[49m\u001b[43m)\u001b[49m\n",
      "File \u001b[1;32m~\\anaconda3\\envs\\intro_to_python\\Lib\\site-packages\\schedule\\__init__.py:99\u001b[0m, in \u001b[0;36mScheduler.run_pending\u001b[1;34m(self)\u001b[0m\n\u001b[0;32m     89\u001b[0m \u001b[38;5;250m\u001b[39m\u001b[38;5;124;03m\"\"\"\u001b[39;00m\n\u001b[0;32m     90\u001b[0m \u001b[38;5;124;03mRun all jobs that are scheduled to run.\u001b[39;00m\n\u001b[0;32m     91\u001b[0m \n\u001b[1;32m   (...)\u001b[0m\n\u001b[0;32m     96\u001b[0m \u001b[38;5;124;03mbetween but only once.\u001b[39;00m\n\u001b[0;32m     97\u001b[0m \u001b[38;5;124;03m\"\"\"\u001b[39;00m\n\u001b[0;32m     98\u001b[0m runnable_jobs \u001b[38;5;241m=\u001b[39m (job \u001b[38;5;28;01mfor\u001b[39;00m job \u001b[38;5;129;01min\u001b[39;00m \u001b[38;5;28mself\u001b[39m\u001b[38;5;241m.\u001b[39mjobs \u001b[38;5;28;01mif\u001b[39;00m job\u001b[38;5;241m.\u001b[39mshould_run)\n\u001b[1;32m---> 99\u001b[0m \u001b[38;5;28;01mfor\u001b[39;00m job \u001b[38;5;129;01min\u001b[39;00m \u001b[38;5;28;43msorted\u001b[39;49m\u001b[43m(\u001b[49m\u001b[43mrunnable_jobs\u001b[49m\u001b[43m)\u001b[49m:\n\u001b[0;32m    100\u001b[0m     \u001b[38;5;28mself\u001b[39m\u001b[38;5;241m.\u001b[39m_run_job(job)\n",
      "\u001b[1;31mKeyboardInterrupt\u001b[0m: "
     ]
    }
   ],
   "source": [
    "while True:\n",
    "    schedule.run_pending()"
   ]
  },
  {
   "cell_type": "code",
   "execution_count": 63,
   "id": "277acd1b-d383-4d23-96f6-c4a7d1e17b23",
   "metadata": {},
   "outputs": [],
   "source": [
    "# create fake data\n",
    "from faker import Faker\n",
    "fake = Faker()"
   ]
  },
  {
   "cell_type": "code",
   "execution_count": 64,
   "id": "f8eb3dc2-a44c-49e4-aed2-0e36fe0df0c7",
   "metadata": {},
   "outputs": [
    {
     "data": {
      "text/plain": [
       "'Michael Hunt'"
      ]
     },
     "execution_count": 64,
     "metadata": {},
     "output_type": "execute_result"
    }
   ],
   "source": [
    "fake.name()"
   ]
  },
  {
   "cell_type": "code",
   "execution_count": 65,
   "id": "1da69ae1-9033-47a2-be5e-41411e8bd52c",
   "metadata": {},
   "outputs": [
    {
     "data": {
      "text/plain": [
       "'371219986204136'"
      ]
     },
     "execution_count": 65,
     "metadata": {},
     "output_type": "execute_result"
    }
   ],
   "source": [
    "fake.credit_card_number()"
   ]
  },
  {
   "cell_type": "code",
   "execution_count": 68,
   "id": "29524040-bd81-4623-965d-907769253d83",
   "metadata": {},
   "outputs": [],
   "source": [
    "# Pandas import for data analysis\n",
    "import pandas as pd"
   ]
  },
  {
   "cell_type": "code",
   "execution_count": 69,
   "id": "5d958a21-ceb6-4ce0-96b6-e9c8ca645895",
   "metadata": {},
   "outputs": [],
   "source": [
    "df = pd.DataFrame({\n",
    "    \"a\": 1.0,\n",
    "    \"b\": pd.Timestamp(\"20230101\"),\n",
    "    \"c\": pd.Series([1, 2, 3, 4], dtype=\"float32\"),\n",
    "    \"d\": pd.Categorical([\"test\", \"train\", \"test\", \"train\"]),\n",
    "    \"e\": \"foo\",\n",
    "})"
   ]
  },
  {
   "cell_type": "code",
   "execution_count": 71,
   "id": "b1c7385f-970c-4701-b66b-f62dc5fcf122",
   "metadata": {},
   "outputs": [
    {
     "data": {
      "text/html": [
       "<div>\n",
       "<style scoped>\n",
       "    .dataframe tbody tr th:only-of-type {\n",
       "        vertical-align: middle;\n",
       "    }\n",
       "\n",
       "    .dataframe tbody tr th {\n",
       "        vertical-align: top;\n",
       "    }\n",
       "\n",
       "    .dataframe thead th {\n",
       "        text-align: right;\n",
       "    }\n",
       "</style>\n",
       "<table border=\"1\" class=\"dataframe\">\n",
       "  <thead>\n",
       "    <tr style=\"text-align: right;\">\n",
       "      <th></th>\n",
       "      <th>a</th>\n",
       "      <th>b</th>\n",
       "      <th>c</th>\n",
       "      <th>d</th>\n",
       "      <th>e</th>\n",
       "    </tr>\n",
       "  </thead>\n",
       "  <tbody>\n",
       "    <tr>\n",
       "      <th>0</th>\n",
       "      <td>1.0</td>\n",
       "      <td>2023-01-01</td>\n",
       "      <td>1.0</td>\n",
       "      <td>test</td>\n",
       "      <td>foo</td>\n",
       "    </tr>\n",
       "    <tr>\n",
       "      <th>1</th>\n",
       "      <td>1.0</td>\n",
       "      <td>2023-01-01</td>\n",
       "      <td>2.0</td>\n",
       "      <td>train</td>\n",
       "      <td>foo</td>\n",
       "    </tr>\n",
       "    <tr>\n",
       "      <th>2</th>\n",
       "      <td>1.0</td>\n",
       "      <td>2023-01-01</td>\n",
       "      <td>3.0</td>\n",
       "      <td>test</td>\n",
       "      <td>foo</td>\n",
       "    </tr>\n",
       "    <tr>\n",
       "      <th>3</th>\n",
       "      <td>1.0</td>\n",
       "      <td>2023-01-01</td>\n",
       "      <td>4.0</td>\n",
       "      <td>train</td>\n",
       "      <td>foo</td>\n",
       "    </tr>\n",
       "  </tbody>\n",
       "</table>\n",
       "</div>"
      ],
      "text/plain": [
       "     a          b    c      d    e\n",
       "0  1.0 2023-01-01  1.0   test  foo\n",
       "1  1.0 2023-01-01  2.0  train  foo\n",
       "2  1.0 2023-01-01  3.0   test  foo\n",
       "3  1.0 2023-01-01  4.0  train  foo"
      ]
     },
     "execution_count": 71,
     "metadata": {},
     "output_type": "execute_result"
    }
   ],
   "source": [
    "df"
   ]
  },
  {
   "cell_type": "code",
   "execution_count": 72,
   "id": "f508dd7d-260c-4502-a3af-0d652275cd44",
   "metadata": {},
   "outputs": [
    {
     "data": {
      "text/plain": [
       "0    1.0\n",
       "1    2.0\n",
       "2    3.0\n",
       "3    4.0\n",
       "Name: c, dtype: float32"
      ]
     },
     "execution_count": 72,
     "metadata": {},
     "output_type": "execute_result"
    }
   ],
   "source": [
    "df[\"c\"]"
   ]
  },
  {
   "cell_type": "code",
   "execution_count": 73,
   "id": "dba48f88-2c60-4b9d-a143-4640bc24f59a",
   "metadata": {},
   "outputs": [],
   "source": [
    "# Antigraity -- \n",
    "import antigravity"
   ]
  },
  {
   "cell_type": "code",
   "execution_count": null,
   "id": "7dc02919-ee4a-435f-9348-bff36ecdd00b",
   "metadata": {},
   "outputs": [],
   "source": []
  }
 ],
 "metadata": {
  "kernelspec": {
   "display_name": "Python 3 (ipykernel)",
   "language": "python",
   "name": "python3"
  },
  "language_info": {
   "codemirror_mode": {
    "name": "ipython",
    "version": 3
   },
   "file_extension": ".py",
   "mimetype": "text/x-python",
   "name": "python",
   "nbconvert_exporter": "python",
   "pygments_lexer": "ipython3",
   "version": "3.12.0"
  }
 },
 "nbformat": 4,
 "nbformat_minor": 5
}
