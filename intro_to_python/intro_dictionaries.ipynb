{
 "cells": [
  {
   "cell_type": "code",
   "execution_count": 1,
   "id": "1be496fb-f48b-47e1-b67f-a5703319b92e",
   "metadata": {},
   "outputs": [],
   "source": [
    "# More Methods and Dictionaries"
   ]
  },
  {
   "cell_type": "code",
   "execution_count": 4,
   "id": "a4e71968-a650-4396-99a0-64b9e37b28f9",
   "metadata": {},
   "outputs": [
    {
     "data": {
      "text/plain": [
       "['append',\n",
       " 'clear',\n",
       " 'copy',\n",
       " 'count',\n",
       " 'extend',\n",
       " 'index',\n",
       " 'insert',\n",
       " 'pop',\n",
       " 'remove',\n",
       " 'reverse',\n",
       " 'sort']"
      ]
     },
     "execution_count": 4,
     "metadata": {},
     "output_type": "execute_result"
    }
   ],
   "source": [
    "numbers = [1, 2, 5, 6, 3]\n",
    "dir(numbers)[37:]"
   ]
  },
  {
   "cell_type": "code",
   "execution_count": 5,
   "id": "296d2a2a-90c1-4f49-8fe6-a1cd1a60be6f",
   "metadata": {},
   "outputs": [],
   "source": [
    "numbers.sort()"
   ]
  },
  {
   "cell_type": "code",
   "execution_count": 6,
   "id": "452f853e-ffb0-4c08-b309-64abd9f4943c",
   "metadata": {},
   "outputs": [
    {
     "data": {
      "text/plain": [
       "[1, 2, 3, 5, 6]"
      ]
     },
     "execution_count": 6,
     "metadata": {},
     "output_type": "execute_result"
    }
   ],
   "source": [
    "numbers"
   ]
  },
  {
   "cell_type": "code",
   "execution_count": 7,
   "id": "eccf7086-dbbe-4999-b9c6-7ba004a496a9",
   "metadata": {},
   "outputs": [
    {
     "data": {
      "text/plain": [
       "0"
      ]
     },
     "execution_count": 7,
     "metadata": {},
     "output_type": "execute_result"
    }
   ],
   "source": [
    "numbers.count(4)"
   ]
  },
  {
   "cell_type": "code",
   "execution_count": 8,
   "id": "d24ac15c-369b-4064-bca2-fb6b90ac27dd",
   "metadata": {},
   "outputs": [
    {
     "data": {
      "text/plain": [
       "1"
      ]
     },
     "execution_count": 8,
     "metadata": {},
     "output_type": "execute_result"
    }
   ],
   "source": [
    "numbers.count(6)"
   ]
  },
  {
   "cell_type": "code",
   "execution_count": 10,
   "id": "47fb0f0d-c6fc-4be8-99d1-c2e1cdbd1c1c",
   "metadata": {},
   "outputs": [
    {
     "data": {
      "text/plain": [
       "6"
      ]
     },
     "execution_count": 10,
     "metadata": {},
     "output_type": "execute_result"
    }
   ],
   "source": [
    "numbers.pop()"
   ]
  },
  {
   "cell_type": "code",
   "execution_count": 11,
   "id": "acc97848-f2e0-436b-8173-989d3151fe2d",
   "metadata": {},
   "outputs": [
    {
     "data": {
      "text/plain": [
       "[1, 2, 3, 5]"
      ]
     },
     "execution_count": 11,
     "metadata": {},
     "output_type": "execute_result"
    }
   ],
   "source": [
    "numbers"
   ]
  },
  {
   "cell_type": "code",
   "execution_count": 12,
   "id": "46a0e5c2-4a7f-4313-872b-0064ca9a5e18",
   "metadata": {},
   "outputs": [],
   "source": [
    "last = numbers.pop()"
   ]
  },
  {
   "cell_type": "code",
   "execution_count": 13,
   "id": "b0ebeb3f-74f4-424f-a9c1-428c757b1b7c",
   "metadata": {},
   "outputs": [
    {
     "data": {
      "text/plain": [
       "5"
      ]
     },
     "execution_count": 13,
     "metadata": {},
     "output_type": "execute_result"
    }
   ],
   "source": [
    "last"
   ]
  },
  {
   "cell_type": "code",
   "execution_count": 14,
   "id": "51fef467-526d-4c6d-9c97-d862e1c3e7ea",
   "metadata": {},
   "outputs": [
    {
     "data": {
      "text/plain": [
       "[1, 2, 3]"
      ]
     },
     "execution_count": 14,
     "metadata": {},
     "output_type": "execute_result"
    }
   ],
   "source": [
    "numbers"
   ]
  },
  {
   "cell_type": "code",
   "execution_count": 16,
   "id": "5c3c323e-4bc7-4df8-8495-61ce628ac8d8",
   "metadata": {},
   "outputs": [],
   "source": [
    "# Dictionaries\n",
    "# kind of reminds me of key-value pairs in PHP"
   ]
  },
  {
   "cell_type": "code",
   "execution_count": 17,
   "id": "71e257b2-f62a-42b6-914f-5320f5c18eea",
   "metadata": {},
   "outputs": [],
   "source": [
    "Keyboard = {\"name\":\"Leogbog\",\n",
    "            \"switch\":\"Akko Cream Black\",\n",
    "            \"switch-type\":\"Linear\"}"
   ]
  },
  {
   "cell_type": "code",
   "execution_count": 19,
   "id": "afda987e-9bde-4e6b-8f0a-28d0062ecff7",
   "metadata": {},
   "outputs": [
    {
     "data": {
      "text/plain": [
       "{'name': 'Leogbog', 'switch': 'Akko Cream Black', 'switch-type': 'Linear'}"
      ]
     },
     "execution_count": 19,
     "metadata": {},
     "output_type": "execute_result"
    }
   ],
   "source": [
    "Keyboard"
   ]
  },
  {
   "cell_type": "code",
   "execution_count": 20,
   "id": "5e603078-b4b3-430d-a3ea-68121a3ea33a",
   "metadata": {},
   "outputs": [
    {
     "data": {
      "text/plain": [
       "'Leogbog'"
      ]
     },
     "execution_count": 20,
     "metadata": {},
     "output_type": "execute_result"
    }
   ],
   "source": [
    "Keyboard[\"name\"]"
   ]
  },
  {
   "cell_type": "code",
   "execution_count": 33,
   "id": "8286d104-b010-4247-9983-2be2cd8f9d93",
   "metadata": {},
   "outputs": [
    {
     "name": "stdout",
     "output_type": "stream",
     "text": [
      "Leogbog has Akko Cream Black switches\n"
     ]
    }
   ],
   "source": [
    "print(f\"{Keyboard[\"name\"]} has {Keyboard[\"switch\"]} switches\") "
   ]
  },
  {
   "cell_type": "code",
   "execution_count": 34,
   "id": "4b34f810-e195-4c03-bda1-474a103d1fa9",
   "metadata": {},
   "outputs": [],
   "source": [
    "# just tried to format the string differently in the editor\n",
    "# by putting the next line of text on another line and ran into some\n",
    "# issues -- would recommend storing the sentence as a variable \n",
    "# before printing it out"
   ]
  },
  {
   "cell_type": "code",
   "execution_count": 35,
   "id": "df32d9a1-3879-448a-bb77-4d8a8f9d4277",
   "metadata": {},
   "outputs": [],
   "source": [
    "# looking at the methods that we can use with dictionaries"
   ]
  },
  {
   "cell_type": "code",
   "execution_count": 41,
   "id": "c5fde7eb-ba02-4836-9eb8-895cfb3df61d",
   "metadata": {},
   "outputs": [
    {
     "data": {
      "text/plain": [
       "['clear',\n",
       " 'copy',\n",
       " 'fromkeys',\n",
       " 'get',\n",
       " 'items',\n",
       " 'keys',\n",
       " 'pop',\n",
       " 'popitem',\n",
       " 'setdefault',\n",
       " 'update',\n",
       " 'values']"
      ]
     },
     "execution_count": 41,
     "metadata": {},
     "output_type": "execute_result"
    }
   ],
   "source": [
    "dir(Keyboard)[35:]"
   ]
  },
  {
   "cell_type": "code",
   "execution_count": 42,
   "id": "2e4c1138-abfd-47a9-8006-dc9564817025",
   "metadata": {},
   "outputs": [
    {
     "data": {
      "text/plain": [
       "dict_keys(['name', 'switch', 'switch-type'])"
      ]
     },
     "execution_count": 42,
     "metadata": {},
     "output_type": "execute_result"
    }
   ],
   "source": [
    "Keyboard.keys()"
   ]
  },
  {
   "cell_type": "code",
   "execution_count": 44,
   "id": "0f819053-67a5-4724-b6ff-1ccc71ae39a7",
   "metadata": {},
   "outputs": [
    {
     "data": {
      "text/plain": [
       "'Leogbog'"
      ]
     },
     "execution_count": 44,
     "metadata": {},
     "output_type": "execute_result"
    }
   ],
   "source": [
    "Keyboard.get(\"name\")"
   ]
  },
  {
   "cell_type": "code",
   "execution_count": 45,
   "id": "8ffc3931-3130-4670-a70b-56ba34d74925",
   "metadata": {},
   "outputs": [
    {
     "data": {
      "text/plain": [
       "dict_values(['Leogbog', 'Akko Cream Black', 'Linear'])"
      ]
     },
     "execution_count": 45,
     "metadata": {},
     "output_type": "execute_result"
    }
   ],
   "source": [
    "Keyboard.values()"
   ]
  },
  {
   "cell_type": "code",
   "execution_count": 50,
   "id": "10d461ad-2651-427a-bd47-63584b393271",
   "metadata": {},
   "outputs": [
    {
     "data": {
      "text/plain": [
       "'No match'"
      ]
     },
     "execution_count": 50,
     "metadata": {},
     "output_type": "execute_result"
    }
   ],
   "source": [
    "Keyboard.get(\"turtle\", \"No match\")"
   ]
  },
  {
   "cell_type": "code",
   "execution_count": 51,
   "id": "0a568cb1-ab63-44eb-9945-bf5b39219831",
   "metadata": {},
   "outputs": [],
   "source": [
    "# Sets & Tuples\n",
    "# a set only keeps unique elements"
   ]
  },
  {
   "cell_type": "code",
   "execution_count": 59,
   "id": "309c88cd-7632-47b2-9115-6aab3d4d5815",
   "metadata": {},
   "outputs": [],
   "source": [
    "colors = [\"red\", \"blue\", \"green\", \"orange\", \"purple\", \"blue\"]\n",
    "colors2 = [\"red\", \"blue\", \"green\", \"orange\", \"purple\", \"black\"]"
   ]
  },
  {
   "cell_type": "code",
   "execution_count": 60,
   "id": "1b6deb37-8d66-4e41-9078-3c9271d35a71",
   "metadata": {},
   "outputs": [
    {
     "data": {
      "text/plain": [
       "{'blue', 'green', 'orange', 'purple', 'red'}"
      ]
     },
     "execution_count": 60,
     "metadata": {},
     "output_type": "execute_result"
    }
   ],
   "source": [
    "set(colors)"
   ]
  },
  {
   "cell_type": "code",
   "execution_count": 61,
   "id": "24124d6d-2e48-4981-ae58-e7d8baa6b9f9",
   "metadata": {},
   "outputs": [
    {
     "data": {
      "text/plain": [
       "{'black'}"
      ]
     },
     "execution_count": 61,
     "metadata": {},
     "output_type": "execute_result"
    }
   ],
   "source": [
    "set(colors2) - set(colors)"
   ]
  },
  {
   "cell_type": "code",
   "execution_count": 64,
   "id": "89213a92-1435-410a-91bb-f77f657ed422",
   "metadata": {},
   "outputs": [],
   "source": [
    "# Tuples\n",
    "# once we have the elements inside the element they are immutable"
   ]
  },
  {
   "cell_type": "code",
   "execution_count": 63,
   "id": "e66aecee-298a-4baf-974e-7befce9a5dd5",
   "metadata": {},
   "outputs": [],
   "source": [
    "my_tuple = (1, 3, 2, 6, 7, 8, 4, 7, 9)"
   ]
  },
  {
   "cell_type": "code",
   "execution_count": 66,
   "id": "7d8a60df-4548-4f3c-9cf6-617b582fd5a1",
   "metadata": {},
   "outputs": [
    {
     "data": {
      "text/plain": [
       "['count', 'index']"
      ]
     },
     "execution_count": 66,
     "metadata": {},
     "output_type": "execute_result"
    }
   ],
   "source": [
    "dir(my_tuple)[33:]"
   ]
  },
  {
   "cell_type": "code",
   "execution_count": 67,
   "id": "6d3ea27a-6fd2-48f3-a01f-78c0ba55d405",
   "metadata": {},
   "outputs": [],
   "source": [
    "# unpacking Tuples"
   ]
  },
  {
   "cell_type": "code",
   "execution_count": 70,
   "id": "20a6209b-8685-4060-918c-3ff32fc101f6",
   "metadata": {},
   "outputs": [],
   "source": [
    "color = (255, 66, 20)\n",
    "red, green, blue = color"
   ]
  },
  {
   "cell_type": "code",
   "execution_count": 69,
   "id": "456e2ab5-8238-4f36-a2b4-bfe14c9585c5",
   "metadata": {},
   "outputs": [
    {
     "data": {
      "text/plain": [
       "255"
      ]
     },
     "execution_count": 69,
     "metadata": {},
     "output_type": "execute_result"
    }
   ],
   "source": [
    "red"
   ]
  },
  {
   "cell_type": "code",
   "execution_count": 71,
   "id": "f43bb5e3-185d-460d-bdf0-5f7fba078809",
   "metadata": {},
   "outputs": [
    {
     "data": {
      "text/plain": [
       "66"
      ]
     },
     "execution_count": 71,
     "metadata": {},
     "output_type": "execute_result"
    }
   ],
   "source": [
    "green"
   ]
  },
  {
   "cell_type": "code",
   "execution_count": 72,
   "id": "788d2d59-5f0d-4379-a94c-f181a93718ad",
   "metadata": {},
   "outputs": [
    {
     "data": {
      "text/plain": [
       "20"
      ]
     },
     "execution_count": 72,
     "metadata": {},
     "output_type": "execute_result"
    }
   ],
   "source": [
    "blue"
   ]
  },
  {
   "cell_type": "code",
   "execution_count": null,
   "id": "3d4fc352-0d3c-4276-b391-b9cb4b2943e9",
   "metadata": {},
   "outputs": [],
   "source": []
  }
 ],
 "metadata": {
  "kernelspec": {
   "display_name": "Python 3 (ipykernel)",
   "language": "python",
   "name": "python3"
  },
  "language_info": {
   "codemirror_mode": {
    "name": "ipython",
    "version": 3
   },
   "file_extension": ".py",
   "mimetype": "text/x-python",
   "name": "python",
   "nbconvert_exporter": "python",
   "pygments_lexer": "ipython3",
   "version": "3.12.0"
  }
 },
 "nbformat": 4,
 "nbformat_minor": 5
}
