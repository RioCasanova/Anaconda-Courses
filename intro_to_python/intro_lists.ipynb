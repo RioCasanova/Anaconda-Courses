{
 "cells": [
  {
   "cell_type": "code",
   "execution_count": 1,
   "id": "59b3b791-b04a-41e1-8f89-35b45613ca73",
   "metadata": {},
   "outputs": [],
   "source": [
    "# Collections & Lists"
   ]
  },
  {
   "cell_type": "code",
   "execution_count": 2,
   "id": "ba1a92ea-4324-42ae-bcb6-7dfdedfe963f",
   "metadata": {},
   "outputs": [],
   "source": [
    "snake_1 = \"anaconda\"\n",
    "snake_2 = \"python\"\n",
    "snake_3 = \"cobra\""
   ]
  },
  {
   "cell_type": "code",
   "execution_count": 3,
   "id": "17ef49fa-8eb5-4e1f-9628-99db048c65a7",
   "metadata": {},
   "outputs": [],
   "source": [
    "snakes = [snake_1, snake_2, snake_3] "
   ]
  },
  {
   "cell_type": "code",
   "execution_count": 4,
   "id": "9686e0b2-a251-4ae8-9470-18cce05f076b",
   "metadata": {},
   "outputs": [
    {
     "data": {
      "text/plain": [
       "list"
      ]
     },
     "execution_count": 4,
     "metadata": {},
     "output_type": "execute_result"
    }
   ],
   "source": [
    "type(snakes)"
   ]
  },
  {
   "cell_type": "code",
   "execution_count": 5,
   "id": "5a268626-15f6-4ae2-8eb6-15ef0ab47ec2",
   "metadata": {},
   "outputs": [
    {
     "data": {
      "text/plain": [
       "['anaconda', 'python', 'cobra']"
      ]
     },
     "execution_count": 5,
     "metadata": {},
     "output_type": "execute_result"
    }
   ],
   "source": [
    "snakes"
   ]
  },
  {
   "cell_type": "code",
   "execution_count": 6,
   "id": "d2afd4d6-1c9e-4887-b330-d043131c97da",
   "metadata": {},
   "outputs": [
    {
     "data": {
      "text/plain": [
       "list"
      ]
     },
     "execution_count": 6,
     "metadata": {},
     "output_type": "execute_result"
    }
   ],
   "source": [
    "numbers = [1, 2, 3, 4]\n",
    "type(numbers)"
   ]
  },
  {
   "cell_type": "code",
   "execution_count": 7,
   "id": "c90315c2-381f-4228-ba16-7e79e1e566e7",
   "metadata": {},
   "outputs": [
    {
     "data": {
      "text/plain": [
       "[1, 2, 3, 4]"
      ]
     },
     "execution_count": 7,
     "metadata": {},
     "output_type": "execute_result"
    }
   ],
   "source": [
    "numbers"
   ]
  },
  {
   "cell_type": "code",
   "execution_count": 8,
   "id": "4d666b18-dfca-4643-8d04-4ddd63f0a97b",
   "metadata": {},
   "outputs": [],
   "source": [
    "# indexing - is 0 indexed"
   ]
  },
  {
   "cell_type": "code",
   "execution_count": 9,
   "id": "7959a439-a73b-495b-bea8-8a20d52b161a",
   "metadata": {},
   "outputs": [
    {
     "data": {
      "text/plain": [
       "'anaconda'"
      ]
     },
     "execution_count": 9,
     "metadata": {},
     "output_type": "execute_result"
    }
   ],
   "source": [
    "snakes[0]"
   ]
  },
  {
   "cell_type": "code",
   "execution_count": 10,
   "id": "8027fec4-ca01-415c-a7cb-22f86e677c7e",
   "metadata": {},
   "outputs": [
    {
     "data": {
      "text/plain": [
       "3"
      ]
     },
     "execution_count": 10,
     "metadata": {},
     "output_type": "execute_result"
    }
   ],
   "source": [
    "numbers[2]"
   ]
  },
  {
   "cell_type": "code",
   "execution_count": 12,
   "id": "8b9f7d88-b474-462f-87ad-a8fbb107787e",
   "metadata": {},
   "outputs": [
    {
     "data": {
      "text/plain": [
       "['anaconda', 'python', 'cobra', 'garder']"
      ]
     },
     "execution_count": 12,
     "metadata": {},
     "output_type": "execute_result"
    }
   ],
   "source": [
    "snakes + [\"garder\"]"
   ]
  },
  {
   "cell_type": "code",
   "execution_count": 13,
   "id": "24b5a199-4101-4994-8ac8-60939875f53b",
   "metadata": {},
   "outputs": [
    {
     "data": {
      "text/plain": [
       "['anaconda', 'python', 'cobra']"
      ]
     },
     "execution_count": 13,
     "metadata": {},
     "output_type": "execute_result"
    }
   ],
   "source": [
    "snakes"
   ]
  },
  {
   "cell_type": "code",
   "execution_count": 14,
   "id": "d1feae4f-4d76-4078-9c8e-bceea9331d13",
   "metadata": {},
   "outputs": [],
   "source": [
    "snakes = snakes + [\"garder\"]"
   ]
  },
  {
   "cell_type": "code",
   "execution_count": 15,
   "id": "0216e6b6-ac26-495e-ad05-4203bd9b9252",
   "metadata": {},
   "outputs": [
    {
     "data": {
      "text/plain": [
       "['anaconda', 'python', 'cobra', 'garder']"
      ]
     },
     "execution_count": 15,
     "metadata": {},
     "output_type": "execute_result"
    }
   ],
   "source": [
    "snakes"
   ]
  },
  {
   "cell_type": "code",
   "execution_count": 16,
   "id": "2f045bd3-4abb-41e5-9ab5-d71564277546",
   "metadata": {},
   "outputs": [],
   "source": [
    "# slicing"
   ]
  },
  {
   "cell_type": "code",
   "execution_count": 17,
   "id": "5ec60c9d-4438-40e8-bf79-7f13a3154092",
   "metadata": {},
   "outputs": [
    {
     "data": {
      "text/plain": [
       "['anaconda', 'python']"
      ]
     },
     "execution_count": 17,
     "metadata": {},
     "output_type": "execute_result"
    }
   ],
   "source": [
    "snakes[0:2]"
   ]
  },
  {
   "cell_type": "code",
   "execution_count": 18,
   "id": "7ca087c0-426b-4a9e-9479-9a24288703b9",
   "metadata": {},
   "outputs": [
    {
     "data": {
      "text/plain": [
       "['python', 'cobra']"
      ]
     },
     "execution_count": 18,
     "metadata": {},
     "output_type": "execute_result"
    }
   ],
   "source": [
    "snakes[1:-1]"
   ]
  },
  {
   "cell_type": "code",
   "execution_count": 19,
   "id": "7253b96c-09f7-4754-83e8-bdbc0a609e76",
   "metadata": {},
   "outputs": [
    {
     "data": {
      "text/plain": [
       "['anaconda', 'python', 'cobra', 'garder']"
      ]
     },
     "execution_count": 19,
     "metadata": {},
     "output_type": "execute_result"
    }
   ],
   "source": [
    "snakes"
   ]
  },
  {
   "cell_type": "code",
   "execution_count": 20,
   "id": "3d3b6886-e21b-41a7-90a3-5b097a11476e",
   "metadata": {},
   "outputs": [],
   "source": [
    "# referencing"
   ]
  },
  {
   "cell_type": "code",
   "execution_count": 21,
   "id": "6630c55e-183e-45af-aa68-7a474b20ac22",
   "metadata": {},
   "outputs": [],
   "source": [
    "snakes[1] = \"balloon\""
   ]
  },
  {
   "cell_type": "code",
   "execution_count": 22,
   "id": "358a0df0-2104-4236-b4c4-8157c720e49b",
   "metadata": {},
   "outputs": [
    {
     "data": {
      "text/plain": [
       "['anaconda', 'balloon', 'cobra', 'garder']"
      ]
     },
     "execution_count": 22,
     "metadata": {},
     "output_type": "execute_result"
    }
   ],
   "source": [
    "snakes"
   ]
  },
  {
   "cell_type": "code",
   "execution_count": 23,
   "id": "dbce43e1-7f3a-4bf7-9851-d7d1f0274cbb",
   "metadata": {},
   "outputs": [],
   "source": [
    "new_snakes = snakes"
   ]
  },
  {
   "cell_type": "code",
   "execution_count": 24,
   "id": "56748944-982a-4c6e-ac61-be620e17e2b5",
   "metadata": {},
   "outputs": [
    {
     "data": {
      "text/plain": [
       "['anaconda', 'balloon', 'cobra', 'garder']"
      ]
     },
     "execution_count": 24,
     "metadata": {},
     "output_type": "execute_result"
    }
   ],
   "source": [
    "new_snakes"
   ]
  },
  {
   "cell_type": "code",
   "execution_count": 25,
   "id": "bdd8399d-fa58-4237-abac-2d1affaeb856",
   "metadata": {},
   "outputs": [],
   "source": [
    "snakes = snakes + [\"burmese\"]"
   ]
  },
  {
   "cell_type": "code",
   "execution_count": 26,
   "id": "b4c58e8c-9fad-4956-bb23-b74b194521fd",
   "metadata": {},
   "outputs": [
    {
     "data": {
      "text/plain": [
       "['anaconda', 'balloon', 'cobra', 'garder']"
      ]
     },
     "execution_count": 26,
     "metadata": {},
     "output_type": "execute_result"
    }
   ],
   "source": [
    "new_snakes"
   ]
  },
  {
   "cell_type": "code",
   "execution_count": 27,
   "id": "57dec5e2-da28-495a-b3fb-7d134e77d9fb",
   "metadata": {},
   "outputs": [
    {
     "data": {
      "text/plain": [
       "['anaconda', 'balloon', 'cobra', 'garder', 'burmese']"
      ]
     },
     "execution_count": 27,
     "metadata": {},
     "output_type": "execute_result"
    }
   ],
   "source": [
    "snakes"
   ]
  },
  {
   "cell_type": "code",
   "execution_count": 28,
   "id": "758cd404-023c-47f9-bce2-b6b6cd5d0683",
   "metadata": {},
   "outputs": [],
   "source": [
    "snakes[0] = \"elephant\""
   ]
  },
  {
   "cell_type": "code",
   "execution_count": 29,
   "id": "5c1239ba-a8e0-4081-a930-4eb6e53b9a9c",
   "metadata": {},
   "outputs": [
    {
     "data": {
      "text/plain": [
       "['elephant', 'balloon', 'cobra', 'garder', 'burmese']"
      ]
     },
     "execution_count": 29,
     "metadata": {},
     "output_type": "execute_result"
    }
   ],
   "source": [
    "snakes"
   ]
  },
  {
   "cell_type": "code",
   "execution_count": 30,
   "id": "97b64ffd-87ce-4e80-b48f-19baba272d66",
   "metadata": {},
   "outputs": [
    {
     "data": {
      "text/plain": [
       "['anaconda', 'balloon', 'cobra', 'garder']"
      ]
     },
     "execution_count": 30,
     "metadata": {},
     "output_type": "execute_result"
    }
   ],
   "source": [
    "new_snakes"
   ]
  },
  {
   "cell_type": "code",
   "execution_count": 32,
   "id": "02db72c8-7d21-4dbe-bc82-c258f8220286",
   "metadata": {},
   "outputs": [],
   "source": [
    "# actually isn't working the way it is supposed to ^^"
   ]
  },
  {
   "cell_type": "code",
   "execution_count": 38,
   "id": "af07ff0d-c722-4445-937a-2008adf0469e",
   "metadata": {},
   "outputs": [],
   "source": [
    "# here is another way to add something to a list without \n",
    "# doing all that weird stuff -- we cannot use more than one argument\n",
    "snakes.append(\"dermatology\")"
   ]
  },
  {
   "cell_type": "code",
   "execution_count": 34,
   "id": "5107d31f-34a9-4010-be42-7ae79e42c227",
   "metadata": {},
   "outputs": [
    {
     "data": {
      "text/plain": [
       "['elephant', 'balloon', 'cobra', 'garder', 'burmese', 'dermatology']"
      ]
     },
     "execution_count": 34,
     "metadata": {},
     "output_type": "execute_result"
    }
   ],
   "source": [
    "snakes"
   ]
  },
  {
   "cell_type": "code",
   "execution_count": 35,
   "id": "ce6e8e08-02f9-433e-8b21-34586428e732",
   "metadata": {},
   "outputs": [],
   "source": [
    "snakes.append(632)"
   ]
  },
  {
   "cell_type": "code",
   "execution_count": 36,
   "id": "8de717ab-e339-4897-8e7e-2ead412c1758",
   "metadata": {},
   "outputs": [
    {
     "data": {
      "text/plain": [
       "['elephant', 'balloon', 'cobra', 'garder', 'burmese', 'dermatology', 632]"
      ]
     },
     "execution_count": 36,
     "metadata": {},
     "output_type": "execute_result"
    }
   ],
   "source": [
    "snakes"
   ]
  },
  {
   "cell_type": "code",
   "execution_count": 37,
   "id": "45bc25e1-15f7-4704-b772-be7b0fa2ef50",
   "metadata": {},
   "outputs": [],
   "source": [
    "# we can add a bunch of different types within a single list"
   ]
  },
  {
   "cell_type": "code",
   "execution_count": 39,
   "id": "b2450e50-bc6a-42a4-8f70-2a6eb1d4c394",
   "metadata": {},
   "outputs": [],
   "source": [
    "del snakes[-1]"
   ]
  },
  {
   "cell_type": "code",
   "execution_count": 40,
   "id": "d0745c99-cbca-4920-81fb-9c76845e1d3f",
   "metadata": {},
   "outputs": [
    {
     "data": {
      "text/plain": [
       "['elephant', 'balloon', 'cobra', 'garder', 'burmese', 'dermatology', 632]"
      ]
     },
     "execution_count": 40,
     "metadata": {},
     "output_type": "execute_result"
    }
   ],
   "source": [
    "snakes"
   ]
  },
  {
   "cell_type": "code",
   "execution_count": 41,
   "id": "56c85a92-a7bc-46ea-8297-e01307a4a828",
   "metadata": {},
   "outputs": [],
   "source": [
    "snakes.remove(632)"
   ]
  },
  {
   "cell_type": "code",
   "execution_count": 42,
   "id": "205d3336-6045-476d-b301-d919b0c2ed19",
   "metadata": {},
   "outputs": [
    {
     "data": {
      "text/plain": [
       "['elephant', 'balloon', 'cobra', 'garder', 'burmese', 'dermatology']"
      ]
     },
     "execution_count": 42,
     "metadata": {},
     "output_type": "execute_result"
    }
   ],
   "source": [
    "snakes"
   ]
  },
  {
   "cell_type": "code",
   "execution_count": 43,
   "id": "78153b9d-4129-440d-946b-3422b04679fc",
   "metadata": {},
   "outputs": [],
   "source": [
    "# we can add more than one list item at a time with extends\n",
    "snakes.extend([\"item 1\", \"item 2\"])"
   ]
  },
  {
   "cell_type": "code",
   "execution_count": 44,
   "id": "d72affb8-ddde-4046-a556-cd3ea53c0e40",
   "metadata": {},
   "outputs": [
    {
     "data": {
      "text/plain": [
       "['elephant',\n",
       " 'balloon',\n",
       " 'cobra',\n",
       " 'garder',\n",
       " 'burmese',\n",
       " 'dermatology',\n",
       " 'item 1',\n",
       " 'item 2']"
      ]
     },
     "execution_count": 44,
     "metadata": {},
     "output_type": "execute_result"
    }
   ],
   "source": [
    "snakes"
   ]
  },
  {
   "cell_type": "code",
   "execution_count": null,
   "id": "51eaa858-bc45-42db-8fda-d13bc31914d2",
   "metadata": {},
   "outputs": [],
   "source": []
  }
 ],
 "metadata": {
  "kernelspec": {
   "display_name": "Python 3 (ipykernel)",
   "language": "python",
   "name": "python3"
  },
  "language_info": {
   "codemirror_mode": {
    "name": "ipython",
    "version": 3
   },
   "file_extension": ".py",
   "mimetype": "text/x-python",
   "name": "python",
   "nbconvert_exporter": "python",
   "pygments_lexer": "ipython3",
   "version": "3.12.0"
  }
 },
 "nbformat": 4,
 "nbformat_minor": 5
}
