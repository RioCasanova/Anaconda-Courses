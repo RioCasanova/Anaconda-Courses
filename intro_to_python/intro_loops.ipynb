{
 "cells": [
  {
   "cell_type": "code",
   "execution_count": 2,
   "id": "5643f20a-0abf-404d-b9bb-0f505ea3d58c",
   "metadata": {},
   "outputs": [],
   "source": [
    "# Loops & iterables"
   ]
  },
  {
   "cell_type": "code",
   "execution_count": 6,
   "id": "46390b49-310c-4b65-8ca5-df4c4074e0c0",
   "metadata": {},
   "outputs": [
    {
     "data": {
      "text/plain": [
       "['my_song_1.flac', 'my_song_2.flac', 'my_song_3.flac', 'my_song_4.flac']"
      ]
     },
     "execution_count": 6,
     "metadata": {},
     "output_type": "execute_result"
    }
   ],
   "source": [
    "# this is using the map function\n",
    "def mp3_to_flac(x):\n",
    "    return f\"my_song_{x.split('.')[0]}.flac\"\n",
    "\n",
    "songs = [\"1.mp3\", \"2.mp3\", \"3.mp3\", \"4.mp3\"]\n",
    "flac_songs = map(mp3_to_flac, songs)\n",
    "list(flac_songs)"
   ]
  },
  {
   "cell_type": "code",
   "execution_count": 7,
   "id": "8824394a-5fec-4c41-b335-46f418ee811a",
   "metadata": {},
   "outputs": [
    {
     "name": "stdout",
     "output_type": "stream",
     "text": [
      "my_song_1.flac\n",
      "my_song_2.flac\n",
      "my_song_3.flac\n",
      "my_song_4.flac\n"
     ]
    }
   ],
   "source": [
    "# using a foreach loop\n",
    "for song in songs:\n",
    "    flac_song = mp3_to_flac(song)\n",
    "    print(flac_song)"
   ]
  },
  {
   "cell_type": "code",
   "execution_count": 8,
   "id": "6d417434-551f-46ec-aad5-a2aaca11e729",
   "metadata": {},
   "outputs": [
    {
     "name": "stdout",
     "output_type": "stream",
     "text": [
      "1\n",
      "2\n",
      "3\n",
      "4\n"
     ]
    }
   ],
   "source": [
    "# using iterables\n",
    "for number in [1, 2, 3, 4]:\n",
    "    print(number)"
   ]
  },
  {
   "cell_type": "code",
   "execution_count": 9,
   "id": "09435acf-f5ee-4c02-9e75-0f0fa4f9d1fe",
   "metadata": {},
   "outputs": [
    {
     "name": "stdout",
     "output_type": "stream",
     "text": [
      "t\n",
      "h\n",
      "i\n",
      "s\n",
      " \n",
      "i\n",
      "s\n",
      " \n",
      "a\n",
      " \n",
      "s\n",
      "e\n",
      "n\n",
      "t\n",
      "e\n",
      "n\n",
      "c\n",
      "e\n"
     ]
    }
   ],
   "source": [
    "for letter in \"this is a sentence\":\n",
    "    print(letter)"
   ]
  },
  {
   "cell_type": "code",
   "execution_count": 10,
   "id": "26558342-c962-437e-b183-1f50a761f377",
   "metadata": {},
   "outputs": [
    {
     "data": {
      "text/plain": [
       "['my_song_1.flac', 'my_song_2.flac', 'my_song_3.flac', 'my_song_4.flac']"
      ]
     },
     "execution_count": 10,
     "metadata": {},
     "output_type": "execute_result"
    }
   ],
   "source": [
    "# using a for loop\n",
    "converted = []\n",
    "for song in songs:\n",
    "    flac_song = mp3_to_flac(song)\n",
    "    converted.append(flac_song)\n",
    "\n",
    "converted"
   ]
  },
  {
   "cell_type": "code",
   "execution_count": 12,
   "id": "fc6086af-593f-4170-893c-e40274a550f1",
   "metadata": {},
   "outputs": [],
   "source": [
    "result = \"\"\n",
    "def fizzbuzz(number):\n",
    "    if number % 3 == 0 & number % 5 == 0:\n",
    "        result = \"fizzbuzz\"\n",
    "    elif number % 3 == 0:\n",
    "        result = \"fizz\"\n",
    "    elif number % 5 == 0:\n",
    "        result = \"buzz\"\n",
    "    else: \n",
    "        result = number\n",
    "    return result"
   ]
  },
  {
   "cell_type": "code",
   "execution_count": 13,
   "id": "7d9543b5-5380-4ba9-ab1d-dc6e2aa2243b",
   "metadata": {},
   "outputs": [
    {
     "data": {
      "text/plain": [
       "1"
      ]
     },
     "execution_count": 13,
     "metadata": {},
     "output_type": "execute_result"
    }
   ],
   "source": [
    "fizzbuzz(1)"
   ]
  },
  {
   "cell_type": "code",
   "execution_count": 14,
   "id": "6cbbd304-5e5b-4010-b428-c00e4adb0eb9",
   "metadata": {},
   "outputs": [
    {
     "data": {
      "text/plain": [
       "'fizzbuzz'"
      ]
     },
     "execution_count": 14,
     "metadata": {},
     "output_type": "execute_result"
    }
   ],
   "source": [
    "fizzbuzz(15)"
   ]
  },
  {
   "cell_type": "code",
   "execution_count": 18,
   "id": "9bf41d2e-ce9e-4a5b-9a3f-84cae1e10e16",
   "metadata": {},
   "outputs": [
    {
     "name": "stdout",
     "output_type": "stream",
     "text": [
      "[1, 2, 'fizzbuzz', 4, 'buzz', 'fizzbuzz', 7, 8, 'fizzbuzz', 'buzz', 11, 'fizzbuzz', 13, 14, 'fizzbuzz', 16, 17, 'fizzbuzz', 19, 'buzz', 'fizzbuzz', 22, 23, 'fizzbuzz', 'buzz', 26, 'fizzbuzz', 28, 29, 'fizzbuzz', 31, 32, 'fizzbuzz', 34, 'buzz', 'fizzbuzz', 37, 38, 'fizzbuzz', 'buzz', 41, 'fizzbuzz', 43, 44, 'fizzbuzz', 46, 47, 'fizzbuzz', 49, 'buzz', 'fizzbuzz', 52, 53, 'fizzbuzz', 'buzz', 56, 'fizzbuzz', 58, 59, 'fizzbuzz', 61, 62, 'fizzbuzz', 64, 'buzz', 'fizzbuzz', 67, 68, 'fizzbuzz', 'buzz', 71, 'fizzbuzz', 73, 74, 'fizzbuzz', 76, 77, 'fizzbuzz', 79, 'buzz', 'fizzbuzz', 82, 83, 'fizzbuzz', 'buzz', 86, 'fizzbuzz', 88, 89, 'fizzbuzz', 91, 92, 'fizzbuzz', 94, 'buzz', 'fizzbuzz', 97, 98, 'fizzbuzz', 'buzz']\n"
     ]
    }
   ],
   "source": [
    "fizzed_numbers = []\n",
    "for number in range(1, 100+1):\n",
    "    fn = fizzbuzz(number)\n",
    "    fizzed_numbers.append(fn)\n",
    "print(fizzed_numbers)"
   ]
  },
  {
   "cell_type": "code",
   "execution_count": 19,
   "id": "755cb5a6-b2bf-4dc5-ad73-78510c083583",
   "metadata": {},
   "outputs": [
    {
     "name": "stdout",
     "output_type": "stream",
     "text": [
      "(0, 'Monday')\n",
      "(1, 'Tuesday')\n",
      "(2, 'Wednesday')\n",
      "(3, 'Thursday')\n",
      "(4, 'Friday')\n",
      "(5, 'Saturday')\n",
      "(6, 'Sunday')\n"
     ]
    }
   ],
   "source": [
    "# enumerate\n",
    "dow = [\"Monday\", \"Tuesday\", \"Wednesday\", \"Thursday\", \"Friday\", \"Saturday\", \"Sunday\"]\n",
    "for day in enumerate(dow):\n",
    "    print(day)"
   ]
  },
  {
   "cell_type": "code",
   "execution_count": 1,
   "id": "38c33486-a398-40fb-a9b8-b596d4ec02a0",
   "metadata": {},
   "outputs": [],
   "source": [
    "# while loops"
   ]
  },
  {
   "cell_type": "code",
   "execution_count": 2,
   "id": "8c425f48-6a89-4b1f-86c9-5ca6c4b644d2",
   "metadata": {},
   "outputs": [],
   "source": [
    "import random"
   ]
  },
  {
   "cell_type": "code",
   "execution_count": 11,
   "id": "63aa8bb6-546f-4702-9428-65865e04861e",
   "metadata": {},
   "outputs": [],
   "source": [
    "# pretend we get a certain number of visitors to our website per day\n",
    "# our target for visitors is 100,000\n",
    "\n",
    "# the output will be the number of days that it took to reach 100,000 using the len() function\n",
    "target = 100_000\n",
    "visitors = []\n",
    "\n",
    "while sum(visitors) < target:\n",
    "    day = random.randrange(300, 10_000)\n",
    "    visitors.append(day)"
   ]
  },
  {
   "cell_type": "code",
   "execution_count": 12,
   "id": "b64ed8b9-68b5-4fa8-be46-231022bea149",
   "metadata": {},
   "outputs": [
    {
     "data": {
      "text/plain": [
       "16"
      ]
     },
     "execution_count": 12,
     "metadata": {},
     "output_type": "execute_result"
    }
   ],
   "source": [
    "# this is how we are getting the number of days\n",
    "len(visitors)"
   ]
  },
  {
   "cell_type": "code",
   "execution_count": 13,
   "id": "52102fd4-dd74-419e-a1d8-41465254efc5",
   "metadata": {},
   "outputs": [
    {
     "data": {
      "text/plain": [
       "[5600,\n",
       " 8215,\n",
       " 9200,\n",
       " 4165,\n",
       " 9129,\n",
       " 7537,\n",
       " 9861,\n",
       " 6239,\n",
       " 6962,\n",
       " 3982,\n",
       " 7735,\n",
       " 3621,\n",
       " 8997,\n",
       " 3033,\n",
       " 1706,\n",
       " 4710]"
      ]
     },
     "execution_count": 13,
     "metadata": {},
     "output_type": "execute_result"
    }
   ],
   "source": [
    "# here we can see inside the array 'visitors'\n",
    "visitors"
   ]
  },
  {
   "cell_type": "code",
   "execution_count": 17,
   "id": "56ddb9ab-56d4-4310-a8cc-5e4235bd34a5",
   "metadata": {},
   "outputs": [],
   "source": [
    "# using breaks with infinite loops or how not to create an infinite loop\n",
    "# it is important that if you create an infinite loop, to go to the kernel tab and \n",
    "# 'interupt' the kernel and it will stop running\n",
    "# or use a break to get out of an infinite loop"
   ]
  },
  {
   "cell_type": "code",
   "execution_count": 16,
   "id": "2faea81b-eca4-40a6-8723-783a58459a31",
   "metadata": {},
   "outputs": [
    {
     "name": "stdin",
     "output_type": "stream",
     "text": [
      "Do you like the oilers?  no\n",
      "Do you like the oilers?  no\n",
      "Do you like the oilers?  maybe\n",
      "Do you like the oilers?  heck no\n",
      "Do you like the oilers?  stop\n",
      "Do you like the oilers?  yes\n"
     ]
    },
    {
     "name": "stdout",
     "output_type": "stream",
     "text": [
      "that is the correct answer\n"
     ]
    }
   ],
   "source": [
    "while True:\n",
    "    response = input(\"Do you like the oilers? \")\n",
    "    if response.lower() in [\"yes\", 'y']:\n",
    "        print(\"that is the correct answer\")\n",
    "        break"
   ]
  },
  {
   "cell_type": "code",
   "execution_count": 18,
   "id": "15230724-eee5-4e80-8a88-c806535b3895",
   "metadata": {},
   "outputs": [],
   "source": [
    "# list comprehensions"
   ]
  },
  {
   "cell_type": "code",
   "execution_count": 20,
   "id": "73bcf081-992e-48a6-bf90-3292bee848a0",
   "metadata": {},
   "outputs": [],
   "source": [
    "def mp3_to_flac(x):\n",
    "    return f\"my_song_{x.split('.')[0]}.flac\"\n",
    "\n",
    "songs = [\"1.mp3\", \"2.mp3\", \"3.mp3\", \"4.mp3\"]\n",
    "flac_songs = map(mp3_to_flac, songs)"
   ]
  },
  {
   "cell_type": "code",
   "execution_count": 25,
   "id": "9456ab96-6794-4259-91c6-127edd7d2b94",
   "metadata": {},
   "outputs": [
    {
     "data": {
      "text/plain": [
       "['my_song_1.flac', 'my_song_2.flac', 'my_song_3.flac', 'my_song_4.flac']"
      ]
     },
     "execution_count": 25,
     "metadata": {},
     "output_type": "execute_result"
    }
   ],
   "source": [
    "# this is the comprehension -- it is used for when you want something shorthand \n",
    "# but shouldn't be common practice\n",
    "[mp3_to_flac(song) for song in songs]"
   ]
  },
  {
   "cell_type": "code",
   "execution_count": 23,
   "id": "60d2e106-5072-40cc-81db-63a61a19264f",
   "metadata": {},
   "outputs": [
    {
     "name": "stdout",
     "output_type": "stream",
     "text": [
      "['my_song_1.flac', 'my_song_2.flac', 'my_song_3.flac', 'my_song_4.flac']\n"
     ]
    }
   ],
   "source": [
    "flac_songs = []\n",
    "for song in songs:\n",
    "    flac_songs.append(mp3_to_flac(song))\n",
    "print(flac_songs)"
   ]
  },
  {
   "cell_type": "code",
   "execution_count": 26,
   "id": "bb0f28ef-3f47-4b73-a0b1-7df230f6a423",
   "metadata": {},
   "outputs": [],
   "source": [
    "# dictionary comprehension"
   ]
  },
  {
   "cell_type": "code",
   "execution_count": 27,
   "id": "0f28d9cd-1302-4bde-b59d-14c760c5314e",
   "metadata": {},
   "outputs": [],
   "source": [
    "hats = {\"ford\": \"blue\", \"honda\": \"red\", \"suzuki\": \"yellow\"}"
   ]
  },
  {
   "cell_type": "code",
   "execution_count": 28,
   "id": "5f0f75a8-f480-4c29-b5a3-d98781140661",
   "metadata": {},
   "outputs": [
    {
     "data": {
      "text/plain": [
       "'yellow'"
      ]
     },
     "execution_count": 28,
     "metadata": {},
     "output_type": "execute_result"
    }
   ],
   "source": [
    "hats[\"suzuki\"]"
   ]
  },
  {
   "cell_type": "code",
   "execution_count": 31,
   "id": "fa3b69d7-1569-4e7d-9fe5-a49f81ea569f",
   "metadata": {},
   "outputs": [
    {
     "data": {
      "text/plain": [
       "{'ford': 'blue', 'honda': 'red', 'suzuki': 'yellow'}"
      ]
     },
     "execution_count": 31,
     "metadata": {},
     "output_type": "execute_result"
    }
   ],
   "source": [
    "{key: value for key, value in hats.items()}"
   ]
  },
  {
   "cell_type": "code",
   "execution_count": 32,
   "id": "7c0e21dd-9fa2-4fd7-8051-ebf50c6847e6",
   "metadata": {},
   "outputs": [
    {
     "data": {
      "text/plain": [
       "dict_items([('ford', 'blue'), ('honda', 'red'), ('suzuki', 'yellow')])"
      ]
     },
     "execution_count": 32,
     "metadata": {},
     "output_type": "execute_result"
    }
   ],
   "source": [
    "hats.items()"
   ]
  },
  {
   "cell_type": "code",
   "execution_count": 35,
   "id": "39aee7d1-d9df-4273-a0cb-002ef85f16a3",
   "metadata": {},
   "outputs": [
    {
     "data": {
      "text/plain": [
       "{'blue': 'ford', 'red': 'honda', 'yellow': 'suzuki'}"
      ]
     },
     "execution_count": 35,
     "metadata": {},
     "output_type": "execute_result"
    }
   ],
   "source": [
    "# using the comprehension flips the values and the keys\n",
    "dict_invert = {value: key for key, value in hats.items()}\n",
    "dict_invert"
   ]
  },
  {
   "cell_type": "code",
   "execution_count": 38,
   "id": "c3eed3ca-eaef-4c3f-85e2-9deec93e7466",
   "metadata": {},
   "outputs": [
    {
     "data": {
      "text/plain": [
       "'honda'"
      ]
     },
     "execution_count": 38,
     "metadata": {},
     "output_type": "execute_result"
    }
   ],
   "source": [
    "# just showing here why someone might want to do this\n",
    "dict_invert[\"red\"]"
   ]
  },
  {
   "cell_type": "code",
   "execution_count": 39,
   "id": "e9d3e948-b159-4655-9654-046afaa740bf",
   "metadata": {},
   "outputs": [
    {
     "ename": "KeyError",
     "evalue": "'red'",
     "output_type": "error",
     "traceback": [
      "\u001b[1;31m---------------------------------------------------------------------------\u001b[0m",
      "\u001b[1;31mKeyError\u001b[0m                                  Traceback (most recent call last)",
      "Cell \u001b[1;32mIn[39], line 2\u001b[0m\n\u001b[0;32m      1\u001b[0m \u001b[38;5;66;03m# it doesn't work with this first dictionary\u001b[39;00m\n\u001b[1;32m----> 2\u001b[0m \u001b[43mhats\u001b[49m\u001b[43m[\u001b[49m\u001b[38;5;124;43m\"\u001b[39;49m\u001b[38;5;124;43mred\u001b[39;49m\u001b[38;5;124;43m\"\u001b[39;49m\u001b[43m]\u001b[49m\n",
      "\u001b[1;31mKeyError\u001b[0m: 'red'"
     ]
    }
   ],
   "source": [
    "# it doesn't work with this first dictionary\n",
    "hats[\"red\"]"
   ]
  },
  {
   "cell_type": "code",
   "execution_count": 48,
   "id": "fd3268da-8cb2-4006-bb2a-b95318dbfaf9",
   "metadata": {},
   "outputs": [],
   "source": [
    "# Recursion - looks like a countdown?\n",
    "# great package to have for simiar work is tqdm"
   ]
  },
  {
   "cell_type": "code",
   "execution_count": 46,
   "id": "c2e61f96-3095-494a-9e44-cb975fa2911e",
   "metadata": {},
   "outputs": [],
   "source": [
    "def countdown(t):\n",
    "    if t > 0:\n",
    "        print(t)\n",
    "        countdown(t-1)\n",
    "    else:\n",
    "        print(\"boom\")\n",
    "        return"
   ]
  },
  {
   "cell_type": "code",
   "execution_count": 47,
   "id": "1133a1ce-b7ad-493d-afb7-7a74367f4b52",
   "metadata": {},
   "outputs": [
    {
     "name": "stdout",
     "output_type": "stream",
     "text": [
      "10\n",
      "9\n",
      "8\n",
      "7\n",
      "6\n",
      "5\n",
      "4\n",
      "3\n",
      "2\n",
      "1\n",
      "boom\n"
     ]
    }
   ],
   "source": [
    "countdown(10)"
   ]
  },
  {
   "cell_type": "code",
   "execution_count": 5,
   "id": "0b9dcb01-67c6-4974-b93a-69f7769af0e8",
   "metadata": {},
   "outputs": [
    {
     "name": "stderr",
     "output_type": "stream",
     "text": [
      "100%|████████████████████████████████████████████████████████████████| 49/49 [00:23<00:00,  2.04it/s]\n"
     ]
    }
   ],
   "source": [
    "# TQDM - this method is good for webscraping\n",
    "# this is because you don't want to be making a bunch of requests\n",
    "# at once or the website will block your bot - this package is just for \n",
    "# the progress bar though\n",
    "import time\n",
    "import random \n",
    "from tqdm import tqdm\n",
    "\n",
    "pages = range(1, 50)\n",
    "\n",
    "for page in tqdm(pages):\n",
    "    time.sleep(random.randrange(1, 10)/10)"
   ]
  },
  {
   "cell_type": "code",
   "execution_count": 6,
   "id": "ad9c41fe-b1ec-4887-a968-ef0e2548641a",
   "metadata": {},
   "outputs": [],
   "source": [
    "# Challenge Exercise"
   ]
  },
  {
   "cell_type": "code",
   "execution_count": 19,
   "id": "ee3dc41e-332e-4c26-9d24-1f56a9d7ec6b",
   "metadata": {},
   "outputs": [],
   "source": [
    "moves = \"LLLLUUDDRRRR\"\n",
    "\n",
    "def return_package(moves):\n",
    "    x = y = 0\n",
    "    for move in moves:\n",
    "        if move == 'R':\n",
    "            x += 1\n",
    "        if move == 'L':\n",
    "            x -= 1\n",
    "        if move == 'U':\n",
    "            y += 1\n",
    "        if move == 'D':\n",
    "            y -= 1\n",
    "    return x == 0 and y == 0"
   ]
  },
  {
   "cell_type": "code",
   "execution_count": 20,
   "id": "5d6566c3-d435-4129-b51e-1caaf963a504",
   "metadata": {},
   "outputs": [
    {
     "data": {
      "text/plain": [
       "True"
      ]
     },
     "execution_count": 20,
     "metadata": {},
     "output_type": "execute_result"
    }
   ],
   "source": [
    "return_package(moves)"
   ]
  },
  {
   "cell_type": "code",
   "execution_count": null,
   "id": "63d5f4cc-d9ff-451c-974b-68a1fe4b16db",
   "metadata": {},
   "outputs": [],
   "source": []
  },
  {
   "cell_type": "code",
   "execution_count": null,
   "id": "41e53488-4a5e-47c0-912f-a1afa7e50968",
   "metadata": {},
   "outputs": [],
   "source": []
  }
 ],
 "metadata": {
  "kernelspec": {
   "display_name": "Python 3 (ipykernel)",
   "language": "python",
   "name": "python3"
  },
  "language_info": {
   "codemirror_mode": {
    "name": "ipython",
    "version": 3
   },
   "file_extension": ".py",
   "mimetype": "text/x-python",
   "name": "python",
   "nbconvert_exporter": "python",
   "pygments_lexer": "ipython3",
   "version": "3.12.0"
  }
 },
 "nbformat": 4,
 "nbformat_minor": 5
}
