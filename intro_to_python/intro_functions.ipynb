{
 "cells": [
  {
   "cell_type": "code",
   "execution_count": 15,
   "id": "bc2b1617-d19b-42e8-9d9a-e46024dd51e6",
   "metadata": {},
   "outputs": [],
   "source": [
    "# Functions\n",
    "# a method is a function that is attached to a specific\n",
    "# datatype\n",
    "# if the function does not have a return value, it implicitly turns\n",
    "# or returns None"
   ]
  },
  {
   "cell_type": "code",
   "execution_count": 2,
   "id": "64019885-2c8b-4482-b3c1-45c1a6374bab",
   "metadata": {},
   "outputs": [],
   "source": [
    "import chime"
   ]
  },
  {
   "cell_type": "code",
   "execution_count": 5,
   "id": "655a755e-bf15-4f8e-9b84-84f2cebb5c2e",
   "metadata": {},
   "outputs": [],
   "source": [
    "def passed(status):\n",
    "    if (status == True):\n",
    "        sound = chime.success()\n",
    "    else:\n",
    "        sound = chime.error()\n",
    "    return sound"
   ]
  },
  {
   "cell_type": "code",
   "execution_count": 13,
   "id": "93456467-c579-445f-a645-e6fadfdb5ab2",
   "metadata": {},
   "outputs": [],
   "source": [
    "passed(True)"
   ]
  },
  {
   "cell_type": "code",
   "execution_count": 10,
   "id": "c3626958-2de1-41b2-b31d-cbdc0b76ec8a",
   "metadata": {},
   "outputs": [],
   "source": [
    "passed(False)"
   ]
  },
  {
   "cell_type": "code",
   "execution_count": 16,
   "id": "e2c1a882-2c8e-407c-b92c-199c010371bb",
   "metadata": {},
   "outputs": [],
   "source": [
    "# another function"
   ]
  },
  {
   "cell_type": "code",
   "execution_count": 17,
   "id": "461119b0-7055-41a0-9eed-2c1e18a36c23",
   "metadata": {},
   "outputs": [],
   "source": [
    "sentence = \"I love the Oilers, I think they are the best\""
   ]
  },
  {
   "cell_type": "code",
   "execution_count": 18,
   "id": "316440cc-ae70-4bfa-99bf-53d3dff80e91",
   "metadata": {},
   "outputs": [],
   "source": [
    "def pseudoize(s):\n",
    "    s = s.replace(\"love\", \"dislike\")\n",
    "    s = s.replace(\"best\", \"worst\")\n",
    "    return s"
   ]
  },
  {
   "cell_type": "code",
   "execution_count": 19,
   "id": "df351b2f-2d10-4ca0-9152-97b225201b87",
   "metadata": {},
   "outputs": [
    {
     "data": {
      "text/plain": [
       "'I dislike the Oilers, I think they are the worst'"
      ]
     },
     "execution_count": 19,
     "metadata": {},
     "output_type": "execute_result"
    }
   ],
   "source": [
    "pseudoize(sentence)"
   ]
  },
  {
   "cell_type": "code",
   "execution_count": 20,
   "id": "d22090c8-e8ca-40fd-8944-51bac6b6f72a",
   "metadata": {},
   "outputs": [],
   "source": [
    "new_sentence = pseudoize(sentence)"
   ]
  },
  {
   "cell_type": "code",
   "execution_count": 21,
   "id": "b8b31e3c-d086-47df-b107-341592abd3de",
   "metadata": {},
   "outputs": [
    {
     "data": {
      "text/plain": [
       "'I dislike the Oilers, I think they are the worst'"
      ]
     },
     "execution_count": 21,
     "metadata": {},
     "output_type": "execute_result"
    }
   ],
   "source": [
    "new_sentence"
   ]
  },
  {
   "cell_type": "code",
   "execution_count": 22,
   "id": "df032e85-ae06-4802-a296-0c788b845ff7",
   "metadata": {},
   "outputs": [
    {
     "data": {
      "text/plain": [
       "'I love the Oilers, I think they are the best'"
      ]
     },
     "execution_count": 22,
     "metadata": {},
     "output_type": "execute_result"
    }
   ],
   "source": [
    "sentence"
   ]
  },
  {
   "cell_type": "code",
   "execution_count": 23,
   "id": "35e28a42-20f0-4e29-a9eb-8e37c00fa06d",
   "metadata": {},
   "outputs": [],
   "source": [
    "# lambda functions\n",
    "# anonymous functions that are quick and effective"
   ]
  },
  {
   "cell_type": "code",
   "execution_count": 28,
   "id": "da9ede8e-d09c-4321-a0f9-d02c106f5c37",
   "metadata": {},
   "outputs": [],
   "source": [
    "import random"
   ]
  },
  {
   "cell_type": "code",
   "execution_count": 29,
   "id": "a2578f25-4ca1-45e0-a4a6-db7921a1aeff",
   "metadata": {},
   "outputs": [],
   "source": [
    "def dna(length=50):\n",
    "    return \"\".join(random.choices(\"ATGC\", k=length))"
   ]
  },
  {
   "cell_type": "code",
   "execution_count": 30,
   "id": "2cd741ef-089b-4610-b222-97416368d715",
   "metadata": {},
   "outputs": [],
   "source": [
    "# same as the function above with less typing\n",
    "# it seems harder to read though which can be a big deal\n",
    "dna = lambda length: \"\".join(random.choices(\"ATGC\", k=length))"
   ]
  },
  {
   "cell_type": "code",
   "execution_count": 31,
   "id": "9309db5f-745e-465e-b015-37e56ee31e0b",
   "metadata": {
    "scrolled": true
   },
   "outputs": [
    {
     "data": {
      "text/plain": [
       "'CTGTGAACTTGGACGCAGAGGTAACGATCGAGACTAGAATAGCGAGACCT'"
      ]
     },
     "execution_count": 31,
     "metadata": {},
     "output_type": "execute_result"
    }
   ],
   "source": [
    "dna(50)"
   ]
  },
  {
   "cell_type": "code",
   "execution_count": 38,
   "id": "58f4c9bf-9bdf-478c-99af-346b7b03fc77",
   "metadata": {},
   "outputs": [],
   "source": [
    "# filtering\n",
    "# basically returning the list of items that are \n",
    "# ending with mp3"
   ]
  },
  {
   "cell_type": "code",
   "execution_count": 35,
   "id": "157b95d6-b08e-4f82-8be4-971f5692d2db",
   "metadata": {},
   "outputs": [],
   "source": [
    "songs = [\"1.mp3\", \"2.mp3\", \"3.mp3\", \"4.jpg\"]"
   ]
  },
  {
   "cell_type": "code",
   "execution_count": 37,
   "id": "29ed7037-a149-47ea-aaaf-e05b1d2e1eb9",
   "metadata": {},
   "outputs": [
    {
     "data": {
      "text/plain": [
       "['1.mp3', '2.mp3', '3.mp3']"
      ]
     },
     "execution_count": 37,
     "metadata": {},
     "output_type": "execute_result"
    }
   ],
   "source": [
    "list(filter(lambda song: song.endswith(\"mp3\"), songs))"
   ]
  },
  {
   "cell_type": "code",
   "execution_count": 42,
   "id": "3a2c5ae4-3935-4e0d-b86a-5d735d16225a",
   "metadata": {},
   "outputs": [],
   "source": [
    "# map and reduce function"
   ]
  },
  {
   "cell_type": "code",
   "execution_count": 41,
   "id": "0f734741-0469-4b64-92e4-cf184313a922",
   "metadata": {},
   "outputs": [],
   "source": [
    "song = \"1.mp3\""
   ]
  },
  {
   "cell_type": "code",
   "execution_count": 43,
   "id": "4370976e-1739-4bca-8d71-87712062c10b",
   "metadata": {},
   "outputs": [
    {
     "data": {
      "text/plain": [
       "'my_song_1.mp3'"
      ]
     },
     "execution_count": 43,
     "metadata": {},
     "output_type": "execute_result"
    }
   ],
   "source": [
    "f\"my_song_{song}\""
   ]
  },
  {
   "cell_type": "code",
   "execution_count": 45,
   "id": "24164969-5f5b-4c6f-92bf-056f0c47b22e",
   "metadata": {},
   "outputs": [
    {
     "data": {
      "text/plain": [
       "'my_song_1.flac'"
      ]
     },
     "execution_count": 45,
     "metadata": {},
     "output_type": "execute_result"
    }
   ],
   "source": [
    "f\"my_song_{song.split(\".\")[0]}.flac\""
   ]
  },
  {
   "cell_type": "code",
   "execution_count": 47,
   "id": "a5abca27-2791-4d69-9432-711ee2eae749",
   "metadata": {},
   "outputs": [
    {
     "data": {
      "text/plain": [
       "<map at 0x249a9da76d0>"
      ]
     },
     "execution_count": 47,
     "metadata": {},
     "output_type": "execute_result"
    }
   ],
   "source": [
    "map(lambda song: f\"my_song_{song.split(\".\")[0]}.flac\", songs)"
   ]
  },
  {
   "cell_type": "code",
   "execution_count": 48,
   "id": "c0591bf2-52f8-4732-9e8c-a5738b683678",
   "metadata": {},
   "outputs": [
    {
     "data": {
      "text/plain": [
       "['my_song_1.flac', 'my_song_2.flac', 'my_song_3.flac', 'my_song_4.flac']"
      ]
     },
     "execution_count": 48,
     "metadata": {},
     "output_type": "execute_result"
    }
   ],
   "source": [
    "# we always need to add the list function so that we can\n",
    "# see the list of items that we are creating\n",
    "list(map(lambda song: f\"my_song_{song.split(\".\")[0]}.flac\", songs))"
   ]
  },
  {
   "cell_type": "code",
   "execution_count": 50,
   "id": "1ba34f95-6bce-4452-827e-00357980bce4",
   "metadata": {},
   "outputs": [],
   "source": [
    "# reduce\n",
    "from functools import reduce"
   ]
  },
  {
   "cell_type": "code",
   "execution_count": 51,
   "id": "6911e9f8-ecd0-48ce-a9cb-3f45b65f08c8",
   "metadata": {},
   "outputs": [
    {
     "data": {
      "text/plain": [
       "15"
      ]
     },
     "execution_count": 51,
     "metadata": {},
     "output_type": "execute_result"
    }
   ],
   "source": [
    "reduce(lambda result, value: result + value, [1, 2, 3, 4, 5])"
   ]
  },
  {
   "cell_type": "code",
   "execution_count": 52,
   "id": "99a989d6-b1aa-4a58-891d-9f6468f39adc",
   "metadata": {},
   "outputs": [
    {
     "data": {
      "text/plain": [
       "15"
      ]
     },
     "execution_count": 52,
     "metadata": {},
     "output_type": "execute_result"
    }
   ],
   "source": [
    "sum([1, 2, 3, 4, 5])"
   ]
  },
  {
   "cell_type": "code",
   "execution_count": null,
   "id": "933cec1a-e15b-4903-9736-9becc7d374b0",
   "metadata": {},
   "outputs": [],
   "source": []
  }
 ],
 "metadata": {
  "kernelspec": {
   "display_name": "Python 3 (ipykernel)",
   "language": "python",
   "name": "python3"
  },
  "language_info": {
   "codemirror_mode": {
    "name": "ipython",
    "version": 3
   },
   "file_extension": ".py",
   "mimetype": "text/x-python",
   "name": "python",
   "nbconvert_exporter": "python",
   "pygments_lexer": "ipython3",
   "version": "3.12.0"
  }
 },
 "nbformat": 4,
 "nbformat_minor": 5
}
