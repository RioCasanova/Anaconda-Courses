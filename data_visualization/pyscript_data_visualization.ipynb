{
 "cells": [
  {
   "cell_type": "markdown",
   "id": "666b06fe-4e57-4beb-b3c4-0369d6397074",
   "metadata": {},
   "source": [
    "# Data Visualization with Pyscript\n",
    "PyScript is an innovative platform that allows you to run Python code directly in a web browser. It is particularly notable for its use of WebAssembly (WASM), a binary format that enables code written in languages other than JavaScript to be executed in the browser. This technology allows developers to utilize Python for front-end web development, effectively bypassing the need for a server-side backend."
   ]
  },
  {
   "cell_type": "raw",
   "id": "7ccbbcd3-a857-414d-9ed3-84e696fc5b35",
   "metadata": {},
   "source": [
    "<head>\n",
    "    <meta charset=\"utf-8\" />\n",
    "\n",
    "    <title>PyScript Playground</title>\n",
    "\n",
    "    <!-- Here is where we load both the PyScript CSS and JS files-->\n",
    "    <!-- Now we are ready to Play with Python in the Browser -->\n",
    "    <link rel=\"stylesheet\" href=\"https://pyscript.net/latest/pyscript.css\" />\n",
    "    <script defer src=\"https://pyscript.net/latest/pyscript.js\"></script>\n",
    "    \n",
    "    <!-- Here we can put any type of packages that we need-->\n",
    "    <py-config>\n",
    "    </py-config>\n",
    "\n",
    "\n",
    "</head>\n",
    "\n",
    "this is what we would put in the header of our html page where we want to use pyscript. "
   ]
  },
  {
   "cell_type": "markdown",
   "id": "b5963dbc-a6f7-4758-a00c-9414a375f7f4",
   "metadata": {},
   "source": [
    "## \\<py-config> tag\n",
    "before we run the pyscript we need to configure the py-config file if we want to use packages in our code. packages such as matplotlib that we will use to create a plot within the html. Then we can add the config tag in the head of the html file as shown above"
   ]
  },
  {
   "cell_type": "markdown",
   "id": "9a890d2e-45f5-4e76-900a-7d66f2f460cd",
   "metadata": {},
   "source": [
    "## \\<py-script> or \\<script type='py'> tag\n",
    "below is what the basic elements of pyscript looks like. The tag tells the page that everything within that tag is python code and will behave as such.\n",
    "\n",
    "instead of using 'print()', we use 'display()':\n",
    "\n",
    "- we can specify the 'target' parameter that allows you to direct where you want to put the specified information, we can do this with 'id's.\n",
    "- we can also specify the 'append' parameter that tells the program if you want to replace the information on the target or add to it."
   ]
  },
  {
   "cell_type": "raw",
   "id": "0e32eaee-8d9d-45bb-af4b-d21b0bf44781",
   "metadata": {},
   "source": [
    "This is inside the body tag \n",
    "\n",
    "    <!-- Below are the basic elements of a PyScript-->\n",
    "    <script type='py'>\n",
    "        magic = 5\n",
    "        display(\"PyScript Playground number \" + str(magic), target = \"heading\", append = False)\n",
    "\n",
    "\n",
    "        ### Above we are using Python to control the heading of the page!\n",
    "    \n",
    "    </script>"
   ]
  },
  {
   "cell_type": "markdown",
   "id": "5d5b1fbf-6023-49be-9aac-1ca584b5a583",
   "metadata": {},
   "source": [
    "## \\<py-repl> tag\n",
    "the following is wrapped inside the body tag of the html\n",
    "\n",
    "When we use this tag we are telling the browser or program that we want an editor block in this position. This allows us to use python within the browser and write python in a space on the page.\n",
    "\n",
    "it is not recommended to hardcode the code in the html, we should use it from the browser. We can even make changes to the current page from that little editor window."
   ]
  },
  {
   "cell_type": "raw",
   "id": "d794d615-9009-4102-83f7-a49bcdf017a5",
   "metadata": {},
   "source": [
    "<py-repl>\n",
    "        ### The py-repl opens a working python repl in the browser. \n",
    "        \n",
    "        ### !!! Only packages loaded with the py-config can be used here, \n",
    "        ### otherwise you must go to micropip.install(...)\n",
    "    </py-repl>"
   ]
  },
  {
   "cell_type": "markdown",
   "id": "3594e42b-4075-4923-8e93-919dc7684717",
   "metadata": {},
   "source": [
    "# Matplot Visualization"
   ]
  },
  {
   "cell_type": "code",
   "execution_count": null,
   "id": "b304956c-85ff-4119-9277-053e7dac77a8",
   "metadata": {},
   "outputs": [],
   "source": []
  }
 ],
 "metadata": {
  "kernelspec": {
   "display_name": "Python 3 (ipykernel)",
   "language": "python",
   "name": "python3"
  },
  "language_info": {
   "codemirror_mode": {
    "name": "ipython",
    "version": 3
   },
   "file_extension": ".py",
   "mimetype": "text/x-python",
   "name": "python",
   "nbconvert_exporter": "python",
   "pygments_lexer": "ipython3",
   "version": "3.12.0"
  }
 },
 "nbformat": 4,
 "nbformat_minor": 5
}
